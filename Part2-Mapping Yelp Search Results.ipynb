{
 "cells": [
  {
   "cell_type": "markdown",
   "id": "c6d4c9a7",
   "metadata": {
    "id": "8guYh-VR7nlX"
   },
   "source": [
    "# Part 2 - Mapping Yelp Search Results"
   ]
  },
  {
   "cell_type": "markdown",
   "id": "9be6e6c0",
   "metadata": {},
   "source": []
  },
  {
   "cell_type": "markdown",
   "id": "8f1dfbbf",
   "metadata": {},
   "source": [
    "## Obective"
   ]
  },
  {
   "cell_type": "markdown",
   "id": "37daea31",
   "metadata": {
    "id": "8guYh-VR7nlX"
   },
   "source": [
    "- For this CodeAlong, we will be working with the Yelp API results from last class. \n",
    "- You will load in the .csv.gz of your yelp results and prepare the data for visualization.\n",
    "- You will use Plotly Express to create an interactive map with all of the results."
   ]
  },
  {
   "cell_type": "markdown",
   "id": "0a02a2fd",
   "metadata": {
    "id": "8guYh-VR7nlX"
   },
   "source": [
    "## Tools You Will Use\n",
    "- Part 1:\n",
    "    - Yelp API:\n",
    "        - Getting Started: \n",
    "            - https://www.yelp.com/developers/documentation/v3/get_started\n",
    "\n",
    "    - `YelpAPI` python package\n",
    "        -  \"YelpAPI\": https://github.com/gfairchild/yelpapi\n",
    "- Part 2:\n",
    "\n",
    "    - Plotly Express: https://plotly.com/python/getting-started/\n",
    "        - With Mapbox API: https://www.mapbox.com/\n",
    "        - `px.scatter_mapbox` [Documentation](https://plotly.com/python/scattermapbox/): \n",
    "\n",
    "\n"
   ]
  },
  {
   "cell_type": "markdown",
   "id": "a3f15049",
   "metadata": {},
   "source": [
    "### Applying Code From\n",
    "- [Advanced Transformations with Pandas - Part 1](https://login.codingdojo.com/m/376/12529/88086)\n",
    "- [Advanced Transformations with Pandas - Part 2](https://login.codingdojo.com/m/376/12529/88088)"
   ]
  },
  {
   "cell_type": "markdown",
   "id": "745e757f",
   "metadata": {},
   "source": [
    "### Goal"
   ]
  },
  {
   "cell_type": "markdown",
   "id": "a27ea8f9",
   "metadata": {},
   "source": [
    "- We want to create a map with every restaurant plotted as a scatter plot with detailed information that appears when we hover over a business\n",
    "- We will use plotly express's `px.scatter_mapbox` function to accomplish this.\n",
    "    - https://plotly.com/python/scattermapbox/\n",
    "    \n",
    "    - We will need a Mapbox API token for some of the options:\n",
    "        - https://studio.mapbox.com/\n",
    "    "
   ]
  },
  {
   "cell_type": "markdown",
   "id": "8c50b2b6",
   "metadata": {},
   "source": [
    "# Loading Data from Part 1"
   ]
  },
  {
   "cell_type": "code",
   "execution_count": 180,
   "id": "ffa40ba8",
   "metadata": {},
   "outputs": [
    {
     "name": "stdout",
     "output_type": "stream",
     "text": [
      "Requirement already satisfied: plotly in /opt/homebrew/Caskroom/miniforge/base/envs/dojo-env/lib/python3.8/site-packages (5.6.0)\r\n",
      "Requirement already satisfied: tenacity>=6.2.0 in /opt/homebrew/Caskroom/miniforge/base/envs/dojo-env/lib/python3.8/site-packages (from plotly) (8.0.1)\r\n",
      "Requirement already satisfied: six in /opt/homebrew/Caskroom/miniforge/base/envs/dojo-env/lib/python3.8/site-packages (from plotly) (1.15.0)\r\n"
     ]
    }
   ],
   "source": [
    "## Plotly is not included in your dojo-env\n",
    "!pip install plotly"
   ]
  },
  {
   "cell_type": "code",
   "execution_count": 181,
   "id": "6c26b323",
   "metadata": {},
   "outputs": [],
   "source": [
    "# Standard Imports\n",
    "import numpy as np\n",
    "import pandas as pd\n",
    "import matplotlib.pyplot as plt\n",
    "import seaborn as sns\n",
    "\n",
    "import json\n",
    "\n",
    "## importing plotly \n",
    "import plotly.express as px"
   ]
  },
  {
   "cell_type": "code",
   "execution_count": 182,
   "id": "73f882e7",
   "metadata": {},
   "outputs": [
    {
     "name": "stdout",
     "output_type": "stream",
     "text": [
      "<class 'pandas.core.frame.DataFrame'>\n",
      "RangeIndex: 840 entries, 0 to 839\n",
      "Data columns (total 16 columns):\n",
      " #   Column         Non-Null Count  Dtype  \n",
      "---  ------         --------------  -----  \n",
      " 0   id             840 non-null    object \n",
      " 1   alias          840 non-null    object \n",
      " 2   name           840 non-null    object \n",
      " 3   image_url      828 non-null    object \n",
      " 4   is_closed      840 non-null    bool   \n",
      " 5   url            840 non-null    object \n",
      " 6   review_count   840 non-null    int64  \n",
      " 7   categories     840 non-null    object \n",
      " 8   rating         840 non-null    float64\n",
      " 9   coordinates    840 non-null    object \n",
      " 10  transactions   840 non-null    object \n",
      " 11  location       840 non-null    object \n",
      " 12  phone          807 non-null    float64\n",
      " 13  display_phone  807 non-null    object \n",
      " 14  distance       840 non-null    float64\n",
      " 15  price          750 non-null    object \n",
      "dtypes: bool(1), float64(3), int64(1), object(11)\n",
      "memory usage: 99.4+ KB\n"
     ]
    },
    {
     "data": {
      "text/html": [
       "<div>\n",
       "<style scoped>\n",
       "    .dataframe tbody tr th:only-of-type {\n",
       "        vertical-align: middle;\n",
       "    }\n",
       "\n",
       "    .dataframe tbody tr th {\n",
       "        vertical-align: top;\n",
       "    }\n",
       "\n",
       "    .dataframe thead th {\n",
       "        text-align: right;\n",
       "    }\n",
       "</style>\n",
       "<table border=\"1\" class=\"dataframe\">\n",
       "  <thead>\n",
       "    <tr style=\"text-align: right;\">\n",
       "      <th></th>\n",
       "      <th>id</th>\n",
       "      <th>alias</th>\n",
       "      <th>name</th>\n",
       "      <th>image_url</th>\n",
       "      <th>is_closed</th>\n",
       "      <th>url</th>\n",
       "      <th>review_count</th>\n",
       "      <th>categories</th>\n",
       "      <th>rating</th>\n",
       "      <th>coordinates</th>\n",
       "      <th>transactions</th>\n",
       "      <th>location</th>\n",
       "      <th>phone</th>\n",
       "      <th>display_phone</th>\n",
       "      <th>distance</th>\n",
       "      <th>price</th>\n",
       "    </tr>\n",
       "  </thead>\n",
       "  <tbody>\n",
       "    <tr>\n",
       "      <th>0</th>\n",
       "      <td>FVbwpNA1uZEGiM02N4XtUg</td>\n",
       "      <td>blotto-seattle</td>\n",
       "      <td>Blotto</td>\n",
       "      <td>https://s3-media3.fl.yelpcdn.com/bphoto/Q4Y1Cw...</td>\n",
       "      <td>False</td>\n",
       "      <td>https://www.yelp.com/biz/blotto-seattle?adjust...</td>\n",
       "      <td>24</td>\n",
       "      <td>[{'alias': 'pizza', 'title': 'Pizza'}]</td>\n",
       "      <td>5.0</td>\n",
       "      <td>{'latitude': 47.61849, 'longitude': -122.31664}</td>\n",
       "      <td>[]</td>\n",
       "      <td>{'address1': '1830 12th Ave', 'address2': '', ...</td>\n",
       "      <td>1.206403e+10</td>\n",
       "      <td>(206) 403-1809</td>\n",
       "      <td>1686.862176</td>\n",
       "      <td>NaN</td>\n",
       "    </tr>\n",
       "    <tr>\n",
       "      <th>1</th>\n",
       "      <td>Wi6LFkjIausYj277ru6pqg</td>\n",
       "      <td>humble-pie-seattle</td>\n",
       "      <td>Humble Pie</td>\n",
       "      <td>https://s3-media1.fl.yelpcdn.com/bphoto/9tK83_...</td>\n",
       "      <td>False</td>\n",
       "      <td>https://www.yelp.com/biz/humble-pie-seattle?ad...</td>\n",
       "      <td>344</td>\n",
       "      <td>[{'alias': 'pizza', 'title': 'Pizza'}]</td>\n",
       "      <td>4.0</td>\n",
       "      <td>{'latitude': 47.5976491915013, 'longitude': -1...</td>\n",
       "      <td>['delivery']</td>\n",
       "      <td>{'address1': '525 Rainier Ave S', 'address2': ...</td>\n",
       "      <td>1.206330e+10</td>\n",
       "      <td>(206) 329-5133</td>\n",
       "      <td>2166.834011</td>\n",
       "      <td>$$</td>\n",
       "    </tr>\n",
       "    <tr>\n",
       "      <th>2</th>\n",
       "      <td>EwrAoy7XbX8nfemZdDvupA</td>\n",
       "      <td>cornelly-seattle</td>\n",
       "      <td>Cornelly</td>\n",
       "      <td>https://s3-media4.fl.yelpcdn.com/bphoto/HlYYBT...</td>\n",
       "      <td>False</td>\n",
       "      <td>https://www.yelp.com/biz/cornelly-seattle?adju...</td>\n",
       "      <td>77</td>\n",
       "      <td>[{'alias': 'pizza', 'title': 'Pizza'}, {'alias...</td>\n",
       "      <td>4.5</td>\n",
       "      <td>{'latitude': 47.624577, 'longitude': -122.325577}</td>\n",
       "      <td>['pickup', 'delivery']</td>\n",
       "      <td>{'address1': '601 Summit Ave E', 'address2': '...</td>\n",
       "      <td>NaN</td>\n",
       "      <td>NaN</td>\n",
       "      <td>2578.701393</td>\n",
       "      <td>NaN</td>\n",
       "    </tr>\n",
       "    <tr>\n",
       "      <th>3</th>\n",
       "      <td>ugTsEtjvwRhteac_6JcuPw</td>\n",
       "      <td>italian-family-pizza-seattle</td>\n",
       "      <td>Italian Family Pizza</td>\n",
       "      <td>https://s3-media2.fl.yelpcdn.com/bphoto/SgiSrJ...</td>\n",
       "      <td>False</td>\n",
       "      <td>https://www.yelp.com/biz/italian-family-pizza-...</td>\n",
       "      <td>966</td>\n",
       "      <td>[{'alias': 'pizza', 'title': 'Pizza'}, {'alias...</td>\n",
       "      <td>4.0</td>\n",
       "      <td>{'latitude': 47.60937, 'longitude': -122.32546}</td>\n",
       "      <td>['pickup', 'delivery']</td>\n",
       "      <td>{'address1': '1028 Madison St', 'address2': No...</td>\n",
       "      <td>1.206538e+10</td>\n",
       "      <td>(206) 538-0040</td>\n",
       "      <td>2271.307105</td>\n",
       "      <td>$$</td>\n",
       "    </tr>\n",
       "    <tr>\n",
       "      <th>4</th>\n",
       "      <td>Ss_66zV-zhK_57_6MgV93w</td>\n",
       "      <td>aglio-e-olio-seattle</td>\n",
       "      <td>Aglio e Olio</td>\n",
       "      <td>https://s3-media2.fl.yelpcdn.com/bphoto/inrSl1...</td>\n",
       "      <td>False</td>\n",
       "      <td>https://www.yelp.com/biz/aglio-e-olio-seattle?...</td>\n",
       "      <td>267</td>\n",
       "      <td>[{'alias': 'italian', 'title': 'Italian'}, {'a...</td>\n",
       "      <td>4.5</td>\n",
       "      <td>{'latitude': 47.62323, 'longitude': -122.29593}</td>\n",
       "      <td>['delivery']</td>\n",
       "      <td>{'address1': '2743 E Madison St', 'address2': ...</td>\n",
       "      <td>1.206710e+10</td>\n",
       "      <td>(206) 709-8883</td>\n",
       "      <td>1130.900743</td>\n",
       "      <td>$$</td>\n",
       "    </tr>\n",
       "  </tbody>\n",
       "</table>\n",
       "</div>"
      ],
      "text/plain": [
       "                       id                         alias                  name  \\\n",
       "0  FVbwpNA1uZEGiM02N4XtUg                blotto-seattle                Blotto   \n",
       "1  Wi6LFkjIausYj277ru6pqg            humble-pie-seattle            Humble Pie   \n",
       "2  EwrAoy7XbX8nfemZdDvupA              cornelly-seattle              Cornelly   \n",
       "3  ugTsEtjvwRhteac_6JcuPw  italian-family-pizza-seattle  Italian Family Pizza   \n",
       "4  Ss_66zV-zhK_57_6MgV93w          aglio-e-olio-seattle          Aglio e Olio   \n",
       "\n",
       "                                           image_url  is_closed  \\\n",
       "0  https://s3-media3.fl.yelpcdn.com/bphoto/Q4Y1Cw...      False   \n",
       "1  https://s3-media1.fl.yelpcdn.com/bphoto/9tK83_...      False   \n",
       "2  https://s3-media4.fl.yelpcdn.com/bphoto/HlYYBT...      False   \n",
       "3  https://s3-media2.fl.yelpcdn.com/bphoto/SgiSrJ...      False   \n",
       "4  https://s3-media2.fl.yelpcdn.com/bphoto/inrSl1...      False   \n",
       "\n",
       "                                                 url  review_count  \\\n",
       "0  https://www.yelp.com/biz/blotto-seattle?adjust...            24   \n",
       "1  https://www.yelp.com/biz/humble-pie-seattle?ad...           344   \n",
       "2  https://www.yelp.com/biz/cornelly-seattle?adju...            77   \n",
       "3  https://www.yelp.com/biz/italian-family-pizza-...           966   \n",
       "4  https://www.yelp.com/biz/aglio-e-olio-seattle?...           267   \n",
       "\n",
       "                                          categories  rating  \\\n",
       "0             [{'alias': 'pizza', 'title': 'Pizza'}]     5.0   \n",
       "1             [{'alias': 'pizza', 'title': 'Pizza'}]     4.0   \n",
       "2  [{'alias': 'pizza', 'title': 'Pizza'}, {'alias...     4.5   \n",
       "3  [{'alias': 'pizza', 'title': 'Pizza'}, {'alias...     4.0   \n",
       "4  [{'alias': 'italian', 'title': 'Italian'}, {'a...     4.5   \n",
       "\n",
       "                                         coordinates            transactions  \\\n",
       "0    {'latitude': 47.61849, 'longitude': -122.31664}                      []   \n",
       "1  {'latitude': 47.5976491915013, 'longitude': -1...            ['delivery']   \n",
       "2  {'latitude': 47.624577, 'longitude': -122.325577}  ['pickup', 'delivery']   \n",
       "3    {'latitude': 47.60937, 'longitude': -122.32546}  ['pickup', 'delivery']   \n",
       "4    {'latitude': 47.62323, 'longitude': -122.29593}            ['delivery']   \n",
       "\n",
       "                                            location         phone  \\\n",
       "0  {'address1': '1830 12th Ave', 'address2': '', ...  1.206403e+10   \n",
       "1  {'address1': '525 Rainier Ave S', 'address2': ...  1.206330e+10   \n",
       "2  {'address1': '601 Summit Ave E', 'address2': '...           NaN   \n",
       "3  {'address1': '1028 Madison St', 'address2': No...  1.206538e+10   \n",
       "4  {'address1': '2743 E Madison St', 'address2': ...  1.206710e+10   \n",
       "\n",
       "    display_phone     distance price  \n",
       "0  (206) 403-1809  1686.862176   NaN  \n",
       "1  (206) 329-5133  2166.834011    $$  \n",
       "2             NaN  2578.701393   NaN  \n",
       "3  (206) 538-0040  2271.307105    $$  \n",
       "4  (206) 709-8883  1130.900743    $$  "
      ]
     },
     "execution_count": 182,
     "metadata": {},
     "output_type": "execute_result"
    }
   ],
   "source": [
    "## Load in csv.gz\n",
    "df = pd.read_csv(\"Data/Seattle-Pizza.csv.gz\")\n",
    "df.info()\n",
    "df.head()"
   ]
  },
  {
   "cell_type": "markdown",
   "id": "182d9a50",
   "metadata": {},
   "source": [
    "## Required Preprocessing "
   ]
  },
  {
   "cell_type": "markdown",
   "id": "9db8a265",
   "metadata": {},
   "source": [
    "- 1. We need to get the latitude and longitude for each business as separate columns.\n",
    "- We also want to be able to show the restaurants:\n",
    "    - name,\n",
    "    - price range\n",
    "    - address\n",
    "    - and if they do delivery or takeout."
   ]
  },
  {
   "cell_type": "markdown",
   "id": "13d541ac",
   "metadata": {},
   "source": [
    "### Separating Latitude and Longitude"
   ]
  },
  {
   "cell_type": "code",
   "execution_count": 183,
   "id": "825c85f0",
   "metadata": {},
   "outputs": [
    {
     "data": {
      "text/html": [
       "<div>\n",
       "<style scoped>\n",
       "    .dataframe tbody tr th:only-of-type {\n",
       "        vertical-align: middle;\n",
       "    }\n",
       "\n",
       "    .dataframe tbody tr th {\n",
       "        vertical-align: top;\n",
       "    }\n",
       "\n",
       "    .dataframe thead th {\n",
       "        text-align: right;\n",
       "    }\n",
       "</style>\n",
       "<table border=\"1\" class=\"dataframe\">\n",
       "  <thead>\n",
       "    <tr style=\"text-align: right;\">\n",
       "      <th></th>\n",
       "      <th>0</th>\n",
       "    </tr>\n",
       "  </thead>\n",
       "  <tbody>\n",
       "    <tr>\n",
       "      <th>0</th>\n",
       "      <td>{'latitude': 47.61849, 'longitude': -122.31664}</td>\n",
       "    </tr>\n",
       "    <tr>\n",
       "      <th>1</th>\n",
       "      <td>{'latitude': 47.5976491915013, 'longitude': -1...</td>\n",
       "    </tr>\n",
       "    <tr>\n",
       "      <th>2</th>\n",
       "      <td>{'latitude': 47.624577, 'longitude': -122.325577}</td>\n",
       "    </tr>\n",
       "    <tr>\n",
       "      <th>3</th>\n",
       "      <td>{'latitude': 47.60937, 'longitude': -122.32546}</td>\n",
       "    </tr>\n",
       "    <tr>\n",
       "      <th>4</th>\n",
       "      <td>{'latitude': 47.62323, 'longitude': -122.29593}</td>\n",
       "    </tr>\n",
       "    <tr>\n",
       "      <th>...</th>\n",
       "      <td>...</td>\n",
       "    </tr>\n",
       "    <tr>\n",
       "      <th>835</th>\n",
       "      <td>{'latitude': 47.667511119207, 'longitude': -12...</td>\n",
       "    </tr>\n",
       "    <tr>\n",
       "      <th>836</th>\n",
       "      <td>{'latitude': 47.6157033283809, 'longitude': -1...</td>\n",
       "    </tr>\n",
       "    <tr>\n",
       "      <th>837</th>\n",
       "      <td>{'latitude': 47.55172, 'longitude': -122.36327}</td>\n",
       "    </tr>\n",
       "    <tr>\n",
       "      <th>838</th>\n",
       "      <td>{'latitude': 47.676215, 'longitude': -122.205084}</td>\n",
       "    </tr>\n",
       "    <tr>\n",
       "      <th>839</th>\n",
       "      <td>{'latitude': 47.6196463475606, 'longitude': -1...</td>\n",
       "    </tr>\n",
       "  </tbody>\n",
       "</table>\n",
       "<p>840 rows × 1 columns</p>\n",
       "</div>"
      ],
      "text/plain": [
       "                                                     0\n",
       "0      {'latitude': 47.61849, 'longitude': -122.31664}\n",
       "1    {'latitude': 47.5976491915013, 'longitude': -1...\n",
       "2    {'latitude': 47.624577, 'longitude': -122.325577}\n",
       "3      {'latitude': 47.60937, 'longitude': -122.32546}\n",
       "4      {'latitude': 47.62323, 'longitude': -122.29593}\n",
       "..                                                 ...\n",
       "835  {'latitude': 47.667511119207, 'longitude': -12...\n",
       "836  {'latitude': 47.6157033283809, 'longitude': -1...\n",
       "837    {'latitude': 47.55172, 'longitude': -122.36327}\n",
       "838  {'latitude': 47.676215, 'longitude': -122.205084}\n",
       "839  {'latitude': 47.6196463475606, 'longitude': -1...\n",
       "\n",
       "[840 rows x 1 columns]"
      ]
     },
     "execution_count": 183,
     "metadata": {},
     "output_type": "execute_result"
    }
   ],
   "source": [
    "## use .apply pd.Series to convert a dict to columns\n",
    "df['coordinates'].apply(pd.Series)"
   ]
  },
  {
   "cell_type": "markdown",
   "id": "faecca22",
   "metadata": {},
   "source": [
    "- Why didn't that work???"
   ]
  },
  {
   "cell_type": "code",
   "execution_count": 184,
   "id": "4c52b779",
   "metadata": {},
   "outputs": [
    {
     "data": {
      "text/plain": [
       "\"{'latitude': 47.61849, 'longitude': -122.31664}\""
      ]
     },
     "execution_count": 184,
     "metadata": {},
     "output_type": "execute_result"
    }
   ],
   "source": [
    "## slice out a single test coordinate\n",
    "test_coord = df.loc[0,'coordinates']\n",
    "test_coord"
   ]
  },
  {
   "cell_type": "code",
   "execution_count": 185,
   "id": "63d9d70e",
   "metadata": {},
   "outputs": [
    {
     "data": {
      "text/plain": [
       "str"
      ]
     },
     "execution_count": 185,
     "metadata": {},
     "output_type": "execute_result"
    }
   ],
   "source": [
    "type(test_coord)"
   ]
  },
  {
   "cell_type": "markdown",
   "id": "819d8252",
   "metadata": {},
   "source": [
    "- Its not a dictionary anymore!!! WTF??\n",
    "    - CSV files cant store iterables (lists, dictionaries) so they get converted to strings."
   ]
  },
  {
   "cell_type": "markdown",
   "id": "df7e7c71",
   "metadata": {},
   "source": [
    "### Fixing the String-Dictionaries"
   ]
  },
  {
   "cell_type": "markdown",
   "id": "76185b76",
   "metadata": {},
   "source": [
    "- The json module has another version of load and dump called `json.loads` and `json.dumps`\n",
    "    - These are designed to process STRINGS instead of files. \n",
    "    \n",
    "- If we use `json.loads` we can convert our string dictionary into an actual dictionary. "
   ]
  },
  {
   "cell_type": "code",
   "execution_count": 186,
   "id": "8e4ab9ed",
   "metadata": {},
   "outputs": [],
   "source": [
    "## Use json.loads on the test coordinate\n",
    "#json.loads(test_coord)"
   ]
  },
  {
   "cell_type": "markdown",
   "id": "89771042",
   "metadata": {},
   "source": [
    "- JSON requires double quotes!"
   ]
  },
  {
   "cell_type": "code",
   "execution_count": 187,
   "id": "25a459c3",
   "metadata": {},
   "outputs": [],
   "source": [
    "## replace single ' with \" \n",
    "test_coord = test_coord.replace(\"'\",'\"')"
   ]
  },
  {
   "cell_type": "code",
   "execution_count": 188,
   "id": "baf7b4ce",
   "metadata": {},
   "outputs": [
    {
     "data": {
      "text/plain": [
       "{'latitude': 47.61849, 'longitude': -122.31664}"
      ]
     },
     "execution_count": 188,
     "metadata": {},
     "output_type": "execute_result"
    }
   ],
   "source": [
    "## Use json.loads on the test coordinate, again\n",
    "json.loads(test_coord)"
   ]
  },
  {
   "cell_type": "code",
   "execution_count": 189,
   "id": "c0d146d1",
   "metadata": {},
   "outputs": [
    {
     "data": {
      "text/plain": [
       "{'latitude': 47.61849, 'longitude': -122.31664}"
      ]
     },
     "execution_count": 189,
     "metadata": {},
     "output_type": "execute_result"
    }
   ],
   "source": [
    "json.loads(test_coord)"
   ]
  },
  {
   "cell_type": "markdown",
   "id": "ac9a2c61",
   "metadata": {},
   "source": [
    "### Now, how can we apply this same process to the entire column??"
   ]
  },
  {
   "cell_type": "code",
   "execution_count": 190,
   "id": "f8e0431e",
   "metadata": {},
   "outputs": [],
   "source": [
    "# method 1\n",
    "# df['coordinates'].str.replace(\"'\",'\"')"
   ]
  },
  {
   "cell_type": "code",
   "execution_count": 191,
   "id": "9e9827c9",
   "metadata": {},
   "outputs": [],
   "source": [
    "# # method 2\n",
    "# df['coordinates'] = df['coordinates'].apply(lambda cell : cell.replace(\"'\",'\"'))\n",
    "# df['coordinates'] = df['coordinates'].apply(json.loads)\n",
    "# df['coordinates'].apply(pd.Series)"
   ]
  },
  {
   "cell_type": "code",
   "execution_count": 192,
   "id": "2f929622",
   "metadata": {},
   "outputs": [],
   "source": [
    "# Power of Lambda\n",
    "\n",
    "lat_long = df['coordinates'].apply(lambda cell : pd.Series(json.loads(cell.replace(\"'\",'\"'))))"
   ]
  },
  {
   "cell_type": "code",
   "execution_count": 193,
   "id": "09c48e7d",
   "metadata": {},
   "outputs": [
    {
     "data": {
      "text/html": [
       "<div>\n",
       "<style scoped>\n",
       "    .dataframe tbody tr th:only-of-type {\n",
       "        vertical-align: middle;\n",
       "    }\n",
       "\n",
       "    .dataframe tbody tr th {\n",
       "        vertical-align: top;\n",
       "    }\n",
       "\n",
       "    .dataframe thead th {\n",
       "        text-align: right;\n",
       "    }\n",
       "</style>\n",
       "<table border=\"1\" class=\"dataframe\">\n",
       "  <thead>\n",
       "    <tr style=\"text-align: right;\">\n",
       "      <th></th>\n",
       "      <th>latitude</th>\n",
       "      <th>longitude</th>\n",
       "    </tr>\n",
       "  </thead>\n",
       "  <tbody>\n",
       "    <tr>\n",
       "      <th>0</th>\n",
       "      <td>47.618490</td>\n",
       "      <td>-122.316640</td>\n",
       "    </tr>\n",
       "    <tr>\n",
       "      <th>1</th>\n",
       "      <td>47.597649</td>\n",
       "      <td>-122.313306</td>\n",
       "    </tr>\n",
       "    <tr>\n",
       "      <th>2</th>\n",
       "      <td>47.624577</td>\n",
       "      <td>-122.325577</td>\n",
       "    </tr>\n",
       "    <tr>\n",
       "      <th>3</th>\n",
       "      <td>47.609370</td>\n",
       "      <td>-122.325460</td>\n",
       "    </tr>\n",
       "    <tr>\n",
       "      <th>4</th>\n",
       "      <td>47.623230</td>\n",
       "      <td>-122.295930</td>\n",
       "    </tr>\n",
       "    <tr>\n",
       "      <th>...</th>\n",
       "      <td>...</td>\n",
       "      <td>...</td>\n",
       "    </tr>\n",
       "    <tr>\n",
       "      <th>835</th>\n",
       "      <td>47.667511</td>\n",
       "      <td>-122.375935</td>\n",
       "    </tr>\n",
       "    <tr>\n",
       "      <th>836</th>\n",
       "      <td>47.615703</td>\n",
       "      <td>-122.200735</td>\n",
       "    </tr>\n",
       "    <tr>\n",
       "      <th>837</th>\n",
       "      <td>47.551720</td>\n",
       "      <td>-122.363270</td>\n",
       "    </tr>\n",
       "    <tr>\n",
       "      <th>838</th>\n",
       "      <td>47.676215</td>\n",
       "      <td>-122.205084</td>\n",
       "    </tr>\n",
       "    <tr>\n",
       "      <th>839</th>\n",
       "      <td>47.619646</td>\n",
       "      <td>-122.196551</td>\n",
       "    </tr>\n",
       "  </tbody>\n",
       "</table>\n",
       "<p>840 rows × 2 columns</p>\n",
       "</div>"
      ],
      "text/plain": [
       "      latitude   longitude\n",
       "0    47.618490 -122.316640\n",
       "1    47.597649 -122.313306\n",
       "2    47.624577 -122.325577\n",
       "3    47.609370 -122.325460\n",
       "4    47.623230 -122.295930\n",
       "..         ...         ...\n",
       "835  47.667511 -122.375935\n",
       "836  47.615703 -122.200735\n",
       "837  47.551720 -122.363270\n",
       "838  47.676215 -122.205084\n",
       "839  47.619646 -122.196551\n",
       "\n",
       "[840 rows x 2 columns]"
      ]
     },
     "execution_count": 193,
     "metadata": {},
     "output_type": "execute_result"
    }
   ],
   "source": [
    "lat_long"
   ]
  },
  {
   "cell_type": "code",
   "execution_count": 194,
   "id": "b417c990",
   "metadata": {},
   "outputs": [],
   "source": [
    "## slice out a single test coordinate\n"
   ]
  },
  {
   "cell_type": "markdown",
   "id": "a825c2f4",
   "metadata": {},
   "source": [
    "### Using Apply with pd.Series to convert a dictionary column into multiple columns"
   ]
  },
  {
   "cell_type": "code",
   "execution_count": 196,
   "id": "9b06ad2c",
   "metadata": {},
   "outputs": [],
   "source": [
    "# ## use .apply pd.Series to convert a dict to columns\n",
    "# df['coordinates'].apply(pd.Series)"
   ]
  },
  {
   "cell_type": "code",
   "execution_count": 197,
   "id": "a09d00b1",
   "metadata": {},
   "outputs": [
    {
     "data": {
      "text/html": [
       "<div>\n",
       "<style scoped>\n",
       "    .dataframe tbody tr th:only-of-type {\n",
       "        vertical-align: middle;\n",
       "    }\n",
       "\n",
       "    .dataframe tbody tr th {\n",
       "        vertical-align: top;\n",
       "    }\n",
       "\n",
       "    .dataframe thead th {\n",
       "        text-align: right;\n",
       "    }\n",
       "</style>\n",
       "<table border=\"1\" class=\"dataframe\">\n",
       "  <thead>\n",
       "    <tr style=\"text-align: right;\">\n",
       "      <th></th>\n",
       "      <th>id</th>\n",
       "      <th>alias</th>\n",
       "      <th>name</th>\n",
       "      <th>image_url</th>\n",
       "      <th>is_closed</th>\n",
       "      <th>url</th>\n",
       "      <th>review_count</th>\n",
       "      <th>categories</th>\n",
       "      <th>rating</th>\n",
       "      <th>transactions</th>\n",
       "      <th>location</th>\n",
       "      <th>phone</th>\n",
       "      <th>display_phone</th>\n",
       "      <th>distance</th>\n",
       "      <th>price</th>\n",
       "      <th>latitude</th>\n",
       "      <th>longitude</th>\n",
       "    </tr>\n",
       "  </thead>\n",
       "  <tbody>\n",
       "    <tr>\n",
       "      <th>0</th>\n",
       "      <td>FVbwpNA1uZEGiM02N4XtUg</td>\n",
       "      <td>blotto-seattle</td>\n",
       "      <td>Blotto</td>\n",
       "      <td>https://s3-media3.fl.yelpcdn.com/bphoto/Q4Y1Cw...</td>\n",
       "      <td>False</td>\n",
       "      <td>https://www.yelp.com/biz/blotto-seattle?adjust...</td>\n",
       "      <td>24</td>\n",
       "      <td>[{'alias': 'pizza', 'title': 'Pizza'}]</td>\n",
       "      <td>5.0</td>\n",
       "      <td>[]</td>\n",
       "      <td>{'address1': '1830 12th Ave', 'address2': '', ...</td>\n",
       "      <td>1.206403e+10</td>\n",
       "      <td>(206) 403-1809</td>\n",
       "      <td>1686.862176</td>\n",
       "      <td>NaN</td>\n",
       "      <td>47.618490</td>\n",
       "      <td>-122.316640</td>\n",
       "    </tr>\n",
       "    <tr>\n",
       "      <th>1</th>\n",
       "      <td>Wi6LFkjIausYj277ru6pqg</td>\n",
       "      <td>humble-pie-seattle</td>\n",
       "      <td>Humble Pie</td>\n",
       "      <td>https://s3-media1.fl.yelpcdn.com/bphoto/9tK83_...</td>\n",
       "      <td>False</td>\n",
       "      <td>https://www.yelp.com/biz/humble-pie-seattle?ad...</td>\n",
       "      <td>344</td>\n",
       "      <td>[{'alias': 'pizza', 'title': 'Pizza'}]</td>\n",
       "      <td>4.0</td>\n",
       "      <td>['delivery']</td>\n",
       "      <td>{'address1': '525 Rainier Ave S', 'address2': ...</td>\n",
       "      <td>1.206330e+10</td>\n",
       "      <td>(206) 329-5133</td>\n",
       "      <td>2166.834011</td>\n",
       "      <td>$$</td>\n",
       "      <td>47.597649</td>\n",
       "      <td>-122.313306</td>\n",
       "    </tr>\n",
       "    <tr>\n",
       "      <th>2</th>\n",
       "      <td>EwrAoy7XbX8nfemZdDvupA</td>\n",
       "      <td>cornelly-seattle</td>\n",
       "      <td>Cornelly</td>\n",
       "      <td>https://s3-media4.fl.yelpcdn.com/bphoto/HlYYBT...</td>\n",
       "      <td>False</td>\n",
       "      <td>https://www.yelp.com/biz/cornelly-seattle?adju...</td>\n",
       "      <td>77</td>\n",
       "      <td>[{'alias': 'pizza', 'title': 'Pizza'}, {'alias...</td>\n",
       "      <td>4.5</td>\n",
       "      <td>['pickup', 'delivery']</td>\n",
       "      <td>{'address1': '601 Summit Ave E', 'address2': '...</td>\n",
       "      <td>NaN</td>\n",
       "      <td>NaN</td>\n",
       "      <td>2578.701393</td>\n",
       "      <td>NaN</td>\n",
       "      <td>47.624577</td>\n",
       "      <td>-122.325577</td>\n",
       "    </tr>\n",
       "    <tr>\n",
       "      <th>3</th>\n",
       "      <td>ugTsEtjvwRhteac_6JcuPw</td>\n",
       "      <td>italian-family-pizza-seattle</td>\n",
       "      <td>Italian Family Pizza</td>\n",
       "      <td>https://s3-media2.fl.yelpcdn.com/bphoto/SgiSrJ...</td>\n",
       "      <td>False</td>\n",
       "      <td>https://www.yelp.com/biz/italian-family-pizza-...</td>\n",
       "      <td>966</td>\n",
       "      <td>[{'alias': 'pizza', 'title': 'Pizza'}, {'alias...</td>\n",
       "      <td>4.0</td>\n",
       "      <td>['pickup', 'delivery']</td>\n",
       "      <td>{'address1': '1028 Madison St', 'address2': No...</td>\n",
       "      <td>1.206538e+10</td>\n",
       "      <td>(206) 538-0040</td>\n",
       "      <td>2271.307105</td>\n",
       "      <td>$$</td>\n",
       "      <td>47.609370</td>\n",
       "      <td>-122.325460</td>\n",
       "    </tr>\n",
       "    <tr>\n",
       "      <th>4</th>\n",
       "      <td>Ss_66zV-zhK_57_6MgV93w</td>\n",
       "      <td>aglio-e-olio-seattle</td>\n",
       "      <td>Aglio e Olio</td>\n",
       "      <td>https://s3-media2.fl.yelpcdn.com/bphoto/inrSl1...</td>\n",
       "      <td>False</td>\n",
       "      <td>https://www.yelp.com/biz/aglio-e-olio-seattle?...</td>\n",
       "      <td>267</td>\n",
       "      <td>[{'alias': 'italian', 'title': 'Italian'}, {'a...</td>\n",
       "      <td>4.5</td>\n",
       "      <td>['delivery']</td>\n",
       "      <td>{'address1': '2743 E Madison St', 'address2': ...</td>\n",
       "      <td>1.206710e+10</td>\n",
       "      <td>(206) 709-8883</td>\n",
       "      <td>1130.900743</td>\n",
       "      <td>$$</td>\n",
       "      <td>47.623230</td>\n",
       "      <td>-122.295930</td>\n",
       "    </tr>\n",
       "    <tr>\n",
       "      <th>...</th>\n",
       "      <td>...</td>\n",
       "      <td>...</td>\n",
       "      <td>...</td>\n",
       "      <td>...</td>\n",
       "      <td>...</td>\n",
       "      <td>...</td>\n",
       "      <td>...</td>\n",
       "      <td>...</td>\n",
       "      <td>...</td>\n",
       "      <td>...</td>\n",
       "      <td>...</td>\n",
       "      <td>...</td>\n",
       "      <td>...</td>\n",
       "      <td>...</td>\n",
       "      <td>...</td>\n",
       "      <td>...</td>\n",
       "      <td>...</td>\n",
       "    </tr>\n",
       "    <tr>\n",
       "      <th>835</th>\n",
       "      <td>7tQY7TW-oYhAztdpUVgfZQ</td>\n",
       "      <td>subway-seattle-127</td>\n",
       "      <td>Subway</td>\n",
       "      <td>https://s3-media2.fl.yelpcdn.com/bphoto/KFiJVP...</td>\n",
       "      <td>False</td>\n",
       "      <td>https://www.yelp.com/biz/subway-seattle-127?ad...</td>\n",
       "      <td>39</td>\n",
       "      <td>[{'alias': 'sandwiches', 'title': 'Sandwiches'}]</td>\n",
       "      <td>3.0</td>\n",
       "      <td>['pickup', 'delivery']</td>\n",
       "      <td>{'address1': '5300 15th Ave NW', 'address2': '...</td>\n",
       "      <td>1.206790e+10</td>\n",
       "      <td>(206) 789-5434</td>\n",
       "      <td>8529.998816</td>\n",
       "      <td>$</td>\n",
       "      <td>47.667511</td>\n",
       "      <td>-122.375935</td>\n",
       "    </tr>\n",
       "    <tr>\n",
       "      <th>836</th>\n",
       "      <td>rcDbUcs83gvoRxhaTmFfnQ</td>\n",
       "      <td>cypress-lounge-and-wine-bar-bellevue</td>\n",
       "      <td>Cypress Lounge &amp; Wine Bar</td>\n",
       "      <td>https://s3-media2.fl.yelpcdn.com/bphoto/DsFhIb...</td>\n",
       "      <td>False</td>\n",
       "      <td>https://www.yelp.com/biz/cypress-lounge-and-wi...</td>\n",
       "      <td>63</td>\n",
       "      <td>[{'alias': 'wine_bars', 'title': 'Wine Bars'},...</td>\n",
       "      <td>3.5</td>\n",
       "      <td>[]</td>\n",
       "      <td>{'address1': '600 Bellevue Way NE', 'address2'...</td>\n",
       "      <td>1.425638e+10</td>\n",
       "      <td>(425) 638-1000</td>\n",
       "      <td>7123.208902</td>\n",
       "      <td>$$</td>\n",
       "      <td>47.615703</td>\n",
       "      <td>-122.200735</td>\n",
       "    </tr>\n",
       "    <tr>\n",
       "      <th>837</th>\n",
       "      <td>G-p5SgQnBM5e8XxMMO1qOg</td>\n",
       "      <td>pho-aroma-seattle-2</td>\n",
       "      <td>Pho Aroma</td>\n",
       "      <td>https://s3-media1.fl.yelpcdn.com/bphoto/BCxDac...</td>\n",
       "      <td>False</td>\n",
       "      <td>https://www.yelp.com/biz/pho-aroma-seattle-2?a...</td>\n",
       "      <td>384</td>\n",
       "      <td>[{'alias': 'vietnamese', 'title': 'Vietnamese'...</td>\n",
       "      <td>4.0</td>\n",
       "      <td>['delivery']</td>\n",
       "      <td>{'address1': '5605 Delridge Way SW', 'address2...</td>\n",
       "      <td>1.206932e+10</td>\n",
       "      <td>(206) 932-4343</td>\n",
       "      <td>8499.808775</td>\n",
       "      <td>$$</td>\n",
       "      <td>47.551720</td>\n",
       "      <td>-122.363270</td>\n",
       "    </tr>\n",
       "    <tr>\n",
       "      <th>838</th>\n",
       "      <td>8S3qU0TGMJDyj4KHBmxlaw</td>\n",
       "      <td>pho-tai-kirkland</td>\n",
       "      <td>Pho Tai</td>\n",
       "      <td>https://s3-media3.fl.yelpcdn.com/bphoto/tnvGkA...</td>\n",
       "      <td>False</td>\n",
       "      <td>https://www.yelp.com/biz/pho-tai-kirkland?adju...</td>\n",
       "      <td>184</td>\n",
       "      <td>[{'alias': 'vietnamese', 'title': 'Vietnamese'...</td>\n",
       "      <td>3.5</td>\n",
       "      <td>['delivery', 'pickup']</td>\n",
       "      <td>{'address1': '147 Park Ln', 'address2': '', 'a...</td>\n",
       "      <td>1.425577e+10</td>\n",
       "      <td>(425) 576-5407</td>\n",
       "      <td>9765.353049</td>\n",
       "      <td>$$</td>\n",
       "      <td>47.676215</td>\n",
       "      <td>-122.205084</td>\n",
       "    </tr>\n",
       "    <tr>\n",
       "      <th>839</th>\n",
       "      <td>i8mygke4ckycOudTO_3UQQ</td>\n",
       "      <td>café-cesura-bellevue-4</td>\n",
       "      <td>Café Cesura</td>\n",
       "      <td>https://s3-media3.fl.yelpcdn.com/bphoto/t6NpST...</td>\n",
       "      <td>False</td>\n",
       "      <td>https://www.yelp.com/biz/caf%C3%A9-cesura-bell...</td>\n",
       "      <td>537</td>\n",
       "      <td>[{'alias': 'coffee', 'title': 'Coffee &amp; Tea'},...</td>\n",
       "      <td>3.5</td>\n",
       "      <td>['delivery']</td>\n",
       "      <td>{'address1': '1015 108th Ave NE', 'address2': ...</td>\n",
       "      <td>1.425955e+10</td>\n",
       "      <td>(425) 954-7277</td>\n",
       "      <td>7466.233853</td>\n",
       "      <td>$</td>\n",
       "      <td>47.619646</td>\n",
       "      <td>-122.196551</td>\n",
       "    </tr>\n",
       "  </tbody>\n",
       "</table>\n",
       "<p>840 rows × 17 columns</p>\n",
       "</div>"
      ],
      "text/plain": [
       "                         id                                 alias  \\\n",
       "0    FVbwpNA1uZEGiM02N4XtUg                        blotto-seattle   \n",
       "1    Wi6LFkjIausYj277ru6pqg                    humble-pie-seattle   \n",
       "2    EwrAoy7XbX8nfemZdDvupA                      cornelly-seattle   \n",
       "3    ugTsEtjvwRhteac_6JcuPw          italian-family-pizza-seattle   \n",
       "4    Ss_66zV-zhK_57_6MgV93w                  aglio-e-olio-seattle   \n",
       "..                      ...                                   ...   \n",
       "835  7tQY7TW-oYhAztdpUVgfZQ                    subway-seattle-127   \n",
       "836  rcDbUcs83gvoRxhaTmFfnQ  cypress-lounge-and-wine-bar-bellevue   \n",
       "837  G-p5SgQnBM5e8XxMMO1qOg                   pho-aroma-seattle-2   \n",
       "838  8S3qU0TGMJDyj4KHBmxlaw                      pho-tai-kirkland   \n",
       "839  i8mygke4ckycOudTO_3UQQ                café-cesura-bellevue-4   \n",
       "\n",
       "                          name  \\\n",
       "0                       Blotto   \n",
       "1                   Humble Pie   \n",
       "2                     Cornelly   \n",
       "3         Italian Family Pizza   \n",
       "4                 Aglio e Olio   \n",
       "..                         ...   \n",
       "835                     Subway   \n",
       "836  Cypress Lounge & Wine Bar   \n",
       "837                  Pho Aroma   \n",
       "838                    Pho Tai   \n",
       "839                Café Cesura   \n",
       "\n",
       "                                             image_url  is_closed  \\\n",
       "0    https://s3-media3.fl.yelpcdn.com/bphoto/Q4Y1Cw...      False   \n",
       "1    https://s3-media1.fl.yelpcdn.com/bphoto/9tK83_...      False   \n",
       "2    https://s3-media4.fl.yelpcdn.com/bphoto/HlYYBT...      False   \n",
       "3    https://s3-media2.fl.yelpcdn.com/bphoto/SgiSrJ...      False   \n",
       "4    https://s3-media2.fl.yelpcdn.com/bphoto/inrSl1...      False   \n",
       "..                                                 ...        ...   \n",
       "835  https://s3-media2.fl.yelpcdn.com/bphoto/KFiJVP...      False   \n",
       "836  https://s3-media2.fl.yelpcdn.com/bphoto/DsFhIb...      False   \n",
       "837  https://s3-media1.fl.yelpcdn.com/bphoto/BCxDac...      False   \n",
       "838  https://s3-media3.fl.yelpcdn.com/bphoto/tnvGkA...      False   \n",
       "839  https://s3-media3.fl.yelpcdn.com/bphoto/t6NpST...      False   \n",
       "\n",
       "                                                   url  review_count  \\\n",
       "0    https://www.yelp.com/biz/blotto-seattle?adjust...            24   \n",
       "1    https://www.yelp.com/biz/humble-pie-seattle?ad...           344   \n",
       "2    https://www.yelp.com/biz/cornelly-seattle?adju...            77   \n",
       "3    https://www.yelp.com/biz/italian-family-pizza-...           966   \n",
       "4    https://www.yelp.com/biz/aglio-e-olio-seattle?...           267   \n",
       "..                                                 ...           ...   \n",
       "835  https://www.yelp.com/biz/subway-seattle-127?ad...            39   \n",
       "836  https://www.yelp.com/biz/cypress-lounge-and-wi...            63   \n",
       "837  https://www.yelp.com/biz/pho-aroma-seattle-2?a...           384   \n",
       "838  https://www.yelp.com/biz/pho-tai-kirkland?adju...           184   \n",
       "839  https://www.yelp.com/biz/caf%C3%A9-cesura-bell...           537   \n",
       "\n",
       "                                            categories  rating  \\\n",
       "0               [{'alias': 'pizza', 'title': 'Pizza'}]     5.0   \n",
       "1               [{'alias': 'pizza', 'title': 'Pizza'}]     4.0   \n",
       "2    [{'alias': 'pizza', 'title': 'Pizza'}, {'alias...     4.5   \n",
       "3    [{'alias': 'pizza', 'title': 'Pizza'}, {'alias...     4.0   \n",
       "4    [{'alias': 'italian', 'title': 'Italian'}, {'a...     4.5   \n",
       "..                                                 ...     ...   \n",
       "835   [{'alias': 'sandwiches', 'title': 'Sandwiches'}]     3.0   \n",
       "836  [{'alias': 'wine_bars', 'title': 'Wine Bars'},...     3.5   \n",
       "837  [{'alias': 'vietnamese', 'title': 'Vietnamese'...     4.0   \n",
       "838  [{'alias': 'vietnamese', 'title': 'Vietnamese'...     3.5   \n",
       "839  [{'alias': 'coffee', 'title': 'Coffee & Tea'},...     3.5   \n",
       "\n",
       "               transactions  \\\n",
       "0                        []   \n",
       "1              ['delivery']   \n",
       "2    ['pickup', 'delivery']   \n",
       "3    ['pickup', 'delivery']   \n",
       "4              ['delivery']   \n",
       "..                      ...   \n",
       "835  ['pickup', 'delivery']   \n",
       "836                      []   \n",
       "837            ['delivery']   \n",
       "838  ['delivery', 'pickup']   \n",
       "839            ['delivery']   \n",
       "\n",
       "                                              location         phone  \\\n",
       "0    {'address1': '1830 12th Ave', 'address2': '', ...  1.206403e+10   \n",
       "1    {'address1': '525 Rainier Ave S', 'address2': ...  1.206330e+10   \n",
       "2    {'address1': '601 Summit Ave E', 'address2': '...           NaN   \n",
       "3    {'address1': '1028 Madison St', 'address2': No...  1.206538e+10   \n",
       "4    {'address1': '2743 E Madison St', 'address2': ...  1.206710e+10   \n",
       "..                                                 ...           ...   \n",
       "835  {'address1': '5300 15th Ave NW', 'address2': '...  1.206790e+10   \n",
       "836  {'address1': '600 Bellevue Way NE', 'address2'...  1.425638e+10   \n",
       "837  {'address1': '5605 Delridge Way SW', 'address2...  1.206932e+10   \n",
       "838  {'address1': '147 Park Ln', 'address2': '', 'a...  1.425577e+10   \n",
       "839  {'address1': '1015 108th Ave NE', 'address2': ...  1.425955e+10   \n",
       "\n",
       "      display_phone     distance price   latitude   longitude  \n",
       "0    (206) 403-1809  1686.862176   NaN  47.618490 -122.316640  \n",
       "1    (206) 329-5133  2166.834011    $$  47.597649 -122.313306  \n",
       "2               NaN  2578.701393   NaN  47.624577 -122.325577  \n",
       "3    (206) 538-0040  2271.307105    $$  47.609370 -122.325460  \n",
       "4    (206) 709-8883  1130.900743    $$  47.623230 -122.295930  \n",
       "..              ...          ...   ...        ...         ...  \n",
       "835  (206) 789-5434  8529.998816     $  47.667511 -122.375935  \n",
       "836  (425) 638-1000  7123.208902    $$  47.615703 -122.200735  \n",
       "837  (206) 932-4343  8499.808775    $$  47.551720 -122.363270  \n",
       "838  (425) 576-5407  9765.353049    $$  47.676215 -122.205084  \n",
       "839  (425) 954-7277  7466.233853     $  47.619646 -122.196551  \n",
       "\n",
       "[840 rows x 17 columns]"
      ]
     },
     "execution_count": 197,
     "metadata": {},
     "output_type": "execute_result"
    }
   ],
   "source": [
    "## Concatenate the 2 new columns and drop the original.\n",
    "df = pd.concat([df.drop(columns = ['coordinates']),lat_long],axis =1)\n",
    "df"
   ]
  },
  {
   "cell_type": "markdown",
   "id": "56b25f7a",
   "metadata": {},
   "source": [
    "## Creating a Simple Map"
   ]
  },
  {
   "cell_type": "markdown",
   "id": "cd5bc110",
   "metadata": {},
   "source": [
    "### Register for MapBox API"
   ]
  },
  {
   "cell_type": "markdown",
   "id": "73c91d8f",
   "metadata": {},
   "source": [
    "Mapbox API: https://www.mapbox.com/"
   ]
  },
  {
   "cell_type": "code",
   "execution_count": null,
   "id": "2e9b4e94",
   "metadata": {},
   "outputs": [],
   "source": [
    "## Load in mapbox api credentials from .secret\n"
   ]
  },
  {
   "cell_type": "markdown",
   "id": "cdb5689c",
   "metadata": {},
   "source": [
    "- Use the plotly express `set_maptbox_acccess_token` function"
   ]
  },
  {
   "cell_type": "code",
   "execution_count": null,
   "id": "7bf3a1c1",
   "metadata": {},
   "outputs": [],
   "source": [
    "## set mapbox token\n"
   ]
  },
  {
   "cell_type": "code",
   "execution_count": null,
   "id": "2214befe",
   "metadata": {},
   "outputs": [],
   "source": [
    "## use scatter_mapbox for M.V.P map\n"
   ]
  },
  {
   "cell_type": "markdown",
   "id": "d5b72ef0",
   "metadata": {},
   "source": [
    "### Adding Hover Data"
   ]
  },
  {
   "cell_type": "markdown",
   "id": "300eddca",
   "metadata": {},
   "source": [
    "- We want to show the restaurants:\n",
    "    - name\n",
    "    - price range\n",
    "    - address\n",
    "    - and if they do delivery or takeout.\n",
    "    \n",
    "    \n",
    "- We can use the `hover_name` and `hover_data` arguments for `px.scatter_mapbox` to add this info!"
   ]
  },
  {
   "cell_type": "code",
   "execution_count": null,
   "id": "46a7ef9e",
   "metadata": {},
   "outputs": [],
   "source": []
  },
  {
   "cell_type": "code",
   "execution_count": null,
   "id": "e05e4e1b",
   "metadata": {
    "scrolled": true
   },
   "outputs": [],
   "source": [
    "## add hover_name (name) and hover_data for price,rating,location\n"
   ]
  },
  {
   "cell_type": "markdown",
   "id": "09d744ca",
   "metadata": {},
   "source": [
    "### Fixing the Location Column"
   ]
  },
  {
   "cell_type": "code",
   "execution_count": null,
   "id": "15e6afdc",
   "metadata": {},
   "outputs": [],
   "source": [
    "## slice out a test address\n"
   ]
  },
  {
   "cell_type": "markdown",
   "id": "b573de0f",
   "metadata": {},
   "source": [
    "> Also a string-dictionary..."
   ]
  },
  {
   "cell_type": "code",
   "execution_count": null,
   "id": "e5862a23",
   "metadata": {},
   "outputs": [],
   "source": [
    "## replace ' with \"\n",
    "df['location'] = df['location'].str.replace(\"'\", '\"')\n",
    "df"
   ]
  },
  {
   "cell_type": "code",
   "execution_count": null,
   "id": "1606ed4a",
   "metadata": {},
   "outputs": [],
   "source": [
    "## apply json.loads\n"
   ]
  },
  {
   "cell_type": "markdown",
   "id": "6e3fc5c2",
   "metadata": {},
   "source": [
    "> Ruh roh....\n",
    "\n",
    "- Hmm, let's slice out a test_address again and let's write a function to accomplish this instead.\n",
    "    - We can use try and except in our function to get around the errors."
   ]
  },
  {
   "cell_type": "markdown",
   "id": "b0fe3a7a",
   "metadata": {},
   "source": [
    "### Fixing Addresses - with a custom function\n"
   ]
  },
  {
   "cell_type": "code",
   "execution_count": null,
   "id": "b1964520",
   "metadata": {},
   "outputs": [],
   "source": [
    "## slice out test address \n",
    "test_addr = df.loc[0, 'location']\n",
    "test_addr"
   ]
  },
  {
   "cell_type": "code",
   "execution_count": null,
   "id": "89ee686e",
   "metadata": {},
   "outputs": [],
   "source": [
    "## write a function to just run json.loads on the address\n"
   ]
  },
  {
   "cell_type": "code",
   "execution_count": null,
   "id": "0d25f01b",
   "metadata": {},
   "outputs": [],
   "source": [
    "## test applying our function\n"
   ]
  },
  {
   "cell_type": "markdown",
   "id": "c8cbc436",
   "metadata": {},
   "source": [
    "- It worked! Now let's save this as a new column (display_location),\n",
    "and then let's investigate the businesses that had an \"ERROR\"."
   ]
  },
  {
   "cell_type": "code",
   "execution_count": null,
   "id": "49a511e8",
   "metadata": {},
   "outputs": [],
   "source": [
    "### save a new display_location column using our function\n"
   ]
  },
  {
   "cell_type": "code",
   "execution_count": null,
   "id": "346a2869",
   "metadata": {},
   "outputs": [],
   "source": [
    "## filter for businesses with display_location == \"ERROR\"\n"
   ]
  },
  {
   "cell_type": "code",
   "execution_count": null,
   "id": "9c115199",
   "metadata": {},
   "outputs": [],
   "source": [
    "## slice out a new test address and inspect\n",
    "test_addr = df.loc[437, 'location']\n",
    "test_addr"
   ]
  },
  {
   "cell_type": "markdown",
   "id": "448fa8c6",
   "metadata": {},
   "source": [
    "> After some more investigation, we would find a few issues with these \"ERROR\" rows.\n",
    "1. They contained None.\n",
    "2. They contained an apostrophe in the name.\n",
    "3. ...?"
   ]
  },
  {
   "cell_type": "markdown",
   "id": "68a960d4",
   "metadata": {},
   "source": [
    "### Possible Fixes (if we care to/have the time)\n"
   ]
  },
  {
   "cell_type": "markdown",
   "id": "7c21eda1",
   "metadata": {},
   "source": [
    "- Use Regular Expressions to find an fix the display addresses with \"'\" in them\n",
    "- Use string split to split on the word display address.\n",
    "    - Then use string methods to clean up"
   ]
  },
  {
   "cell_type": "markdown",
   "id": "df8d68fb",
   "metadata": {},
   "source": [
    "### Moving Forward without those rows (for now)"
   ]
  },
  {
   "cell_type": "code",
   "execution_count": null,
   "id": "bddbcc87",
   "metadata": {},
   "outputs": [],
   "source": [
    "## remove any rows where display_location == 'ERROR'\n"
   ]
  },
  {
   "cell_type": "markdown",
   "id": "c1338cd2",
   "metadata": {},
   "source": [
    "- We want the \"display_address\" key from the \"display_location\" dictionaries.\n",
    "- We could use a .apply and a lamda to slice out the desired key."
   ]
  },
  {
   "cell_type": "code",
   "execution_count": null,
   "id": "82544b10",
   "metadata": {},
   "outputs": [],
   "source": [
    "## use apply and lambda to slice correct key\n"
   ]
  },
  {
   "cell_type": "markdown",
   "id": "c65a79ab",
   "metadata": {},
   "source": [
    "- Almost done! We want to convert display_address to a string instead a list of strings.\n",
    "- We can use the string method .join to do so!"
   ]
  },
  {
   "cell_type": "code",
   "execution_count": null,
   "id": "5f64f1dd",
   "metadata": {},
   "outputs": [],
   "source": [
    "## slice out a test_address\n"
   ]
  },
  {
   "cell_type": "code",
   "execution_count": null,
   "id": "876bb98e",
   "metadata": {},
   "outputs": [],
   "source": [
    "## test using .join with a \"\\n\"\n"
   ]
  },
  {
   "cell_type": "code",
   "execution_count": null,
   "id": "55a6176d",
   "metadata": {
    "scrolled": true
   },
   "outputs": [],
   "source": [
    "## apply the join to every row with a lambda\n"
   ]
  },
  {
   "cell_type": "markdown",
   "id": "09b90087",
   "metadata": {},
   "source": [
    "### Final Map"
   ]
  },
  {
   "cell_type": "code",
   "execution_count": null,
   "id": "0afd236d",
   "metadata": {},
   "outputs": [],
   "source": [
    "## make ourn final map and save as varaible\n"
   ]
  },
  {
   "cell_type": "markdown",
   "id": "47e93ee3",
   "metadata": {},
   "source": [
    "#### HTML Uses `<br>` instead of `\\n`"
   ]
  },
  {
   "cell_type": "code",
   "execution_count": null,
   "id": "d2758626",
   "metadata": {},
   "outputs": [],
   "source": [
    "## remake the final address column with <br> instead \n",
    "\n",
    "## plot the final map"
   ]
  },
  {
   "cell_type": "code",
   "execution_count": null,
   "id": "79e43699",
   "metadata": {},
   "outputs": [],
   "source": [
    "## use fig.write_html to save map\n"
   ]
  }
 ],
 "metadata": {
  "kernelspec": {
   "display_name": "Python (dojo-env)",
   "language": "python",
   "name": "dojo-env"
  },
  "language_info": {
   "codemirror_mode": {
    "name": "ipython",
    "version": 3
   },
   "file_extension": ".py",
   "mimetype": "text/x-python",
   "name": "python",
   "nbconvert_exporter": "python",
   "pygments_lexer": "ipython3",
   "version": "3.8.13"
  },
  "toc": {
   "base_numbering": 1,
   "nav_menu": {},
   "number_sections": false,
   "sideBar": true,
   "skip_h1_title": false,
   "title_cell": "Table of Contents",
   "title_sidebar": "Contents",
   "toc_cell": false,
   "toc_position": {
    "height": "calc(100% - 180px)",
    "left": "10px",
    "top": "150px",
    "width": "299.195px"
   },
   "toc_section_display": true,
   "toc_window_display": true
  }
 },
 "nbformat": 4,
 "nbformat_minor": 5
}
