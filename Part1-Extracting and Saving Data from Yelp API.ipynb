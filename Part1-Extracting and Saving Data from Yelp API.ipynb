{
 "cells": [
  {
   "cell_type": "markdown",
   "metadata": {
    "id": "8guYh-VR7nlX"
   },
   "source": [
    "# Part 1 - Extracting and Saving Data from Yelp API"
   ]
  },
  {
   "cell_type": "markdown",
   "metadata": {},
   "source": [
    "## Obective"
   ]
  },
  {
   "cell_type": "markdown",
   "metadata": {
    "id": "8guYh-VR7nlX"
   },
   "source": [
    "- For this CodeAlong, we will be working with the Yelp API. \n",
    "- You will use the the Yelp API to search your home town for a cuisine type of your choice.\n",
    "- Next class, we will then use Plotly Express to create a map with the Mapbox API to visualize the results.\n",
    "    \n",
    "    "
   ]
  },
  {
   "cell_type": "markdown",
   "metadata": {
    "id": "8guYh-VR7nlX"
   },
   "source": [
    "## Tools You Will Use\n",
    "- Part 1:\n",
    "    - Yelp API:\n",
    "        - Getting Started: \n",
    "            - https://www.yelp.com/developers/documentation/v3/get_started\n",
    "\n",
    "    - `YelpAPI` python package\n",
    "        -  \"YelpAPI\": https://github.com/gfairchild/yelpapi\n",
    "- Part 2:\n",
    "\n",
    "    - Plotly Express: https://plotly.com/python/getting-started/\n",
    "        - With Mapbox API: https://www.mapbox.com/\n",
    "        - `px.scatter_mapbox` [Documentation](https://plotly.com/python/scattermapbox/): \n",
    "\n",
    "\n"
   ]
  },
  {
   "cell_type": "markdown",
   "metadata": {},
   "source": [
    "### Applying Code From\n",
    "- Efficient API Calls Lesson Link: https://login.codingdojo.com/m/376/12529/88078"
   ]
  },
  {
   "cell_type": "code",
   "execution_count": 2,
   "metadata": {},
   "outputs": [],
   "source": [
    "# Standard Imports\n",
    "import numpy as np\n",
    "import pandas as pd\n",
    "import matplotlib.pyplot as plt\n",
    "import seaborn as sns\n",
    "\n",
    "# Additional Imports\n",
    "import os, json, math, time\n",
    "from yelpapi import YelpAPI\n",
    "from tqdm.notebook import tqdm_notebook"
   ]
  },
  {
   "cell_type": "markdown",
   "metadata": {
    "id": "1l3Z-79nBSX9"
   },
   "source": [
    "## 1. Registering for Required APIs"
   ]
  },
  {
   "cell_type": "markdown",
   "metadata": {
    "id": "1l3Z-79nBSX9"
   },
   "source": [
    "\n",
    "- Yelp: https://www.yelp.com/developers/documentation/v3/get_started\n"
   ]
  },
  {
   "cell_type": "markdown",
   "metadata": {},
   "source": [
    "> Check the official API documentation to know what arguments we can search for: https://www.yelp.com/developers/documentation/v3/business_search"
   ]
  },
  {
   "cell_type": "markdown",
   "metadata": {},
   "source": [
    "### Load Credentials and Create Yelp API Object"
   ]
  },
  {
   "cell_type": "code",
   "execution_count": 3,
   "metadata": {
    "ExecuteTime": {
     "end_time": "2022-03-25T18:20:46.629934Z",
     "start_time": "2022-03-25T18:20:45.915864Z"
    },
    "colab": {
     "base_uri": "https://localhost:8080/"
    },
    "id": "xJYqVvNkE36a",
    "outputId": "67798160-dea2-41fc-9040-2b3833efa560"
   },
   "outputs": [
    {
     "data": {
      "text/plain": [
       "dict_keys(['Client-ID', 'API Key'])"
      ]
     },
     "execution_count": 3,
     "metadata": {},
     "output_type": "execute_result"
    }
   ],
   "source": [
    "# Load API Credentials\n",
    "with open('/Users/purvikansara/.secret/yelp_api.json') as f:\n",
    "    creds = json.load(f)\n",
    "creds.keys()"
   ]
  },
  {
   "cell_type": "code",
   "execution_count": 3,
   "metadata": {},
   "outputs": [
    {
     "data": {
      "text/plain": [
       "'HsJ2_Ur3gUElE7C7c_5oj86feE_g573PiBA44nQ1MTVGuWq4FffTxd82I7Hb38ESWKC3CY-JHtfoA7OSdU32DLJbUNfJjiqeJ0jZDnKqk1TqlJ5dxVMKjEa-WaO6YnYx'"
      ]
     },
     "execution_count": 3,
     "metadata": {},
     "output_type": "execute_result"
    }
   ],
   "source": [
    "creds['API Key']"
   ]
  },
  {
   "cell_type": "code",
   "execution_count": 4,
   "metadata": {},
   "outputs": [
    {
     "data": {
      "text/plain": [
       "<yelpapi.yelpapi.YelpAPI at 0x153189460>"
      ]
     },
     "execution_count": 4,
     "metadata": {},
     "output_type": "execute_result"
    }
   ],
   "source": [
    "# Instantiate YelpAPI Variable\n",
    "yelp = YelpAPI(creds['API Key'],timeout_s = 5.0)\n",
    "yelp"
   ]
  },
  {
   "cell_type": "markdown",
   "metadata": {},
   "source": [
    "### Define Search Terms and File Paths"
   ]
  },
  {
   "cell_type": "code",
   "execution_count": 5,
   "metadata": {},
   "outputs": [],
   "source": [
    "# set our API call parameters and filename before the first call\n",
    "TERM = 'Pizza'\n",
    "LOCATION = 'Seattle, WA 98122'"
   ]
  },
  {
   "cell_type": "code",
   "execution_count": 6,
   "metadata": {},
   "outputs": [],
   "source": [
    "## Specify fodler for saving data\n",
    "FOLDER = \"Data/\"\n",
    "os.makedirs(FOLDER,exist_ok =True)\n",
    "\n",
    "# Specifying JSON_FILE filename (can include a folder)\n",
    "JSON_FILE = FOLDER+ f\"{LOCATION.split(',')[0]}-{TERM}.json\""
   ]
  },
  {
   "cell_type": "code",
   "execution_count": 7,
   "metadata": {},
   "outputs": [
    {
     "data": {
      "text/plain": [
       "'Data/Seattle-Pizza.json'"
      ]
     },
     "execution_count": 7,
     "metadata": {},
     "output_type": "execute_result"
    }
   ],
   "source": [
    "JSON_FILE"
   ]
  },
  {
   "cell_type": "markdown",
   "metadata": {},
   "source": [
    "### Check if Json File exists and Create it if it doesn't"
   ]
  },
  {
   "cell_type": "code",
   "execution_count": 8,
   "metadata": {},
   "outputs": [
    {
     "name": "stdout",
     "output_type": "stream",
     "text": [
      "{JSON_FILE} already exists.\n"
     ]
    }
   ],
   "source": [
    "## Check if JSON_FILE exists\n",
    "\n",
    "## If it does not exist: \n",
    "\n",
    "if os.path.isfile(JSON_FILE) ==False:   \n",
    "    \n",
    "    ## CREATE ANY NEEDED FOLDERS\n",
    "    # Get the Folder Name only\n",
    "    folder  = os.path.dirname(JSON_FILE)\n",
    "    \n",
    "    ## If JSON_FILE included a folder:\n",
    "    if len(folder)>0:\n",
    "        # create the folder\n",
    "        os.makedirs(folder,exist_ok = True)\n",
    "        \n",
    "        \n",
    "    ## INFORM USER AND SAVE EMPTY LIST\n",
    "    print(\"File not found. Saving empy list to file.\")\n",
    "    \n",
    "    \n",
    "    ## save the first page of results\n",
    "    with open(JSON_FILE,'w') as f:\n",
    "        json.dump([],f)\n",
    "        \n",
    "## If it exists, inform user\n",
    "else:\n",
    "    print(\"{JSON_FILE} already exists.\")"
   ]
  },
  {
   "cell_type": "markdown",
   "metadata": {},
   "source": [
    "### Load JSON FIle and account for previous results"
   ]
  },
  {
   "cell_type": "code",
   "execution_count": 9,
   "metadata": {},
   "outputs": [
    {
     "name": "stdout",
     "output_type": "stream",
     "text": [
      " -- 0 previous result found.\n"
     ]
    }
   ],
   "source": [
    "## Load previous results and use len of results for offset\n",
    "with open(JSON_FILE,'r') as f:\n",
    "    previous_results = json.load(f)\n",
    "## set offset based on previous results\n",
    "n_results = len(previous_results)\n",
    "print(f' -- {n_results} previous result found.')"
   ]
  },
  {
   "cell_type": "markdown",
   "metadata": {},
   "source": [
    "### Make the first API call to get the first page of data"
   ]
  },
  {
   "cell_type": "markdown",
   "metadata": {},
   "source": [
    "- We will use this first result to check:\n",
    "    - how many total results there are?\n",
    "    - Where is the actual data we want to save?\n",
    "    - how many results do we get at a time?\n"
   ]
  },
  {
   "cell_type": "code",
   "execution_count": 11,
   "metadata": {},
   "outputs": [
    {
     "data": {
      "text/plain": [
       "dict_keys(['businesses', 'total', 'region'])"
      ]
     },
     "execution_count": 11,
     "metadata": {},
     "output_type": "execute_result"
    }
   ],
   "source": [
    "# use our yelp_api variable's search_query method to perform our API call\n",
    "results = yelp.search_query(location=LOCATION,\n",
    "                                term=TERM,\n",
    "                               offset=n_results+1)\n",
    "results.keys()"
   ]
  },
  {
   "cell_type": "code",
   "execution_count": 12,
   "metadata": {
    "ExecuteTime": {
     "end_time": "2022-03-24T20:01:48.867510Z",
     "start_time": "2022-03-24T20:01:48.854746Z"
    },
    "colab": {
     "base_uri": "https://localhost:8080/"
    },
    "id": "Myur3i1KGhPf",
    "outputId": "f447c6f9-596b-41d0-ccda-50af0ce82108"
   },
   "outputs": [
    {
     "data": {
      "text/plain": [
       "841"
      ]
     },
     "execution_count": 12,
     "metadata": {},
     "output_type": "execute_result"
    }
   ],
   "source": [
    "## How many results total?\n",
    "total_results = results['total']\n",
    "total_results"
   ]
  },
  {
   "cell_type": "markdown",
   "metadata": {},
   "source": [
    "- Where is the actual data we want to save?"
   ]
  },
  {
   "cell_type": "code",
   "execution_count": 13,
   "metadata": {},
   "outputs": [
    {
     "data": {
      "text/plain": [
       "[{'id': 'FVbwpNA1uZEGiM02N4XtUg',\n",
       "  'alias': 'blotto-seattle',\n",
       "  'name': 'Blotto',\n",
       "  'image_url': 'https://s3-media3.fl.yelpcdn.com/bphoto/Q4Y1CwKmapk89MYpoxCu7Q/o.jpg',\n",
       "  'is_closed': False,\n",
       "  'url': 'https://www.yelp.com/biz/blotto-seattle?adjust_creative=r8Qlusnw5U_OXTmzDH90Ug&utm_campaign=yelp_api_v3&utm_medium=api_v3_business_search&utm_source=r8Qlusnw5U_OXTmzDH90Ug',\n",
       "  'review_count': 24,\n",
       "  'categories': [{'alias': 'pizza', 'title': 'Pizza'}],\n",
       "  'rating': 5.0,\n",
       "  'coordinates': {'latitude': 47.61849, 'longitude': -122.31664},\n",
       "  'transactions': [],\n",
       "  'location': {'address1': '1830 12th Ave',\n",
       "   'address2': '',\n",
       "   'address3': None,\n",
       "   'city': 'Seattle',\n",
       "   'zip_code': '98122',\n",
       "   'country': 'US',\n",
       "   'state': 'WA',\n",
       "   'display_address': ['1830 12th Ave', 'Seattle, WA 98122']},\n",
       "  'phone': '+12064031809',\n",
       "  'display_phone': '(206) 403-1809',\n",
       "  'distance': 1686.8621759079958},\n",
       " {'id': 'Wi6LFkjIausYj277ru6pqg',\n",
       "  'alias': 'humble-pie-seattle',\n",
       "  'name': 'Humble Pie',\n",
       "  'image_url': 'https://s3-media1.fl.yelpcdn.com/bphoto/9tK83_pyCwNnRE7wMbNQdQ/o.jpg',\n",
       "  'is_closed': False,\n",
       "  'url': 'https://www.yelp.com/biz/humble-pie-seattle?adjust_creative=r8Qlusnw5U_OXTmzDH90Ug&utm_campaign=yelp_api_v3&utm_medium=api_v3_business_search&utm_source=r8Qlusnw5U_OXTmzDH90Ug',\n",
       "  'review_count': 344,\n",
       "  'categories': [{'alias': 'pizza', 'title': 'Pizza'}],\n",
       "  'rating': 4.0,\n",
       "  'coordinates': {'latitude': 47.5976491915013,\n",
       "   'longitude': -122.313305988361},\n",
       "  'transactions': ['delivery'],\n",
       "  'price': '$$',\n",
       "  'location': {'address1': '525 Rainier Ave S',\n",
       "   'address2': '',\n",
       "   'address3': '',\n",
       "   'city': 'Seattle',\n",
       "   'zip_code': '98144',\n",
       "   'country': 'US',\n",
       "   'state': 'WA',\n",
       "   'display_address': ['525 Rainier Ave S', 'Seattle, WA 98144']},\n",
       "  'phone': '+12063295133',\n",
       "  'display_phone': '(206) 329-5133',\n",
       "  'distance': 2166.834011449786},\n",
       " {'id': 'EwrAoy7XbX8nfemZdDvupA',\n",
       "  'alias': 'cornelly-seattle',\n",
       "  'name': 'Cornelly',\n",
       "  'image_url': 'https://s3-media4.fl.yelpcdn.com/bphoto/HlYYBTxylVQf6C-WZy-Ghw/o.jpg',\n",
       "  'is_closed': False,\n",
       "  'url': 'https://www.yelp.com/biz/cornelly-seattle?adjust_creative=r8Qlusnw5U_OXTmzDH90Ug&utm_campaign=yelp_api_v3&utm_medium=api_v3_business_search&utm_source=r8Qlusnw5U_OXTmzDH90Ug',\n",
       "  'review_count': 77,\n",
       "  'categories': [{'alias': 'pizza', 'title': 'Pizza'},\n",
       "   {'alias': 'salad', 'title': 'Salad'},\n",
       "   {'alias': 'pastashops', 'title': 'Pasta Shops'}],\n",
       "  'rating': 4.5,\n",
       "  'coordinates': {'latitude': 47.624577, 'longitude': -122.325577},\n",
       "  'transactions': ['pickup', 'delivery'],\n",
       "  'location': {'address1': '601 Summit Ave E',\n",
       "   'address2': '',\n",
       "   'address3': None,\n",
       "   'city': 'Seattle',\n",
       "   'zip_code': '98102',\n",
       "   'country': 'US',\n",
       "   'state': 'WA',\n",
       "   'display_address': ['601 Summit Ave E', 'Seattle, WA 98102']},\n",
       "  'phone': '',\n",
       "  'display_phone': '',\n",
       "  'distance': 2578.701392645466},\n",
       " {'id': 'ugTsEtjvwRhteac_6JcuPw',\n",
       "  'alias': 'italian-family-pizza-seattle',\n",
       "  'name': 'Italian Family Pizza',\n",
       "  'image_url': 'https://s3-media2.fl.yelpcdn.com/bphoto/SgiSrJxdCGbPZjnTZRrCYQ/o.jpg',\n",
       "  'is_closed': False,\n",
       "  'url': 'https://www.yelp.com/biz/italian-family-pizza-seattle?adjust_creative=r8Qlusnw5U_OXTmzDH90Ug&utm_campaign=yelp_api_v3&utm_medium=api_v3_business_search&utm_source=r8Qlusnw5U_OXTmzDH90Ug',\n",
       "  'review_count': 966,\n",
       "  'categories': [{'alias': 'pizza', 'title': 'Pizza'},\n",
       "   {'alias': 'italian', 'title': 'Italian'}],\n",
       "  'rating': 4.0,\n",
       "  'coordinates': {'latitude': 47.60937, 'longitude': -122.32546},\n",
       "  'transactions': ['pickup', 'delivery'],\n",
       "  'price': '$$',\n",
       "  'location': {'address1': '1028 Madison St',\n",
       "   'address2': None,\n",
       "   'address3': '',\n",
       "   'city': 'Seattle',\n",
       "   'zip_code': '98104',\n",
       "   'country': 'US',\n",
       "   'state': 'WA',\n",
       "   'display_address': ['1028 Madison St', 'Seattle, WA 98104']},\n",
       "  'phone': '+12065380040',\n",
       "  'display_phone': '(206) 538-0040',\n",
       "  'distance': 2271.307105309817},\n",
       " {'id': 'Ss_66zV-zhK_57_6MgV93w',\n",
       "  'alias': 'aglio-e-olio-seattle',\n",
       "  'name': 'Aglio e Olio',\n",
       "  'image_url': 'https://s3-media2.fl.yelpcdn.com/bphoto/inrSl1hdg0l2L3mYz3-fVg/o.jpg',\n",
       "  'is_closed': False,\n",
       "  'url': 'https://www.yelp.com/biz/aglio-e-olio-seattle?adjust_creative=r8Qlusnw5U_OXTmzDH90Ug&utm_campaign=yelp_api_v3&utm_medium=api_v3_business_search&utm_source=r8Qlusnw5U_OXTmzDH90Ug',\n",
       "  'review_count': 267,\n",
       "  'categories': [{'alias': 'italian', 'title': 'Italian'},\n",
       "   {'alias': 'pizza', 'title': 'Pizza'},\n",
       "   {'alias': 'sandwiches', 'title': 'Sandwiches'}],\n",
       "  'rating': 4.5,\n",
       "  'coordinates': {'latitude': 47.62323, 'longitude': -122.29593},\n",
       "  'transactions': ['delivery'],\n",
       "  'price': '$$',\n",
       "  'location': {'address1': '2743 E Madison St',\n",
       "   'address2': '',\n",
       "   'address3': '',\n",
       "   'city': 'Seattle',\n",
       "   'zip_code': '98112',\n",
       "   'country': 'US',\n",
       "   'state': 'WA',\n",
       "   'display_address': ['2743 E Madison St', 'Seattle, WA 98112']},\n",
       "  'phone': '+12067098883',\n",
       "  'display_phone': '(206) 709-8883',\n",
       "  'distance': 1130.9007432911242},\n",
       " {'id': 'cAFXng3Gr1cBCFkP1VIxng',\n",
       "  'alias': 'the-independent-pizzeria-seattle-2',\n",
       "  'name': 'The Independent Pizzeria',\n",
       "  'image_url': 'https://s3-media4.fl.yelpcdn.com/bphoto/4gIuisTnhbj8O3O09yLcrg/o.jpg',\n",
       "  'is_closed': False,\n",
       "  'url': 'https://www.yelp.com/biz/the-independent-pizzeria-seattle-2?adjust_creative=r8Qlusnw5U_OXTmzDH90Ug&utm_campaign=yelp_api_v3&utm_medium=api_v3_business_search&utm_source=r8Qlusnw5U_OXTmzDH90Ug',\n",
       "  'review_count': 178,\n",
       "  'categories': [{'alias': 'pizza', 'title': 'Pizza'},\n",
       "   {'alias': 'italian', 'title': 'Italian'}],\n",
       "  'rating': 4.0,\n",
       "  'coordinates': {'latitude': 47.636044, 'longitude': -122.277377},\n",
       "  'transactions': ['delivery'],\n",
       "  'price': '$$',\n",
       "  'location': {'address1': '4235 E Madison St',\n",
       "   'address2': '',\n",
       "   'address3': '',\n",
       "   'city': 'Seattle',\n",
       "   'zip_code': '98112',\n",
       "   'country': 'US',\n",
       "   'state': 'WA',\n",
       "   'display_address': ['4235 E Madison St', 'Seattle, WA 98112']},\n",
       "  'phone': '+12068606110',\n",
       "  'display_phone': '(206) 860-6110',\n",
       "  'distance': 2897.2528438366567},\n",
       " {'id': 'IrohtoYjnAR_vc6w6CRCxA',\n",
       "  'alias': 'moto-seattle',\n",
       "  'name': 'Moto',\n",
       "  'image_url': 'https://s3-media2.fl.yelpcdn.com/bphoto/FBmvjyC1wH7-N_lIE_M_lQ/o.jpg',\n",
       "  'is_closed': False,\n",
       "  'url': 'https://www.yelp.com/biz/moto-seattle?adjust_creative=r8Qlusnw5U_OXTmzDH90Ug&utm_campaign=yelp_api_v3&utm_medium=api_v3_business_search&utm_source=r8Qlusnw5U_OXTmzDH90Ug',\n",
       "  'review_count': 99,\n",
       "  'categories': [{'alias': 'pizza', 'title': 'Pizza'},\n",
       "   {'alias': 'icecream', 'title': 'Ice Cream & Frozen Yogurt'}],\n",
       "  'rating': 5.0,\n",
       "  'coordinates': {'latitude': 47.56207, 'longitude': -122.38509},\n",
       "  'transactions': ['delivery'],\n",
       "  'location': {'address1': '4526 42nd Ave SW',\n",
       "   'address2': '',\n",
       "   'address3': None,\n",
       "   'city': 'Seattle',\n",
       "   'zip_code': '98116',\n",
       "   'country': 'US',\n",
       "   'state': 'WA',\n",
       "   'display_address': ['4526 42nd Ave SW', 'Seattle, WA 98116']},\n",
       "  'phone': '+12064208880',\n",
       "  'display_phone': '(206) 420-8880',\n",
       "  'distance': 8784.07572205985},\n",
       " {'id': 'M9xzvwgK58T0w7wvXedvuQ',\n",
       "  'alias': 'hot-mamas-pizza-seattle',\n",
       "  'name': \"Hot Mama's Pizza\",\n",
       "  'image_url': 'https://s3-media1.fl.yelpcdn.com/bphoto/pcUxq_c7KxS7P2MXKxnz-Q/o.jpg',\n",
       "  'is_closed': False,\n",
       "  'url': 'https://www.yelp.com/biz/hot-mamas-pizza-seattle?adjust_creative=r8Qlusnw5U_OXTmzDH90Ug&utm_campaign=yelp_api_v3&utm_medium=api_v3_business_search&utm_source=r8Qlusnw5U_OXTmzDH90Ug',\n",
       "  'review_count': 917,\n",
       "  'categories': [{'alias': 'pizza', 'title': 'Pizza'}],\n",
       "  'rating': 4.0,\n",
       "  'coordinates': {'latitude': 47.615379179632, 'longitude': -122.32323073437},\n",
       "  'transactions': ['delivery'],\n",
       "  'price': '$',\n",
       "  'location': {'address1': '700 E Pine St',\n",
       "   'address2': '',\n",
       "   'address3': '',\n",
       "   'city': 'Seattle',\n",
       "   'zip_code': '98122',\n",
       "   'country': 'US',\n",
       "   'state': 'WA',\n",
       "   'display_address': ['700 E Pine St', 'Seattle, WA 98122']},\n",
       "  'phone': '+12063226444',\n",
       "  'display_phone': '(206) 322-6444',\n",
       "  'distance': 2080.359405276959},\n",
       " {'id': '-FOAQv22SXtSBs7nptI3UA',\n",
       "  'alias': 'serious-pie-downtown-seattle-2',\n",
       "  'name': 'Serious Pie Downtown',\n",
       "  'image_url': 'https://s3-media2.fl.yelpcdn.com/bphoto/dy0pJ5hIEX5APuotqrgF7A/o.jpg',\n",
       "  'is_closed': False,\n",
       "  'url': 'https://www.yelp.com/biz/serious-pie-downtown-seattle-2?adjust_creative=r8Qlusnw5U_OXTmzDH90Ug&utm_campaign=yelp_api_v3&utm_medium=api_v3_business_search&utm_source=r8Qlusnw5U_OXTmzDH90Ug',\n",
       "  'review_count': 4355,\n",
       "  'categories': [{'alias': 'pizza', 'title': 'Pizza'},\n",
       "   {'alias': 'salad', 'title': 'Salad'},\n",
       "   {'alias': 'bars', 'title': 'Bars'}],\n",
       "  'rating': 4.0,\n",
       "  'coordinates': {'latitude': 47.61285776946637,\n",
       "   'longitude': -122.34061052089271},\n",
       "  'transactions': ['pickup', 'delivery'],\n",
       "  'price': '$$',\n",
       "  'location': {'address1': '2001 4th Ave',\n",
       "   'address2': None,\n",
       "   'address3': '',\n",
       "   'city': 'Seattle',\n",
       "   'zip_code': '98121',\n",
       "   'country': 'US',\n",
       "   'state': 'WA',\n",
       "   'display_address': ['2001 4th Ave', 'Seattle, WA 98121']},\n",
       "  'phone': '+12068387388',\n",
       "  'display_phone': '(206) 838-7388',\n",
       "  'distance': 3367.748997290464},\n",
       " {'id': 'fxyHWmfzcdjImgQ_UYHoTw',\n",
       "  'alias': 'bar-cotto-seattle',\n",
       "  'name': 'Bar Cotto',\n",
       "  'image_url': 'https://s3-media3.fl.yelpcdn.com/bphoto/07DoPFljyge3LApw8qW-cg/o.jpg',\n",
       "  'is_closed': False,\n",
       "  'url': 'https://www.yelp.com/biz/bar-cotto-seattle?adjust_creative=r8Qlusnw5U_OXTmzDH90Ug&utm_campaign=yelp_api_v3&utm_medium=api_v3_business_search&utm_source=r8Qlusnw5U_OXTmzDH90Ug',\n",
       "  'review_count': 319,\n",
       "  'categories': [{'alias': 'bars', 'title': 'Bars'},\n",
       "   {'alias': 'pizza', 'title': 'Pizza'},\n",
       "   {'alias': 'italian', 'title': 'Italian'}],\n",
       "  'rating': 4.5,\n",
       "  'coordinates': {'latitude': 47.6146934, 'longitude': -122.3127642},\n",
       "  'transactions': ['delivery'],\n",
       "  'price': '$$',\n",
       "  'location': {'address1': '1546 15th Ave',\n",
       "   'address2': '',\n",
       "   'address3': '',\n",
       "   'city': 'Seattle',\n",
       "   'zip_code': '98122',\n",
       "   'country': 'US',\n",
       "   'state': 'WA',\n",
       "   'display_address': ['1546 15th Ave', 'Seattle, WA 98122']},\n",
       "  'phone': '+12068388081',\n",
       "  'display_phone': '(206) 838-8081',\n",
       "  'distance': 1292.526796461093},\n",
       " {'id': 'et4eWK49x5od4lfqCukG6w',\n",
       "  'alias': 'central-pizza-seattle',\n",
       "  'name': 'Central Pizza',\n",
       "  'image_url': 'https://s3-media4.fl.yelpcdn.com/bphoto/DE4G4eOtt4lcBN_PJtaniw/o.jpg',\n",
       "  'is_closed': False,\n",
       "  'url': 'https://www.yelp.com/biz/central-pizza-seattle?adjust_creative=r8Qlusnw5U_OXTmzDH90Ug&utm_campaign=yelp_api_v3&utm_medium=api_v3_business_search&utm_source=r8Qlusnw5U_OXTmzDH90Ug',\n",
       "  'review_count': 187,\n",
       "  'categories': [{'alias': 'bars', 'title': 'Bars'},\n",
       "   {'alias': 'pizza', 'title': 'Pizza'}],\n",
       "  'rating': 4.0,\n",
       "  'coordinates': {'latitude': 47.598976, 'longitude': -122.294685},\n",
       "  'transactions': ['pickup', 'delivery'],\n",
       "  'price': '$$',\n",
       "  'location': {'address1': '2901 S Jackson St',\n",
       "   'address2': '',\n",
       "   'address3': '',\n",
       "   'city': 'Seattle',\n",
       "   'zip_code': '98144',\n",
       "   'country': 'US',\n",
       "   'state': 'WA',\n",
       "   'display_address': ['2901 S Jackson St', 'Seattle, WA 98144']},\n",
       "  'phone': '+12066026333',\n",
       "  'display_phone': '(206) 602-6333',\n",
       "  'distance': 1571.8674380755467},\n",
       " {'id': 'GJdmwqqkC0nAQfX1qZM3ew',\n",
       "  'alias': 'olympia-pizza-and-spaghetti-house-iii-seattle',\n",
       "  'name': 'Olympia Pizza and Spaghetti House III',\n",
       "  'image_url': 'https://s3-media1.fl.yelpcdn.com/bphoto/KvTgMAozPm_HQGaBsfGELQ/o.jpg',\n",
       "  'is_closed': False,\n",
       "  'url': 'https://www.yelp.com/biz/olympia-pizza-and-spaghetti-house-iii-seattle?adjust_creative=r8Qlusnw5U_OXTmzDH90Ug&utm_campaign=yelp_api_v3&utm_medium=api_v3_business_search&utm_source=r8Qlusnw5U_OXTmzDH90Ug',\n",
       "  'review_count': 284,\n",
       "  'categories': [{'alias': 'pizza', 'title': 'Pizza'},\n",
       "   {'alias': 'italian', 'title': 'Italian'}],\n",
       "  'rating': 4.0,\n",
       "  'coordinates': {'latitude': 47.62383, 'longitude': -122.312445},\n",
       "  'transactions': ['delivery'],\n",
       "  'price': '$$',\n",
       "  'location': {'address1': '516 15th Ave E',\n",
       "   'address2': '',\n",
       "   'address3': '',\n",
       "   'city': 'Seattle',\n",
       "   'zip_code': '98112',\n",
       "   'country': 'US',\n",
       "   'state': 'WA',\n",
       "   'display_address': ['516 15th Ave E', 'Seattle, WA 98112']},\n",
       "  'phone': '+12063294500',\n",
       "  'display_phone': '(206) 329-4500',\n",
       "  'distance': 1732.8743834241322},\n",
       " {'id': '1rkgyfwzXG7qSdVZdfRt7g',\n",
       "  'alias': 'roccos-seattle',\n",
       "  'name': \"Rocco's\",\n",
       "  'image_url': 'https://s3-media3.fl.yelpcdn.com/bphoto/pf6jTKEQp89tKYy0OzB6Gw/o.jpg',\n",
       "  'is_closed': False,\n",
       "  'url': 'https://www.yelp.com/biz/roccos-seattle?adjust_creative=r8Qlusnw5U_OXTmzDH90Ug&utm_campaign=yelp_api_v3&utm_medium=api_v3_business_search&utm_source=r8Qlusnw5U_OXTmzDH90Ug',\n",
       "  'review_count': 1661,\n",
       "  'categories': [{'alias': 'bars', 'title': 'Bars'},\n",
       "   {'alias': 'pizza', 'title': 'Pizza'}],\n",
       "  'rating': 4.0,\n",
       "  'coordinates': {'latitude': 47.614470434736106,\n",
       "   'longitude': -122.34606443927872},\n",
       "  'transactions': ['pickup', 'delivery'],\n",
       "  'price': '$$',\n",
       "  'location': {'address1': '2312 2nd Ave',\n",
       "   'address2': '',\n",
       "   'address3': '',\n",
       "   'city': 'Seattle',\n",
       "   'zip_code': '98121',\n",
       "   'country': 'US',\n",
       "   'state': 'WA',\n",
       "   'display_address': ['2312 2nd Ave', 'Seattle, WA 98121']},\n",
       "  'phone': '+12063974210',\n",
       "  'display_phone': '(206) 397-4210',\n",
       "  'distance': 3779.508799794575},\n",
       " {'id': '91q2mxR0R6d-HAHFnmePyg',\n",
       "  'alias': 'zeeks-pizza-seattle-18',\n",
       "  'name': 'Zeeks Pizza',\n",
       "  'image_url': 'https://s3-media4.fl.yelpcdn.com/bphoto/qmf4kAK54g5IHoPYUDbYDg/o.jpg',\n",
       "  'is_closed': False,\n",
       "  'url': 'https://www.yelp.com/biz/zeeks-pizza-seattle-18?adjust_creative=r8Qlusnw5U_OXTmzDH90Ug&utm_campaign=yelp_api_v3&utm_medium=api_v3_business_search&utm_source=r8Qlusnw5U_OXTmzDH90Ug',\n",
       "  'review_count': 86,\n",
       "  'categories': [{'alias': 'pizza', 'title': 'Pizza'}],\n",
       "  'rating': 4.0,\n",
       "  'coordinates': {'latitude': 47.6245449, 'longitude': -122.3081645},\n",
       "  'transactions': ['pickup', 'delivery'],\n",
       "  'location': {'address1': '1830 E Mercer St',\n",
       "   'address2': None,\n",
       "   'address3': '',\n",
       "   'city': 'Seattle',\n",
       "   'zip_code': '98112',\n",
       "   'country': 'US',\n",
       "   'state': 'WA',\n",
       "   'display_address': ['1830 E Mercer St', 'Seattle, WA 98112']},\n",
       "  'phone': '+12062858646',\n",
       "  'display_phone': '(206) 285-8646',\n",
       "  'distance': 1554.2138613942195},\n",
       " {'id': 'slbmD92j1JKShUa0InF2nw',\n",
       "  'alias': 'southpaw-seattle',\n",
       "  'name': 'Southpaw',\n",
       "  'image_url': 'https://s3-media2.fl.yelpcdn.com/bphoto/rJXKQ5Ah6APg5wnqaHM8lg/o.jpg',\n",
       "  'is_closed': False,\n",
       "  'url': 'https://www.yelp.com/biz/southpaw-seattle?adjust_creative=r8Qlusnw5U_OXTmzDH90Ug&utm_campaign=yelp_api_v3&utm_medium=api_v3_business_search&utm_source=r8Qlusnw5U_OXTmzDH90Ug',\n",
       "  'review_count': 76,\n",
       "  'categories': [{'alias': 'pizza', 'title': 'Pizza'},\n",
       "   {'alias': 'desserts', 'title': 'Desserts'},\n",
       "   {'alias': 'salad', 'title': 'Salad'}],\n",
       "  'rating': 4.0,\n",
       "  'coordinates': {'latitude': 47.61118, 'longitude': -122.31654},\n",
       "  'transactions': ['pickup', 'delivery'],\n",
       "  'price': '$$',\n",
       "  'location': {'address1': '926 12th Ave',\n",
       "   'address2': '',\n",
       "   'address3': None,\n",
       "   'city': 'Seattle',\n",
       "   'zip_code': '98122',\n",
       "   'country': 'US',\n",
       "   'state': 'WA',\n",
       "   'display_address': ['926 12th Ave', 'Seattle, WA 98122']},\n",
       "  'phone': '+12063235278',\n",
       "  'display_phone': '(206) 323-5278',\n",
       "  'distance': 1576.8742723613634},\n",
       " {'id': 'Ag_2f8qC_vA40TaoMA-epA',\n",
       "  'alias': 'a-pizza-mart-seattle-18',\n",
       "  'name': 'A Pizza Mart',\n",
       "  'image_url': 'https://s3-media3.fl.yelpcdn.com/bphoto/F_7Cad-d1ovS9qSJRspAcA/o.jpg',\n",
       "  'is_closed': False,\n",
       "  'url': 'https://www.yelp.com/biz/a-pizza-mart-seattle-18?adjust_creative=r8Qlusnw5U_OXTmzDH90Ug&utm_campaign=yelp_api_v3&utm_medium=api_v3_business_search&utm_source=r8Qlusnw5U_OXTmzDH90Ug',\n",
       "  'review_count': 60,\n",
       "  'categories': [{'alias': 'pizza', 'title': 'Pizza'}],\n",
       "  'rating': 3.5,\n",
       "  'coordinates': {'latitude': 47.613774, 'longitude': -122.318228},\n",
       "  'transactions': ['pickup', 'delivery'],\n",
       "  'price': '$$',\n",
       "  'location': {'address1': '1433 11th Ave',\n",
       "   'address2': '',\n",
       "   'address3': None,\n",
       "   'city': 'Seattle',\n",
       "   'zip_code': '98122',\n",
       "   'country': 'US',\n",
       "   'state': 'WA',\n",
       "   'display_address': ['1433 11th Ave', 'Seattle, WA 98122']},\n",
       "  'phone': '+12065380407',\n",
       "  'display_phone': '(206) 538-0407',\n",
       "  'distance': 1691.5138010860617},\n",
       " {'id': 'QeeiVw_OjxWmTiSH0A6qgA',\n",
       "  'alias': 'rione-xiii-seattle',\n",
       "  'name': 'Rione XIII',\n",
       "  'image_url': 'https://s3-media2.fl.yelpcdn.com/bphoto/ENHXwcE5Ebz4VJATt_X35A/o.jpg',\n",
       "  'is_closed': False,\n",
       "  'url': 'https://www.yelp.com/biz/rione-xiii-seattle?adjust_creative=r8Qlusnw5U_OXTmzDH90Ug&utm_campaign=yelp_api_v3&utm_medium=api_v3_business_search&utm_source=r8Qlusnw5U_OXTmzDH90Ug',\n",
       "  'review_count': 386,\n",
       "  'categories': [{'alias': 'pizza', 'title': 'Pizza'},\n",
       "   {'alias': 'italian', 'title': 'Italian'}],\n",
       "  'rating': 4.0,\n",
       "  'coordinates': {'latitude': 47.6220785, 'longitude': -122.3128054},\n",
       "  'transactions': ['pickup', 'restaurant_reservation', 'delivery'],\n",
       "  'price': '$$',\n",
       "  'location': {'address1': '401 15th Ave E',\n",
       "   'address2': '',\n",
       "   'address3': '',\n",
       "   'city': 'Seattle',\n",
       "   'zip_code': '98112',\n",
       "   'country': 'US',\n",
       "   'state': 'WA',\n",
       "   'display_address': ['401 15th Ave E', 'Seattle, WA 98112']},\n",
       "  'phone': '+12068382878',\n",
       "  'display_phone': '(206) 838-2878',\n",
       "  'distance': 1626.1908343986518},\n",
       " {'id': 'n6BLr6spgjVWqzUwmVx0bg',\n",
       "  'alias': 'johnny-mos-pizzeria-seattle',\n",
       "  'name': \"Johnny Mo's Pizzeria\",\n",
       "  'image_url': 'https://s3-media4.fl.yelpcdn.com/bphoto/8IAnDPt0FWQNx9pLvuSbNg/o.jpg',\n",
       "  'is_closed': False,\n",
       "  'url': 'https://www.yelp.com/biz/johnny-mos-pizzeria-seattle?adjust_creative=r8Qlusnw5U_OXTmzDH90Ug&utm_campaign=yelp_api_v3&utm_medium=api_v3_business_search&utm_source=r8Qlusnw5U_OXTmzDH90Ug',\n",
       "  'review_count': 115,\n",
       "  'categories': [{'alias': 'pizza', 'title': 'Pizza'}],\n",
       "  'rating': 4.5,\n",
       "  'coordinates': {'latitude': 47.65142, 'longitude': -122.32083},\n",
       "  'transactions': ['pickup', 'delivery'],\n",
       "  'price': '$$',\n",
       "  'location': {'address1': '3272 Fuhrman Ave E',\n",
       "   'address2': 'Ste 100',\n",
       "   'address3': None,\n",
       "   'city': 'Seattle',\n",
       "   'zip_code': '98102',\n",
       "   'country': 'US',\n",
       "   'state': 'WA',\n",
       "   'display_address': ['3272 Fuhrman Ave E', 'Ste 100', 'Seattle, WA 98102']},\n",
       "  'phone': '+12068226272',\n",
       "  'display_phone': '(206) 822-6272',\n",
       "  'distance': 4658.301257471318},\n",
       " {'id': 'EqrYxhlEyDsfwBqiGXKk9Q',\n",
       "  'alias': 'dantini-pizza-seattle',\n",
       "  'name': 'Dantini Pizza',\n",
       "  'image_url': 'https://s3-media2.fl.yelpcdn.com/bphoto/E0xwT0_tt_0LK2_P5obKVA/o.jpg',\n",
       "  'is_closed': False,\n",
       "  'url': 'https://www.yelp.com/biz/dantini-pizza-seattle?adjust_creative=r8Qlusnw5U_OXTmzDH90Ug&utm_campaign=yelp_api_v3&utm_medium=api_v3_business_search&utm_source=r8Qlusnw5U_OXTmzDH90Ug',\n",
       "  'review_count': 36,\n",
       "  'categories': [{'alias': 'pizza', 'title': 'Pizza'},\n",
       "   {'alias': 'popuprestaurants', 'title': 'Pop-Up Restaurants'},\n",
       "   {'alias': 'salad', 'title': 'Salad'}],\n",
       "  'rating': 5.0,\n",
       "  'coordinates': {'latitude': 47.6307274, 'longitude': -122.3741214},\n",
       "  'transactions': [],\n",
       "  'location': {'address1': '1417 Elliott Ave W',\n",
       "   'address2': '',\n",
       "   'address3': None,\n",
       "   'city': 'Seattle',\n",
       "   'zip_code': '98119',\n",
       "   'country': 'US',\n",
       "   'state': 'WA',\n",
       "   'display_address': ['1417 Elliott Ave W', 'Seattle, WA 98119']},\n",
       "  'phone': '+12064209912',\n",
       "  'display_phone': '(206) 420-9912',\n",
       "  'distance': 6196.94911179767},\n",
       " {'id': 'HeJP0ZS0tCCn-X9ezYSz3g',\n",
       "  'alias': 'ian-s-pizza-on-the-hill-seattle',\n",
       "  'name': 'Ian’s Pizza on the Hill',\n",
       "  'image_url': 'https://s3-media1.fl.yelpcdn.com/bphoto/gD-SKufIg_thSEXBDpDtng/o.jpg',\n",
       "  'is_closed': False,\n",
       "  'url': 'https://www.yelp.com/biz/ian-s-pizza-on-the-hill-seattle?adjust_creative=r8Qlusnw5U_OXTmzDH90Ug&utm_campaign=yelp_api_v3&utm_medium=api_v3_business_search&utm_source=r8Qlusnw5U_OXTmzDH90Ug',\n",
       "  'review_count': 278,\n",
       "  'categories': [{'alias': 'pizza', 'title': 'Pizza'},\n",
       "   {'alias': 'newamerican', 'title': 'American (New)'},\n",
       "   {'alias': 'hotdogs', 'title': 'Fast Food'}],\n",
       "  'rating': 4.0,\n",
       "  'coordinates': {'latitude': 47.615894, 'longitude': -122.320476},\n",
       "  'transactions': ['pickup', 'delivery'],\n",
       "  'price': '$',\n",
       "  'location': {'address1': '1620 Broadway',\n",
       "   'address2': '',\n",
       "   'address3': '',\n",
       "   'city': 'Seattle',\n",
       "   'zip_code': '98122',\n",
       "   'country': 'US',\n",
       "   'state': 'WA',\n",
       "   'display_address': ['1620 Broadway', 'Seattle, WA 98122']},\n",
       "  'phone': '+12066594721',\n",
       "  'display_phone': '(206) 659-4721',\n",
       "  'distance': 1884.1780309728}]"
      ]
     },
     "execution_count": 13,
     "metadata": {},
     "output_type": "execute_result"
    }
   ],
   "source": [
    "results['businesses']"
   ]
  },
  {
   "cell_type": "code",
   "execution_count": 14,
   "metadata": {},
   "outputs": [
    {
     "data": {
      "text/plain": [
       "20"
      ]
     },
     "execution_count": 14,
     "metadata": {},
     "output_type": "execute_result"
    }
   ],
   "source": [
    "## How many did we get the details for?\n",
    "results_per_page = len(results['businesses'])\n",
    "results_per_page"
   ]
  },
  {
   "cell_type": "markdown",
   "metadata": {},
   "source": [
    "- Calculate how many pages of results needed to cover the total_results"
   ]
  },
  {
   "cell_type": "code",
   "execution_count": 15,
   "metadata": {},
   "outputs": [
    {
     "data": {
      "text/plain": [
       "43"
      ]
     },
     "execution_count": 15,
     "metadata": {},
     "output_type": "execute_result"
    }
   ],
   "source": [
    "# Use math.ceil to round up for the total number of pages of results.\n",
    "n_pages = math.ceil((results['total']-n_results)/ results_per_page)\n",
    "n_pages"
   ]
  },
  {
   "cell_type": "code",
   "execution_count": 17,
   "metadata": {},
   "outputs": [
    {
     "data": {
      "application/vnd.jupyter.widget-view+json": {
       "model_id": "d31ed57786824aee8dac84db8c5bf1a0",
       "version_major": 2,
       "version_minor": 0
      },
      "text/plain": [
       "  0%|          | 0/43 [00:00<?, ?it/s]"
      ]
     },
     "metadata": {},
     "output_type": "display_data"
    }
   ],
   "source": [
    "for i in tqdm_notebook( range(1,n_pages+1)):\n",
    "    ## The block of code we want to TRY to run\n",
    "    try:\n",
    "        \n",
    "        time.sleep(.2)\n",
    "        \n",
    "        ## Read in results in progress file and check the length\n",
    "        with open(JSON_FILE, 'r') as f:\n",
    "            previous_results = json.load(f)\n",
    "            \n",
    "        ## save number of results for to use as offset\n",
    "        n_results = len(previous_results)\n",
    "        \n",
    "        \n",
    "        ## use n_results as the OFFSET \n",
    "        results = yelp.search_query(location=LOCATION,\n",
    "                                        term=TERM, \n",
    "                                        offset=n_results+1)\n",
    "\n",
    "        ## append new results and save to file\n",
    "        previous_results.extend(results['businesses'])\n",
    "\n",
    "        with open(JSON_FILE,'w') as f:\n",
    "            json.dump(previous_results,f)\n",
    "            \n",
    "    ## What to do if we get an error/exception.\n",
    "    except Exception as e: # saving the error message so we can print it.\n",
    "        print('[!] ERROR: ',e)"
   ]
  },
  {
   "cell_type": "markdown",
   "metadata": {},
   "source": [
    "## Open the Final JSON File with Pandas"
   ]
  },
  {
   "cell_type": "code",
   "execution_count": 18,
   "metadata": {},
   "outputs": [
    {
     "data": {
      "text/html": [
       "<div>\n",
       "<style scoped>\n",
       "    .dataframe tbody tr th:only-of-type {\n",
       "        vertical-align: middle;\n",
       "    }\n",
       "\n",
       "    .dataframe tbody tr th {\n",
       "        vertical-align: top;\n",
       "    }\n",
       "\n",
       "    .dataframe thead th {\n",
       "        text-align: right;\n",
       "    }\n",
       "</style>\n",
       "<table border=\"1\" class=\"dataframe\">\n",
       "  <thead>\n",
       "    <tr style=\"text-align: right;\">\n",
       "      <th></th>\n",
       "      <th>id</th>\n",
       "      <th>alias</th>\n",
       "      <th>name</th>\n",
       "      <th>image_url</th>\n",
       "      <th>is_closed</th>\n",
       "      <th>url</th>\n",
       "      <th>review_count</th>\n",
       "      <th>categories</th>\n",
       "      <th>rating</th>\n",
       "      <th>coordinates</th>\n",
       "      <th>transactions</th>\n",
       "      <th>location</th>\n",
       "      <th>phone</th>\n",
       "      <th>display_phone</th>\n",
       "      <th>distance</th>\n",
       "      <th>price</th>\n",
       "    </tr>\n",
       "  </thead>\n",
       "  <tbody>\n",
       "    <tr>\n",
       "      <th>0</th>\n",
       "      <td>FVbwpNA1uZEGiM02N4XtUg</td>\n",
       "      <td>blotto-seattle</td>\n",
       "      <td>Blotto</td>\n",
       "      <td>https://s3-media3.fl.yelpcdn.com/bphoto/Q4Y1Cw...</td>\n",
       "      <td>False</td>\n",
       "      <td>https://www.yelp.com/biz/blotto-seattle?adjust...</td>\n",
       "      <td>24</td>\n",
       "      <td>[{'alias': 'pizza', 'title': 'Pizza'}]</td>\n",
       "      <td>5.0</td>\n",
       "      <td>{'latitude': 47.61849, 'longitude': -122.31664}</td>\n",
       "      <td>[]</td>\n",
       "      <td>{'address1': '1830 12th Ave', 'address2': '', ...</td>\n",
       "      <td>+12064031809</td>\n",
       "      <td>(206) 403-1809</td>\n",
       "      <td>1686.862176</td>\n",
       "      <td>NaN</td>\n",
       "    </tr>\n",
       "    <tr>\n",
       "      <th>1</th>\n",
       "      <td>Wi6LFkjIausYj277ru6pqg</td>\n",
       "      <td>humble-pie-seattle</td>\n",
       "      <td>Humble Pie</td>\n",
       "      <td>https://s3-media1.fl.yelpcdn.com/bphoto/9tK83_...</td>\n",
       "      <td>False</td>\n",
       "      <td>https://www.yelp.com/biz/humble-pie-seattle?ad...</td>\n",
       "      <td>344</td>\n",
       "      <td>[{'alias': 'pizza', 'title': 'Pizza'}]</td>\n",
       "      <td>4.0</td>\n",
       "      <td>{'latitude': 47.5976491915013, 'longitude': -1...</td>\n",
       "      <td>[delivery]</td>\n",
       "      <td>{'address1': '525 Rainier Ave S', 'address2': ...</td>\n",
       "      <td>+12063295133</td>\n",
       "      <td>(206) 329-5133</td>\n",
       "      <td>2166.834011</td>\n",
       "      <td>$$</td>\n",
       "    </tr>\n",
       "    <tr>\n",
       "      <th>2</th>\n",
       "      <td>EwrAoy7XbX8nfemZdDvupA</td>\n",
       "      <td>cornelly-seattle</td>\n",
       "      <td>Cornelly</td>\n",
       "      <td>https://s3-media4.fl.yelpcdn.com/bphoto/HlYYBT...</td>\n",
       "      <td>False</td>\n",
       "      <td>https://www.yelp.com/biz/cornelly-seattle?adju...</td>\n",
       "      <td>77</td>\n",
       "      <td>[{'alias': 'pizza', 'title': 'Pizza'}, {'alias...</td>\n",
       "      <td>4.5</td>\n",
       "      <td>{'latitude': 47.624577, 'longitude': -122.325577}</td>\n",
       "      <td>[pickup, delivery]</td>\n",
       "      <td>{'address1': '601 Summit Ave E', 'address2': '...</td>\n",
       "      <td></td>\n",
       "      <td></td>\n",
       "      <td>2578.701393</td>\n",
       "      <td>NaN</td>\n",
       "    </tr>\n",
       "    <tr>\n",
       "      <th>3</th>\n",
       "      <td>ugTsEtjvwRhteac_6JcuPw</td>\n",
       "      <td>italian-family-pizza-seattle</td>\n",
       "      <td>Italian Family Pizza</td>\n",
       "      <td>https://s3-media2.fl.yelpcdn.com/bphoto/SgiSrJ...</td>\n",
       "      <td>False</td>\n",
       "      <td>https://www.yelp.com/biz/italian-family-pizza-...</td>\n",
       "      <td>966</td>\n",
       "      <td>[{'alias': 'pizza', 'title': 'Pizza'}, {'alias...</td>\n",
       "      <td>4.0</td>\n",
       "      <td>{'latitude': 47.60937, 'longitude': -122.32546}</td>\n",
       "      <td>[pickup, delivery]</td>\n",
       "      <td>{'address1': '1028 Madison St', 'address2': No...</td>\n",
       "      <td>+12065380040</td>\n",
       "      <td>(206) 538-0040</td>\n",
       "      <td>2271.307105</td>\n",
       "      <td>$$</td>\n",
       "    </tr>\n",
       "    <tr>\n",
       "      <th>4</th>\n",
       "      <td>Ss_66zV-zhK_57_6MgV93w</td>\n",
       "      <td>aglio-e-olio-seattle</td>\n",
       "      <td>Aglio e Olio</td>\n",
       "      <td>https://s3-media2.fl.yelpcdn.com/bphoto/inrSl1...</td>\n",
       "      <td>False</td>\n",
       "      <td>https://www.yelp.com/biz/aglio-e-olio-seattle?...</td>\n",
       "      <td>267</td>\n",
       "      <td>[{'alias': 'italian', 'title': 'Italian'}, {'a...</td>\n",
       "      <td>4.5</td>\n",
       "      <td>{'latitude': 47.62323, 'longitude': -122.29593}</td>\n",
       "      <td>[delivery]</td>\n",
       "      <td>{'address1': '2743 E Madison St', 'address2': ...</td>\n",
       "      <td>+12067098883</td>\n",
       "      <td>(206) 709-8883</td>\n",
       "      <td>1130.900743</td>\n",
       "      <td>$$</td>\n",
       "    </tr>\n",
       "    <tr>\n",
       "      <th>...</th>\n",
       "      <td>...</td>\n",
       "      <td>...</td>\n",
       "      <td>...</td>\n",
       "      <td>...</td>\n",
       "      <td>...</td>\n",
       "      <td>...</td>\n",
       "      <td>...</td>\n",
       "      <td>...</td>\n",
       "      <td>...</td>\n",
       "      <td>...</td>\n",
       "      <td>...</td>\n",
       "      <td>...</td>\n",
       "      <td>...</td>\n",
       "      <td>...</td>\n",
       "      <td>...</td>\n",
       "      <td>...</td>\n",
       "    </tr>\n",
       "    <tr>\n",
       "      <th>835</th>\n",
       "      <td>7tQY7TW-oYhAztdpUVgfZQ</td>\n",
       "      <td>subway-seattle-127</td>\n",
       "      <td>Subway</td>\n",
       "      <td>https://s3-media2.fl.yelpcdn.com/bphoto/KFiJVP...</td>\n",
       "      <td>False</td>\n",
       "      <td>https://www.yelp.com/biz/subway-seattle-127?ad...</td>\n",
       "      <td>39</td>\n",
       "      <td>[{'alias': 'sandwiches', 'title': 'Sandwiches'}]</td>\n",
       "      <td>3.0</td>\n",
       "      <td>{'latitude': 47.667511119207, 'longitude': -12...</td>\n",
       "      <td>[pickup, delivery]</td>\n",
       "      <td>{'address1': '5300 15th Ave NW', 'address2': '...</td>\n",
       "      <td>+12067895434</td>\n",
       "      <td>(206) 789-5434</td>\n",
       "      <td>8529.998816</td>\n",
       "      <td>$</td>\n",
       "    </tr>\n",
       "    <tr>\n",
       "      <th>836</th>\n",
       "      <td>rcDbUcs83gvoRxhaTmFfnQ</td>\n",
       "      <td>cypress-lounge-and-wine-bar-bellevue</td>\n",
       "      <td>Cypress Lounge &amp; Wine Bar</td>\n",
       "      <td>https://s3-media2.fl.yelpcdn.com/bphoto/DsFhIb...</td>\n",
       "      <td>False</td>\n",
       "      <td>https://www.yelp.com/biz/cypress-lounge-and-wi...</td>\n",
       "      <td>63</td>\n",
       "      <td>[{'alias': 'wine_bars', 'title': 'Wine Bars'},...</td>\n",
       "      <td>3.5</td>\n",
       "      <td>{'latitude': 47.6157033283809, 'longitude': -1...</td>\n",
       "      <td>[]</td>\n",
       "      <td>{'address1': '600 Bellevue Way NE', 'address2'...</td>\n",
       "      <td>+14256381000</td>\n",
       "      <td>(425) 638-1000</td>\n",
       "      <td>7123.208902</td>\n",
       "      <td>$$</td>\n",
       "    </tr>\n",
       "    <tr>\n",
       "      <th>837</th>\n",
       "      <td>G-p5SgQnBM5e8XxMMO1qOg</td>\n",
       "      <td>pho-aroma-seattle-2</td>\n",
       "      <td>Pho Aroma</td>\n",
       "      <td>https://s3-media1.fl.yelpcdn.com/bphoto/BCxDac...</td>\n",
       "      <td>False</td>\n",
       "      <td>https://www.yelp.com/biz/pho-aroma-seattle-2?a...</td>\n",
       "      <td>384</td>\n",
       "      <td>[{'alias': 'vietnamese', 'title': 'Vietnamese'...</td>\n",
       "      <td>4.0</td>\n",
       "      <td>{'latitude': 47.55172, 'longitude': -122.36327}</td>\n",
       "      <td>[delivery]</td>\n",
       "      <td>{'address1': '5605 Delridge Way SW', 'address2...</td>\n",
       "      <td>+12069324343</td>\n",
       "      <td>(206) 932-4343</td>\n",
       "      <td>8499.808775</td>\n",
       "      <td>$$</td>\n",
       "    </tr>\n",
       "    <tr>\n",
       "      <th>838</th>\n",
       "      <td>8S3qU0TGMJDyj4KHBmxlaw</td>\n",
       "      <td>pho-tai-kirkland</td>\n",
       "      <td>Pho Tai</td>\n",
       "      <td>https://s3-media3.fl.yelpcdn.com/bphoto/tnvGkA...</td>\n",
       "      <td>False</td>\n",
       "      <td>https://www.yelp.com/biz/pho-tai-kirkland?adju...</td>\n",
       "      <td>184</td>\n",
       "      <td>[{'alias': 'vietnamese', 'title': 'Vietnamese'...</td>\n",
       "      <td>3.5</td>\n",
       "      <td>{'latitude': 47.676215, 'longitude': -122.205084}</td>\n",
       "      <td>[delivery, pickup]</td>\n",
       "      <td>{'address1': '147 Park Ln', 'address2': '', 'a...</td>\n",
       "      <td>+14255765407</td>\n",
       "      <td>(425) 576-5407</td>\n",
       "      <td>9765.353049</td>\n",
       "      <td>$$</td>\n",
       "    </tr>\n",
       "    <tr>\n",
       "      <th>839</th>\n",
       "      <td>i8mygke4ckycOudTO_3UQQ</td>\n",
       "      <td>café-cesura-bellevue-4</td>\n",
       "      <td>Café Cesura</td>\n",
       "      <td>https://s3-media3.fl.yelpcdn.com/bphoto/t6NpST...</td>\n",
       "      <td>False</td>\n",
       "      <td>https://www.yelp.com/biz/caf%C3%A9-cesura-bell...</td>\n",
       "      <td>537</td>\n",
       "      <td>[{'alias': 'coffee', 'title': 'Coffee &amp; Tea'},...</td>\n",
       "      <td>3.5</td>\n",
       "      <td>{'latitude': 47.6196463475606, 'longitude': -1...</td>\n",
       "      <td>[delivery]</td>\n",
       "      <td>{'address1': '1015 108th Ave NE', 'address2': ...</td>\n",
       "      <td>+14259547277</td>\n",
       "      <td>(425) 954-7277</td>\n",
       "      <td>7466.233853</td>\n",
       "      <td>$</td>\n",
       "    </tr>\n",
       "  </tbody>\n",
       "</table>\n",
       "<p>840 rows × 16 columns</p>\n",
       "</div>"
      ],
      "text/plain": [
       "                         id                                 alias  \\\n",
       "0    FVbwpNA1uZEGiM02N4XtUg                        blotto-seattle   \n",
       "1    Wi6LFkjIausYj277ru6pqg                    humble-pie-seattle   \n",
       "2    EwrAoy7XbX8nfemZdDvupA                      cornelly-seattle   \n",
       "3    ugTsEtjvwRhteac_6JcuPw          italian-family-pizza-seattle   \n",
       "4    Ss_66zV-zhK_57_6MgV93w                  aglio-e-olio-seattle   \n",
       "..                      ...                                   ...   \n",
       "835  7tQY7TW-oYhAztdpUVgfZQ                    subway-seattle-127   \n",
       "836  rcDbUcs83gvoRxhaTmFfnQ  cypress-lounge-and-wine-bar-bellevue   \n",
       "837  G-p5SgQnBM5e8XxMMO1qOg                   pho-aroma-seattle-2   \n",
       "838  8S3qU0TGMJDyj4KHBmxlaw                      pho-tai-kirkland   \n",
       "839  i8mygke4ckycOudTO_3UQQ                café-cesura-bellevue-4   \n",
       "\n",
       "                          name  \\\n",
       "0                       Blotto   \n",
       "1                   Humble Pie   \n",
       "2                     Cornelly   \n",
       "3         Italian Family Pizza   \n",
       "4                 Aglio e Olio   \n",
       "..                         ...   \n",
       "835                     Subway   \n",
       "836  Cypress Lounge & Wine Bar   \n",
       "837                  Pho Aroma   \n",
       "838                    Pho Tai   \n",
       "839                Café Cesura   \n",
       "\n",
       "                                             image_url  is_closed  \\\n",
       "0    https://s3-media3.fl.yelpcdn.com/bphoto/Q4Y1Cw...      False   \n",
       "1    https://s3-media1.fl.yelpcdn.com/bphoto/9tK83_...      False   \n",
       "2    https://s3-media4.fl.yelpcdn.com/bphoto/HlYYBT...      False   \n",
       "3    https://s3-media2.fl.yelpcdn.com/bphoto/SgiSrJ...      False   \n",
       "4    https://s3-media2.fl.yelpcdn.com/bphoto/inrSl1...      False   \n",
       "..                                                 ...        ...   \n",
       "835  https://s3-media2.fl.yelpcdn.com/bphoto/KFiJVP...      False   \n",
       "836  https://s3-media2.fl.yelpcdn.com/bphoto/DsFhIb...      False   \n",
       "837  https://s3-media1.fl.yelpcdn.com/bphoto/BCxDac...      False   \n",
       "838  https://s3-media3.fl.yelpcdn.com/bphoto/tnvGkA...      False   \n",
       "839  https://s3-media3.fl.yelpcdn.com/bphoto/t6NpST...      False   \n",
       "\n",
       "                                                   url  review_count  \\\n",
       "0    https://www.yelp.com/biz/blotto-seattle?adjust...            24   \n",
       "1    https://www.yelp.com/biz/humble-pie-seattle?ad...           344   \n",
       "2    https://www.yelp.com/biz/cornelly-seattle?adju...            77   \n",
       "3    https://www.yelp.com/biz/italian-family-pizza-...           966   \n",
       "4    https://www.yelp.com/biz/aglio-e-olio-seattle?...           267   \n",
       "..                                                 ...           ...   \n",
       "835  https://www.yelp.com/biz/subway-seattle-127?ad...            39   \n",
       "836  https://www.yelp.com/biz/cypress-lounge-and-wi...            63   \n",
       "837  https://www.yelp.com/biz/pho-aroma-seattle-2?a...           384   \n",
       "838  https://www.yelp.com/biz/pho-tai-kirkland?adju...           184   \n",
       "839  https://www.yelp.com/biz/caf%C3%A9-cesura-bell...           537   \n",
       "\n",
       "                                            categories  rating  \\\n",
       "0               [{'alias': 'pizza', 'title': 'Pizza'}]     5.0   \n",
       "1               [{'alias': 'pizza', 'title': 'Pizza'}]     4.0   \n",
       "2    [{'alias': 'pizza', 'title': 'Pizza'}, {'alias...     4.5   \n",
       "3    [{'alias': 'pizza', 'title': 'Pizza'}, {'alias...     4.0   \n",
       "4    [{'alias': 'italian', 'title': 'Italian'}, {'a...     4.5   \n",
       "..                                                 ...     ...   \n",
       "835   [{'alias': 'sandwiches', 'title': 'Sandwiches'}]     3.0   \n",
       "836  [{'alias': 'wine_bars', 'title': 'Wine Bars'},...     3.5   \n",
       "837  [{'alias': 'vietnamese', 'title': 'Vietnamese'...     4.0   \n",
       "838  [{'alias': 'vietnamese', 'title': 'Vietnamese'...     3.5   \n",
       "839  [{'alias': 'coffee', 'title': 'Coffee & Tea'},...     3.5   \n",
       "\n",
       "                                           coordinates        transactions  \\\n",
       "0      {'latitude': 47.61849, 'longitude': -122.31664}                  []   \n",
       "1    {'latitude': 47.5976491915013, 'longitude': -1...          [delivery]   \n",
       "2    {'latitude': 47.624577, 'longitude': -122.325577}  [pickup, delivery]   \n",
       "3      {'latitude': 47.60937, 'longitude': -122.32546}  [pickup, delivery]   \n",
       "4      {'latitude': 47.62323, 'longitude': -122.29593}          [delivery]   \n",
       "..                                                 ...                 ...   \n",
       "835  {'latitude': 47.667511119207, 'longitude': -12...  [pickup, delivery]   \n",
       "836  {'latitude': 47.6157033283809, 'longitude': -1...                  []   \n",
       "837    {'latitude': 47.55172, 'longitude': -122.36327}          [delivery]   \n",
       "838  {'latitude': 47.676215, 'longitude': -122.205084}  [delivery, pickup]   \n",
       "839  {'latitude': 47.6196463475606, 'longitude': -1...          [delivery]   \n",
       "\n",
       "                                              location         phone  \\\n",
       "0    {'address1': '1830 12th Ave', 'address2': '', ...  +12064031809   \n",
       "1    {'address1': '525 Rainier Ave S', 'address2': ...  +12063295133   \n",
       "2    {'address1': '601 Summit Ave E', 'address2': '...                 \n",
       "3    {'address1': '1028 Madison St', 'address2': No...  +12065380040   \n",
       "4    {'address1': '2743 E Madison St', 'address2': ...  +12067098883   \n",
       "..                                                 ...           ...   \n",
       "835  {'address1': '5300 15th Ave NW', 'address2': '...  +12067895434   \n",
       "836  {'address1': '600 Bellevue Way NE', 'address2'...  +14256381000   \n",
       "837  {'address1': '5605 Delridge Way SW', 'address2...  +12069324343   \n",
       "838  {'address1': '147 Park Ln', 'address2': '', 'a...  +14255765407   \n",
       "839  {'address1': '1015 108th Ave NE', 'address2': ...  +14259547277   \n",
       "\n",
       "      display_phone     distance price  \n",
       "0    (206) 403-1809  1686.862176   NaN  \n",
       "1    (206) 329-5133  2166.834011    $$  \n",
       "2                    2578.701393   NaN  \n",
       "3    (206) 538-0040  2271.307105    $$  \n",
       "4    (206) 709-8883  1130.900743    $$  \n",
       "..              ...          ...   ...  \n",
       "835  (206) 789-5434  8529.998816     $  \n",
       "836  (425) 638-1000  7123.208902    $$  \n",
       "837  (206) 932-4343  8499.808775    $$  \n",
       "838  (425) 576-5407  9765.353049    $$  \n",
       "839  (425) 954-7277  7466.233853     $  \n",
       "\n",
       "[840 rows x 16 columns]"
      ]
     },
     "execution_count": 18,
     "metadata": {},
     "output_type": "execute_result"
    }
   ],
   "source": [
    "df = pd.read_json(JSON_FILE)\n",
    "df"
   ]
  },
  {
   "cell_type": "code",
   "execution_count": 19,
   "metadata": {},
   "outputs": [
    {
     "data": {
      "text/plain": [
       "'Data/Seattle-Pizza.csv.gz'"
      ]
     },
     "execution_count": 19,
     "metadata": {},
     "output_type": "execute_result"
    }
   ],
   "source": [
    "## convert the filename to a .csv.gz\n",
    "csv_file = JSON_FILE.replace('.json','.csv.gz')\n",
    "csv_file"
   ]
  },
  {
   "cell_type": "code",
   "execution_count": 20,
   "metadata": {},
   "outputs": [],
   "source": [
    "## Save it as a compressed csv (to save space)\n",
    "df.to_csv(csv_file, compression='gzip', index=False)"
   ]
  },
  {
   "cell_type": "markdown",
   "metadata": {},
   "source": [
    "## Bonus: compare filesize with os module's `os.path.getsize`"
   ]
  },
  {
   "cell_type": "code",
   "execution_count": 21,
   "metadata": {},
   "outputs": [
    {
     "name": "stdout",
     "output_type": "stream",
     "text": [
      "JSON FILE: 818,946 Bytes\n",
      "CSV.GZ FILE: 118,546 Bytes\n",
      "the csv.gz is 6.908255023366457 times smaller!\n"
     ]
    }
   ],
   "source": [
    "size_json = os.path.getsize(JSON_FILE)\n",
    "size_csv_gz = os.path.getsize(JSON_FILE.replace('.json','.csv.gz'))\n",
    "\n",
    "print(f'JSON FILE: {size_json:,} Bytes')\n",
    "print(f'CSV.GZ FILE: {size_csv_gz:,} Bytes')\n",
    "\n",
    "print(f'the csv.gz is {size_json/size_csv_gz} times smaller!')"
   ]
  },
  {
   "cell_type": "markdown",
   "metadata": {},
   "source": [
    "## Next Class: Processing the Results and Mapping "
   ]
  }
 ],
 "metadata": {
  "colab": {
   "collapsed_sections": [],
   "name": "Test Yelp API Package.ipynb",
   "provenance": []
  },
  "kernelspec": {
   "display_name": "Python (dojo-env)",
   "language": "python",
   "name": "dojo-env"
  },
  "language_info": {
   "codemirror_mode": {
    "name": "ipython",
    "version": 3
   },
   "file_extension": ".py",
   "mimetype": "text/x-python",
   "name": "python",
   "nbconvert_exporter": "python",
   "pygments_lexer": "ipython3",
   "version": "3.8.13"
  },
  "toc": {
   "base_numbering": 1,
   "nav_menu": {},
   "number_sections": false,
   "sideBar": true,
   "skip_h1_title": false,
   "title_cell": "Table of Contents",
   "title_sidebar": "Contents",
   "toc_cell": false,
   "toc_position": {},
   "toc_section_display": true,
   "toc_window_display": true
  }
 },
 "nbformat": 4,
 "nbformat_minor": 1
}
