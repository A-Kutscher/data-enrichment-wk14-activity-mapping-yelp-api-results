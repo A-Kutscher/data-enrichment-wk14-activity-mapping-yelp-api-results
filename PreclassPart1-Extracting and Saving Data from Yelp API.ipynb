{
 "cells": [
  {
   "cell_type": "markdown",
   "metadata": {
    "id": "8guYh-VR7nlX"
   },
   "source": [
    "# Part 1 - Extracting and Saving Data from Yelp API"
   ]
  },
  {
   "cell_type": "markdown",
   "metadata": {},
   "source": [
    "## Obective"
   ]
  },
  {
   "cell_type": "markdown",
   "metadata": {
    "id": "8guYh-VR7nlX"
   },
   "source": [
    "- For this CodeAlong, we will be working with the Yelp API. \n",
    "- You will use the the Yelp API to search your home town for a cuisine type of your choice.\n",
    "- Next class, we will then use Plotly Express to create a map with the Mapbox API to visualize the results.\n",
    "    \n",
    "    "
   ]
  },
  {
   "cell_type": "markdown",
   "metadata": {
    "id": "8guYh-VR7nlX"
   },
   "source": [
    "## Tools You Will Use\n",
    "- Part 1:\n",
    "    - Yelp API:\n",
    "        - Getting Started: \n",
    "            - https://www.yelp.com/developers/documentation/v3/get_started\n",
    "\n",
    "    - `YelpAPI` python package\n",
    "        -  \"YelpAPI\": https://github.com/gfairchild/yelpapi\n",
    "- Part 2:\n",
    "\n",
    "    - Plotly Express: https://plotly.com/python/getting-started/\n",
    "        - With Mapbox API: https://www.mapbox.com/\n",
    "        - `px.scatter_mapbox` [Documentation](https://plotly.com/python/scattermapbox/): \n",
    "\n",
    "\n"
   ]
  },
  {
   "cell_type": "markdown",
   "metadata": {},
   "source": [
    "### Applying Code From\n",
    "- Efficient API Calls Lesson Link: https://login.codingdojo.com/m/376/12529/88078"
   ]
  },
  {
   "cell_type": "code",
   "execution_count": 1,
   "metadata": {},
   "outputs": [
    {
     "name": "stdout",
     "output_type": "stream",
     "text": [
      "Requirement already satisfied: tqdm in /opt/homebrew/Caskroom/miniforge/base/envs/dojo-env/lib/python3.8/site-packages (4.64.0)\r\n"
     ]
    }
   ],
   "source": [
    "!pip install tqdm"
   ]
  },
  {
   "cell_type": "code",
   "execution_count": 2,
   "metadata": {},
   "outputs": [],
   "source": [
    "# Standard Imports\n",
    "import numpy as np\n",
    "import pandas as pd\n",
    "import matplotlib.pyplot as plt\n",
    "import seaborn as sns\n",
    "\n",
    "# Additional Imports\n",
    "import os, json, math, time\n",
    "from yelpapi import YelpAPI\n",
    "from tqdm.notebook import tqdm_notebook"
   ]
  },
  {
   "cell_type": "markdown",
   "metadata": {
    "id": "1l3Z-79nBSX9"
   },
   "source": [
    "## 1. Registering for Required APIs"
   ]
  },
  {
   "cell_type": "markdown",
   "metadata": {
    "id": "1l3Z-79nBSX9"
   },
   "source": [
    "\n",
    "- Yelp: https://www.yelp.com/developers/documentation/v3/get_started\n"
   ]
  },
  {
   "cell_type": "markdown",
   "metadata": {},
   "source": [
    "> Check the official API documentation to know what arguments we can search for: https://www.yelp.com/developers/documentation/v3/business_search"
   ]
  },
  {
   "cell_type": "markdown",
   "metadata": {},
   "source": [
    "### Load Credentials and Create Yelp API Object"
   ]
  },
  {
   "cell_type": "code",
   "execution_count": 3,
   "metadata": {
    "ExecuteTime": {
     "end_time": "2022-03-25T18:20:46.629934Z",
     "start_time": "2022-03-25T18:20:45.915864Z"
    },
    "colab": {
     "base_uri": "https://localhost:8080/"
    },
    "id": "xJYqVvNkE36a",
    "outputId": "67798160-dea2-41fc-9040-2b3833efa560"
   },
   "outputs": [],
   "source": [
    "# Load API Credentials\n",
    "with open('/Users/purvikansara/.secret/yelp_api.json') as f:\n",
    "    creds = json.load(f)"
   ]
  },
  {
   "cell_type": "code",
   "execution_count": 4,
   "metadata": {},
   "outputs": [
    {
     "data": {
      "text/plain": [
       "dict_keys(['Client-ID', 'API Key'])"
      ]
     },
     "execution_count": 4,
     "metadata": {},
     "output_type": "execute_result"
    }
   ],
   "source": [
    "creds.keys()"
   ]
  },
  {
   "cell_type": "code",
   "execution_count": 21,
   "metadata": {},
   "outputs": [
    {
     "data": {
      "text/plain": [
       "<yelpapi.yelpapi.YelpAPI at 0x148c735e0>"
      ]
     },
     "execution_count": 21,
     "metadata": {},
     "output_type": "execute_result"
    }
   ],
   "source": [
    "# Instantiate YelpAPI Variable\n",
    "yelp = YelpAPI(creds['API Key'],timeout_s=5.0)\n",
    "yelp"
   ]
  },
  {
   "cell_type": "markdown",
   "metadata": {},
   "source": [
    "### Define Search Terms and File Paths"
   ]
  },
  {
   "cell_type": "code",
   "execution_count": 8,
   "metadata": {},
   "outputs": [],
   "source": [
    "# set our API call parameters and filename before the first call\n",
    "LOCATION = \"Seattle, WA 98122\"\n",
    "TERM = \"Coffee\""
   ]
  },
  {
   "cell_type": "code",
   "execution_count": 15,
   "metadata": {},
   "outputs": [],
   "source": [
    "## Specify folder for saving data\n",
    "FOLDER = \"Data/\"\n",
    "os.makedirs(FOLDER,exist_ok = True)"
   ]
  },
  {
   "cell_type": "code",
   "execution_count": 16,
   "metadata": {},
   "outputs": [],
   "source": [
    "# Specifying JSON_FILE filename (can include a folder)\n",
    "JSON_FILE = FOLDER+\"Seattle Coffee.json\""
   ]
  },
  {
   "cell_type": "code",
   "execution_count": 17,
   "metadata": {},
   "outputs": [
    {
     "data": {
      "text/plain": [
       "'Data/Seattle Coffee.json'"
      ]
     },
     "execution_count": 17,
     "metadata": {},
     "output_type": "execute_result"
    }
   ],
   "source": [
    "JSON_FILE"
   ]
  },
  {
   "cell_type": "code",
   "execution_count": 18,
   "metadata": {},
   "outputs": [
    {
     "data": {
      "text/plain": [
       "'Seattle'"
      ]
     },
     "execution_count": 18,
     "metadata": {},
     "output_type": "execute_result"
    }
   ],
   "source": [
    "LOCATION.split(',')[0]"
   ]
  },
  {
   "cell_type": "code",
   "execution_count": 19,
   "metadata": {},
   "outputs": [],
   "source": [
    "# Specifying JSON_FILE filename (can include a folder)\n",
    "JSON_FILE = FOLDER+ f\"{LOCATION.split(',')[0]}-{TERM}.json\""
   ]
  },
  {
   "cell_type": "code",
   "execution_count": 20,
   "metadata": {},
   "outputs": [
    {
     "data": {
      "text/plain": [
       "'Data/Seattle-Coffee.json'"
      ]
     },
     "execution_count": 20,
     "metadata": {},
     "output_type": "execute_result"
    }
   ],
   "source": [
    "JSON_FILE"
   ]
  },
  {
   "cell_type": "markdown",
   "metadata": {},
   "source": [
    "### Make the first API call to get the first page of data"
   ]
  },
  {
   "cell_type": "markdown",
   "metadata": {},
   "source": [
    "- We will use this first result to check:\n",
    "    - how many total results there are?\n",
    "    - Where is the actual data we want to save?\n",
    "    - how many results do we get at a time?\n"
   ]
  },
  {
   "cell_type": "code",
   "execution_count": 23,
   "metadata": {},
   "outputs": [
    {
     "data": {
      "text/plain": [
       "dict"
      ]
     },
     "execution_count": 23,
     "metadata": {},
     "output_type": "execute_result"
    }
   ],
   "source": [
    "# use our yelp_api variable's search_query method to perform our API call\n",
    "results = yelp.search_query(term=TERM,location = LOCATION)\n",
    "type(results)\n"
   ]
  },
  {
   "cell_type": "code",
   "execution_count": 24,
   "metadata": {},
   "outputs": [
    {
     "data": {
      "text/plain": [
       "dict_keys(['businesses', 'total', 'region'])"
      ]
     },
     "execution_count": 24,
     "metadata": {},
     "output_type": "execute_result"
    }
   ],
   "source": [
    "results.keys()"
   ]
  },
  {
   "cell_type": "code",
   "execution_count": 26,
   "metadata": {},
   "outputs": [
    {
     "data": {
      "text/plain": [
       "list"
      ]
     },
     "execution_count": 26,
     "metadata": {},
     "output_type": "execute_result"
    }
   ],
   "source": [
    "type(results['businesses'])\n"
   ]
  },
  {
   "cell_type": "code",
   "execution_count": 27,
   "metadata": {},
   "outputs": [
    {
     "data": {
      "text/plain": [
       "20"
      ]
     },
     "execution_count": 27,
     "metadata": {},
     "output_type": "execute_result"
    }
   ],
   "source": [
    "len(results['businesses'])"
   ]
  },
  {
   "cell_type": "code",
   "execution_count": 37,
   "metadata": {},
   "outputs": [
    {
     "data": {
      "text/plain": [
       "{'id': 'yLZborRy-JRAKtTWBk9a9g',\n",
       " 'alias': 'union-coffee-and-wine-seattle',\n",
       " 'name': 'Union Coffee and Wine ',\n",
       " 'image_url': 'https://s3-media2.fl.yelpcdn.com/bphoto/99K9k7mqUWBoCPCLIzTvJQ/o.jpg',\n",
       " 'is_closed': False,\n",
       " 'url': 'https://www.yelp.com/biz/union-coffee-and-wine-seattle?adjust_creative=r8Qlusnw5U_OXTmzDH90Ug&utm_campaign=yelp_api_v3&utm_medium=api_v3_business_search&utm_source=r8Qlusnw5U_OXTmzDH90Ug',\n",
       " 'review_count': 96,\n",
       " 'categories': [{'alias': 'coffee', 'title': 'Coffee & Tea'},\n",
       "  {'alias': 'wine_bars', 'title': 'Wine Bars'}],\n",
       " 'rating': 4.5,\n",
       " 'coordinates': {'latitude': 47.61274, 'longitude': -122.30103},\n",
       " 'transactions': ['delivery'],\n",
       " 'price': '$',\n",
       " 'location': {'address1': '2407 E Union St',\n",
       "  'address2': 'Ste B',\n",
       "  'address3': None,\n",
       "  'city': 'Seattle',\n",
       "  'zip_code': '98122',\n",
       "  'country': 'US',\n",
       "  'state': 'WA',\n",
       "  'display_address': ['2407 E Union St', 'Ste B', 'Seattle, WA 98122']},\n",
       " 'phone': '+17066314474',\n",
       " 'display_phone': '(706) 631-4474',\n",
       " 'distance': 406.41569530434117}"
      ]
     },
     "execution_count": 37,
     "metadata": {},
     "output_type": "execute_result"
    }
   ],
   "source": [
    "results['businesses'][0]"
   ]
  },
  {
   "cell_type": "code",
   "execution_count": 38,
   "metadata": {},
   "outputs": [
    {
     "data": {
      "text/plain": [
       "1500"
      ]
     },
     "execution_count": 38,
     "metadata": {},
     "output_type": "execute_result"
    }
   ],
   "source": [
    "results['total']"
   ]
  },
  {
   "cell_type": "code",
   "execution_count": 29,
   "metadata": {},
   "outputs": [
    {
     "data": {
      "text/plain": [
       "{'center': {'longitude': -122.29568481445312, 'latitude': 47.61309534151991}}"
      ]
     },
     "execution_count": 29,
     "metadata": {},
     "output_type": "execute_result"
    }
   ],
   "source": [
    "results['region']"
   ]
  },
  {
   "cell_type": "code",
   "execution_count": 30,
   "metadata": {},
   "outputs": [
    {
     "data": {
      "text/html": [
       "<div>\n",
       "<style scoped>\n",
       "    .dataframe tbody tr th:only-of-type {\n",
       "        vertical-align: middle;\n",
       "    }\n",
       "\n",
       "    .dataframe tbody tr th {\n",
       "        vertical-align: top;\n",
       "    }\n",
       "\n",
       "    .dataframe thead th {\n",
       "        text-align: right;\n",
       "    }\n",
       "</style>\n",
       "<table border=\"1\" class=\"dataframe\">\n",
       "  <thead>\n",
       "    <tr style=\"text-align: right;\">\n",
       "      <th></th>\n",
       "      <th>id</th>\n",
       "      <th>alias</th>\n",
       "      <th>name</th>\n",
       "      <th>image_url</th>\n",
       "      <th>is_closed</th>\n",
       "      <th>url</th>\n",
       "      <th>review_count</th>\n",
       "      <th>categories</th>\n",
       "      <th>rating</th>\n",
       "      <th>coordinates</th>\n",
       "      <th>transactions</th>\n",
       "      <th>price</th>\n",
       "      <th>location</th>\n",
       "      <th>phone</th>\n",
       "      <th>display_phone</th>\n",
       "      <th>distance</th>\n",
       "    </tr>\n",
       "  </thead>\n",
       "  <tbody>\n",
       "    <tr>\n",
       "      <th>0</th>\n",
       "      <td>yLZborRy-JRAKtTWBk9a9g</td>\n",
       "      <td>union-coffee-and-wine-seattle</td>\n",
       "      <td>Union Coffee and Wine</td>\n",
       "      <td>https://s3-media2.fl.yelpcdn.com/bphoto/99K9k7...</td>\n",
       "      <td>False</td>\n",
       "      <td>https://www.yelp.com/biz/union-coffee-and-wine...</td>\n",
       "      <td>96</td>\n",
       "      <td>[{'alias': 'coffee', 'title': 'Coffee &amp; Tea'},...</td>\n",
       "      <td>4.5</td>\n",
       "      <td>{'latitude': 47.61274, 'longitude': -122.30103}</td>\n",
       "      <td>[delivery]</td>\n",
       "      <td>$</td>\n",
       "      <td>{'address1': '2407 E Union St', 'address2': 'S...</td>\n",
       "      <td>+17066314474</td>\n",
       "      <td>(706) 631-4474</td>\n",
       "      <td>406.415695</td>\n",
       "    </tr>\n",
       "    <tr>\n",
       "      <th>1</th>\n",
       "      <td>mUtrinuyznLic5wYc09LeA</td>\n",
       "      <td>arosa-cafe-seattle-6</td>\n",
       "      <td>Arosa Cafe</td>\n",
       "      <td>https://s3-media2.fl.yelpcdn.com/bphoto/Sz1XcR...</td>\n",
       "      <td>False</td>\n",
       "      <td>https://www.yelp.com/biz/arosa-cafe-seattle-6?...</td>\n",
       "      <td>105</td>\n",
       "      <td>[{'alias': 'coffee', 'title': 'Coffee &amp; Tea'},...</td>\n",
       "      <td>4.5</td>\n",
       "      <td>{'latitude': 47.62622241003878, 'longitude': -...</td>\n",
       "      <td>[delivery, pickup]</td>\n",
       "      <td>$</td>\n",
       "      <td>{'address1': '3121 E Madison St', 'address2': ...</td>\n",
       "      <td>+12064050605</td>\n",
       "      <td>(206) 405-0605</td>\n",
       "      <td>1487.954980</td>\n",
       "    </tr>\n",
       "    <tr>\n",
       "      <th>2</th>\n",
       "      <td>yCLUXtS6a1xMicPSsmdTfA</td>\n",
       "      <td>squirrel-chops-seattle</td>\n",
       "      <td>Squirrel Chops</td>\n",
       "      <td>https://s3-media2.fl.yelpcdn.com/bphoto/0fA2eb...</td>\n",
       "      <td>False</td>\n",
       "      <td>https://www.yelp.com/biz/squirrel-chops-seattl...</td>\n",
       "      <td>90</td>\n",
       "      <td>[{'alias': 'coffee', 'title': 'Coffee &amp; Tea'}]</td>\n",
       "      <td>4.5</td>\n",
       "      <td>{'latitude': 47.6128151, 'longitude': -122.303...</td>\n",
       "      <td>[]</td>\n",
       "      <td>$</td>\n",
       "      <td>{'address1': '2201 E Union St', 'address2': ''...</td>\n",
       "      <td>+12064857017</td>\n",
       "      <td>(206) 485-7017</td>\n",
       "      <td>572.723877</td>\n",
       "    </tr>\n",
       "    <tr>\n",
       "      <th>3</th>\n",
       "      <td>9TnUll8eOc5FREIQqrcrFg</td>\n",
       "      <td>verite-coffee-seattle</td>\n",
       "      <td>Verite Coffee</td>\n",
       "      <td>https://s3-media4.fl.yelpcdn.com/bphoto/SaSFeE...</td>\n",
       "      <td>False</td>\n",
       "      <td>https://www.yelp.com/biz/verite-coffee-seattle...</td>\n",
       "      <td>38</td>\n",
       "      <td>[{'alias': 'coffee', 'title': 'Coffee &amp; Tea'},...</td>\n",
       "      <td>3.0</td>\n",
       "      <td>{'latitude': 47.61175, 'longitude': -122.28953}</td>\n",
       "      <td>[]</td>\n",
       "      <td>$</td>\n",
       "      <td>{'address1': '1101 34th Ave', 'address2': '', ...</td>\n",
       "      <td>+12067094497</td>\n",
       "      <td>(206) 709-4497</td>\n",
       "      <td>483.915129</td>\n",
       "    </tr>\n",
       "    <tr>\n",
       "      <th>4</th>\n",
       "      <td>ebglfaWBLj-z7yqpG3BcsQ</td>\n",
       "      <td>golden-wheat-bakery-seattle</td>\n",
       "      <td>Golden Wheat Bakery</td>\n",
       "      <td>https://s3-media1.fl.yelpcdn.com/bphoto/YasEcz...</td>\n",
       "      <td>False</td>\n",
       "      <td>https://www.yelp.com/biz/golden-wheat-bakery-s...</td>\n",
       "      <td>128</td>\n",
       "      <td>[{'alias': 'bakeries', 'title': 'Bakeries'}, {...</td>\n",
       "      <td>4.5</td>\n",
       "      <td>{'latitude': 47.608213, 'longitude': -122.294437}</td>\n",
       "      <td>[delivery]</td>\n",
       "      <td>$</td>\n",
       "      <td>{'address1': '2908 E Cherry St', 'address2': '...</td>\n",
       "      <td>+12063255055</td>\n",
       "      <td>(206) 325-5055</td>\n",
       "      <td>550.890653</td>\n",
       "    </tr>\n",
       "    <tr>\n",
       "      <th>5</th>\n",
       "      <td>Q8Nlx_FeZ4LW0kdbnHoyrw</td>\n",
       "      <td>qed-coffee-seattle</td>\n",
       "      <td>QED Coffee</td>\n",
       "      <td>https://s3-media3.fl.yelpcdn.com/bphoto/HwagNI...</td>\n",
       "      <td>False</td>\n",
       "      <td>https://www.yelp.com/biz/qed-coffee-seattle?ad...</td>\n",
       "      <td>104</td>\n",
       "      <td>[{'alias': 'coffee', 'title': 'Coffee &amp; Tea'}]</td>\n",
       "      <td>4.5</td>\n",
       "      <td>{'latitude': 47.5896816513796, 'longitude': -1...</td>\n",
       "      <td>[delivery]</td>\n",
       "      <td>$$</td>\n",
       "      <td>{'address1': '1418 31st Ave S', 'address2': ''...</td>\n",
       "      <td>+12062357678</td>\n",
       "      <td>(206) 235-7678</td>\n",
       "      <td>2615.675293</td>\n",
       "    </tr>\n",
       "    <tr>\n",
       "      <th>6</th>\n",
       "      <td>eHM1er15ptmC6Q21-9ZteA</td>\n",
       "      <td>central-cafe-and-juice-bar-seattle</td>\n",
       "      <td>Central Cafe &amp; Juice Bar</td>\n",
       "      <td>https://s3-media2.fl.yelpcdn.com/bphoto/41ZaCQ...</td>\n",
       "      <td>False</td>\n",
       "      <td>https://www.yelp.com/biz/central-cafe-and-juic...</td>\n",
       "      <td>60</td>\n",
       "      <td>[{'alias': 'juicebars', 'title': 'Juice Bars &amp;...</td>\n",
       "      <td>5.0</td>\n",
       "      <td>{'latitude': 47.60782, 'longitude': -122.29946}</td>\n",
       "      <td>[delivery, pickup]</td>\n",
       "      <td>$</td>\n",
       "      <td>{'address1': '2509 E Cherry St', 'address2': N...</td>\n",
       "      <td></td>\n",
       "      <td></td>\n",
       "      <td>651.324295</td>\n",
       "    </tr>\n",
       "    <tr>\n",
       "      <th>7</th>\n",
       "      <td>e7uwwJKDamfG7psm5hZdtw</td>\n",
       "      <td>good-neighbor-cafe-seattle-2</td>\n",
       "      <td>Good Neighbor Cafe</td>\n",
       "      <td>https://s3-media1.fl.yelpcdn.com/bphoto/_4ZQZx...</td>\n",
       "      <td>False</td>\n",
       "      <td>https://www.yelp.com/biz/good-neighbor-cafe-se...</td>\n",
       "      <td>44</td>\n",
       "      <td>[{'alias': 'sandwiches', 'title': 'Sandwiches'...</td>\n",
       "      <td>4.5</td>\n",
       "      <td>{'latitude': 47.60321, 'longitude': -122.30742}</td>\n",
       "      <td>[delivery, pickup]</td>\n",
       "      <td>NaN</td>\n",
       "      <td>{'address1': '166 19th Ave', 'address2': 'Ste ...</td>\n",
       "      <td>+12063287002</td>\n",
       "      <td>(206) 328-7002</td>\n",
       "      <td>1405.654043</td>\n",
       "    </tr>\n",
       "    <tr>\n",
       "      <th>8</th>\n",
       "      <td>2ZrovOWUNfzpSJlx-7DYCw</td>\n",
       "      <td>hello-em-viet-coffee-and-roastery-seattle-2</td>\n",
       "      <td>Hello Em Viet Coffee &amp; Roastery</td>\n",
       "      <td>https://s3-media2.fl.yelpcdn.com/bphoto/Wua0EA...</td>\n",
       "      <td>False</td>\n",
       "      <td>https://www.yelp.com/biz/hello-em-viet-coffee-...</td>\n",
       "      <td>235</td>\n",
       "      <td>[{'alias': 'coffeeroasteries', 'title': 'Coffe...</td>\n",
       "      <td>4.5</td>\n",
       "      <td>{'latitude': 47.59732, 'longitude': -122.31544}</td>\n",
       "      <td>[]</td>\n",
       "      <td>$</td>\n",
       "      <td>{'address1': '1227 S Weller St', 'address2': '...</td>\n",
       "      <td></td>\n",
       "      <td></td>\n",
       "      <td>2296.777516</td>\n",
       "    </tr>\n",
       "    <tr>\n",
       "      <th>9</th>\n",
       "      <td>SALUHYOpT9mk_GHfGzUKXw</td>\n",
       "      <td>temple-pastries-seattle-2</td>\n",
       "      <td>Temple Pastries</td>\n",
       "      <td>https://s3-media1.fl.yelpcdn.com/bphoto/Xf1Dld...</td>\n",
       "      <td>False</td>\n",
       "      <td>https://www.yelp.com/biz/temple-pastries-seatt...</td>\n",
       "      <td>100</td>\n",
       "      <td>[{'alias': 'bakeries', 'title': 'Bakeries'}]</td>\n",
       "      <td>4.5</td>\n",
       "      <td>{'latitude': 47.599309353938516, 'longitude': ...</td>\n",
       "      <td>[delivery]</td>\n",
       "      <td>NaN</td>\n",
       "      <td>{'address1': '2524 S Jackson St', 'address2': ...</td>\n",
       "      <td>+12064084131</td>\n",
       "      <td>(206) 408-4131</td>\n",
       "      <td>1549.486738</td>\n",
       "    </tr>\n",
       "    <tr>\n",
       "      <th>10</th>\n",
       "      <td>_TP_5eY-EgZDzq8CdFjP7g</td>\n",
       "      <td>broadcast-coffee-roasters-seattle</td>\n",
       "      <td>Broadcast Coffee Roasters</td>\n",
       "      <td>https://s3-media2.fl.yelpcdn.com/bphoto/a3sgoJ...</td>\n",
       "      <td>False</td>\n",
       "      <td>https://www.yelp.com/biz/broadcast-coffee-roas...</td>\n",
       "      <td>149</td>\n",
       "      <td>[{'alias': 'coffee', 'title': 'Coffee &amp; Tea'}]</td>\n",
       "      <td>4.0</td>\n",
       "      <td>{'latitude': 47.6019325256348, 'longitude': -1...</td>\n",
       "      <td>[delivery]</td>\n",
       "      <td>$</td>\n",
       "      <td>{'address1': '1918 E Yesler Way', 'address2': ...</td>\n",
       "      <td>+12063220807</td>\n",
       "      <td>(206) 322-0807</td>\n",
       "      <td>1501.359954</td>\n",
       "    </tr>\n",
       "    <tr>\n",
       "      <th>11</th>\n",
       "      <td>4o7FQKh8GXSOjoJa1OXfsw</td>\n",
       "      <td>overcast-coffee-company-seattle</td>\n",
       "      <td>Overcast Coffee Company</td>\n",
       "      <td>https://s3-media2.fl.yelpcdn.com/bphoto/xz55iC...</td>\n",
       "      <td>False</td>\n",
       "      <td>https://www.yelp.com/biz/overcast-coffee-compa...</td>\n",
       "      <td>38</td>\n",
       "      <td>[{'alias': 'cafes', 'title': 'Cafes'}, {'alias...</td>\n",
       "      <td>5.0</td>\n",
       "      <td>{'latitude': 47.62092, 'longitude': -122.31256}</td>\n",
       "      <td>[delivery, pickup]</td>\n",
       "      <td>$</td>\n",
       "      <td>{'address1': '312 15th Ave E', 'address2': '',...</td>\n",
       "      <td>+12063222220</td>\n",
       "      <td>(206) 322-2220</td>\n",
       "      <td>1529.086775</td>\n",
       "    </tr>\n",
       "    <tr>\n",
       "      <th>12</th>\n",
       "      <td>K-X3rRAVbeMZ0VIDWuPX_Q</td>\n",
       "      <td>anchorhead-coffee-seattle</td>\n",
       "      <td>Anchorhead Coffee</td>\n",
       "      <td>https://s3-media2.fl.yelpcdn.com/bphoto/OITyX_...</td>\n",
       "      <td>False</td>\n",
       "      <td>https://www.yelp.com/biz/anchorhead-coffee-sea...</td>\n",
       "      <td>659</td>\n",
       "      <td>[{'alias': 'coffee', 'title': 'Coffee &amp; Tea'},...</td>\n",
       "      <td>4.5</td>\n",
       "      <td>{'latitude': 47.6133808022766, 'longitude': -1...</td>\n",
       "      <td>[delivery]</td>\n",
       "      <td>$$</td>\n",
       "      <td>{'address1': '1600 7th Ave', 'address2': 'Ste ...</td>\n",
       "      <td>+12062222222</td>\n",
       "      <td>(206) 222-2222</td>\n",
       "      <td>2924.087554</td>\n",
       "    </tr>\n",
       "    <tr>\n",
       "      <th>13</th>\n",
       "      <td>NODuSm6R6hfvoONZbrVuJQ</td>\n",
       "      <td>url-coffee-seattle</td>\n",
       "      <td>URL Coffee</td>\n",
       "      <td>https://s3-media4.fl.yelpcdn.com/bphoto/Jgm-IR...</td>\n",
       "      <td>False</td>\n",
       "      <td>https://www.yelp.com/biz/url-coffee-seattle?ad...</td>\n",
       "      <td>30</td>\n",
       "      <td>[{'alias': 'cafes', 'title': 'Cafes'}]</td>\n",
       "      <td>5.0</td>\n",
       "      <td>{'latitude': 47.60672503133874, 'longitude': -...</td>\n",
       "      <td>[delivery]</td>\n",
       "      <td>NaN</td>\n",
       "      <td>{'address1': '524 Broadway', 'address2': None,...</td>\n",
       "      <td></td>\n",
       "      <td></td>\n",
       "      <td>1992.130352</td>\n",
       "    </tr>\n",
       "    <tr>\n",
       "      <th>14</th>\n",
       "      <td>KkDoL5MCOMAPJA4NaS-xgw</td>\n",
       "      <td>fuel-coffee-and-books-seattle</td>\n",
       "      <td>Fuel Coffee &amp; Books</td>\n",
       "      <td>https://s3-media1.fl.yelpcdn.com/bphoto/kx3cc_...</td>\n",
       "      <td>False</td>\n",
       "      <td>https://www.yelp.com/biz/fuel-coffee-and-books...</td>\n",
       "      <td>98</td>\n",
       "      <td>[{'alias': 'coffee', 'title': 'Coffee &amp; Tea'}]</td>\n",
       "      <td>4.0</td>\n",
       "      <td>{'latitude': 47.63967, 'longitude': -122.30182}</td>\n",
       "      <td>[delivery]</td>\n",
       "      <td>$</td>\n",
       "      <td>{'address1': '2300 24th Ave E', 'address2': No...</td>\n",
       "      <td>+12063280700</td>\n",
       "      <td>(206) 328-0700</td>\n",
       "      <td>2988.904316</td>\n",
       "    </tr>\n",
       "    <tr>\n",
       "      <th>15</th>\n",
       "      <td>FVzl8rDPiTWEtrNEuCu-Xg</td>\n",
       "      <td>storyville-coffee-company-seattle-9</td>\n",
       "      <td>Storyville Coffee Company</td>\n",
       "      <td>https://s3-media3.fl.yelpcdn.com/bphoto/TecGMk...</td>\n",
       "      <td>False</td>\n",
       "      <td>https://www.yelp.com/biz/storyville-coffee-com...</td>\n",
       "      <td>2046</td>\n",
       "      <td>[{'alias': 'coffee', 'title': 'Coffee &amp; Tea'},...</td>\n",
       "      <td>4.5</td>\n",
       "      <td>{'latitude': 47.60895949363687, 'longitude': -...</td>\n",
       "      <td>[delivery, pickup]</td>\n",
       "      <td>$$</td>\n",
       "      <td>{'address1': '94 Pike St', 'address2': 'Ste 34...</td>\n",
       "      <td>+12067805777</td>\n",
       "      <td>(206) 780-5777</td>\n",
       "      <td>3385.734739</td>\n",
       "    </tr>\n",
       "    <tr>\n",
       "      <th>16</th>\n",
       "      <td>ZObS_CQXBicbvtGPaQv90A</td>\n",
       "      <td>overcast-coffee-bar-seattle</td>\n",
       "      <td>Overcast Coffee Bar</td>\n",
       "      <td>https://s3-media4.fl.yelpcdn.com/bphoto/zkN4BG...</td>\n",
       "      <td>False</td>\n",
       "      <td>https://www.yelp.com/biz/overcast-coffee-bar-s...</td>\n",
       "      <td>9</td>\n",
       "      <td>[{'alias': 'coffee', 'title': 'Coffee &amp; Tea'}]</td>\n",
       "      <td>5.0</td>\n",
       "      <td>{'latitude': 47.612681092953295, 'longitude': ...</td>\n",
       "      <td>[]</td>\n",
       "      <td>$$</td>\n",
       "      <td>{'address1': '1017 E Union St', 'address2': ''...</td>\n",
       "      <td>+12063222220</td>\n",
       "      <td>(206) 322-2220</td>\n",
       "      <td>1731.493007</td>\n",
       "    </tr>\n",
       "    <tr>\n",
       "      <th>17</th>\n",
       "      <td>h1dhP2ZRiMGE2RdpUtputg</td>\n",
       "      <td>coffeeholic-house-seattle</td>\n",
       "      <td>Coffeeholic House</td>\n",
       "      <td>https://s3-media2.fl.yelpcdn.com/bphoto/dVvN0G...</td>\n",
       "      <td>False</td>\n",
       "      <td>https://www.yelp.com/biz/coffeeholic-house-sea...</td>\n",
       "      <td>568</td>\n",
       "      <td>[{'alias': 'coffee', 'title': 'Coffee &amp; Tea'}]</td>\n",
       "      <td>4.5</td>\n",
       "      <td>{'latitude': 47.55723, 'longitude': -122.28596}</td>\n",
       "      <td>[delivery]</td>\n",
       "      <td>$$</td>\n",
       "      <td>{'address1': '3700 S Hudson St', 'address2': N...</td>\n",
       "      <td>+12067223327</td>\n",
       "      <td>(206) 722-3327</td>\n",
       "      <td>6248.940850</td>\n",
       "    </tr>\n",
       "    <tr>\n",
       "      <th>18</th>\n",
       "      <td>AEdVTLYjw6rnmEkTCvqAPQ</td>\n",
       "      <td>katys-corner-cafe-seattle</td>\n",
       "      <td>Katy's Corner Cafe</td>\n",
       "      <td>https://s3-media2.fl.yelpcdn.com/bphoto/CmXPP6...</td>\n",
       "      <td>False</td>\n",
       "      <td>https://www.yelp.com/biz/katys-corner-cafe-sea...</td>\n",
       "      <td>187</td>\n",
       "      <td>[{'alias': 'coffee', 'title': 'Coffee &amp; Tea'},...</td>\n",
       "      <td>4.5</td>\n",
       "      <td>{'latitude': 47.6130549, 'longitude': -122.306...</td>\n",
       "      <td>[delivery, pickup]</td>\n",
       "      <td>$</td>\n",
       "      <td>{'address1': '2000 E Union St', 'address2': No...</td>\n",
       "      <td>+12063290121</td>\n",
       "      <td>(206) 329-0121</td>\n",
       "      <td>773.714431</td>\n",
       "    </tr>\n",
       "    <tr>\n",
       "      <th>19</th>\n",
       "      <td>fG_BWbjBpW0Ah1YJPt7EQQ</td>\n",
       "      <td>victrola-coffee-and-art-seattle</td>\n",
       "      <td>Victrola Coffee &amp; Art</td>\n",
       "      <td>https://s3-media2.fl.yelpcdn.com/bphoto/h8_msC...</td>\n",
       "      <td>False</td>\n",
       "      <td>https://www.yelp.com/biz/victrola-coffee-and-a...</td>\n",
       "      <td>345</td>\n",
       "      <td>[{'alias': 'coffeeroasteries', 'title': 'Coffe...</td>\n",
       "      <td>4.0</td>\n",
       "      <td>{'latitude': 47.6224997681791, 'longitude': -1...</td>\n",
       "      <td>[delivery]</td>\n",
       "      <td>$$</td>\n",
       "      <td>{'address1': '411 15th Ave E', 'address2': '',...</td>\n",
       "      <td>+12063256520</td>\n",
       "      <td>(206) 325-6520</td>\n",
       "      <td>1654.124876</td>\n",
       "    </tr>\n",
       "  </tbody>\n",
       "</table>\n",
       "</div>"
      ],
      "text/plain": [
       "                        id                                        alias  \\\n",
       "0   yLZborRy-JRAKtTWBk9a9g                union-coffee-and-wine-seattle   \n",
       "1   mUtrinuyznLic5wYc09LeA                         arosa-cafe-seattle-6   \n",
       "2   yCLUXtS6a1xMicPSsmdTfA                       squirrel-chops-seattle   \n",
       "3   9TnUll8eOc5FREIQqrcrFg                        verite-coffee-seattle   \n",
       "4   ebglfaWBLj-z7yqpG3BcsQ                  golden-wheat-bakery-seattle   \n",
       "5   Q8Nlx_FeZ4LW0kdbnHoyrw                           qed-coffee-seattle   \n",
       "6   eHM1er15ptmC6Q21-9ZteA           central-cafe-and-juice-bar-seattle   \n",
       "7   e7uwwJKDamfG7psm5hZdtw                 good-neighbor-cafe-seattle-2   \n",
       "8   2ZrovOWUNfzpSJlx-7DYCw  hello-em-viet-coffee-and-roastery-seattle-2   \n",
       "9   SALUHYOpT9mk_GHfGzUKXw                    temple-pastries-seattle-2   \n",
       "10  _TP_5eY-EgZDzq8CdFjP7g            broadcast-coffee-roasters-seattle   \n",
       "11  4o7FQKh8GXSOjoJa1OXfsw              overcast-coffee-company-seattle   \n",
       "12  K-X3rRAVbeMZ0VIDWuPX_Q                    anchorhead-coffee-seattle   \n",
       "13  NODuSm6R6hfvoONZbrVuJQ                           url-coffee-seattle   \n",
       "14  KkDoL5MCOMAPJA4NaS-xgw                fuel-coffee-and-books-seattle   \n",
       "15  FVzl8rDPiTWEtrNEuCu-Xg          storyville-coffee-company-seattle-9   \n",
       "16  ZObS_CQXBicbvtGPaQv90A                  overcast-coffee-bar-seattle   \n",
       "17  h1dhP2ZRiMGE2RdpUtputg                    coffeeholic-house-seattle   \n",
       "18  AEdVTLYjw6rnmEkTCvqAPQ                    katys-corner-cafe-seattle   \n",
       "19  fG_BWbjBpW0Ah1YJPt7EQQ              victrola-coffee-and-art-seattle   \n",
       "\n",
       "                               name  \\\n",
       "0            Union Coffee and Wine    \n",
       "1                        Arosa Cafe   \n",
       "2                    Squirrel Chops   \n",
       "3                     Verite Coffee   \n",
       "4               Golden Wheat Bakery   \n",
       "5                        QED Coffee   \n",
       "6          Central Cafe & Juice Bar   \n",
       "7                Good Neighbor Cafe   \n",
       "8   Hello Em Viet Coffee & Roastery   \n",
       "9                   Temple Pastries   \n",
       "10        Broadcast Coffee Roasters   \n",
       "11          Overcast Coffee Company   \n",
       "12                Anchorhead Coffee   \n",
       "13                       URL Coffee   \n",
       "14              Fuel Coffee & Books   \n",
       "15        Storyville Coffee Company   \n",
       "16              Overcast Coffee Bar   \n",
       "17                Coffeeholic House   \n",
       "18               Katy's Corner Cafe   \n",
       "19            Victrola Coffee & Art   \n",
       "\n",
       "                                            image_url  is_closed  \\\n",
       "0   https://s3-media2.fl.yelpcdn.com/bphoto/99K9k7...      False   \n",
       "1   https://s3-media2.fl.yelpcdn.com/bphoto/Sz1XcR...      False   \n",
       "2   https://s3-media2.fl.yelpcdn.com/bphoto/0fA2eb...      False   \n",
       "3   https://s3-media4.fl.yelpcdn.com/bphoto/SaSFeE...      False   \n",
       "4   https://s3-media1.fl.yelpcdn.com/bphoto/YasEcz...      False   \n",
       "5   https://s3-media3.fl.yelpcdn.com/bphoto/HwagNI...      False   \n",
       "6   https://s3-media2.fl.yelpcdn.com/bphoto/41ZaCQ...      False   \n",
       "7   https://s3-media1.fl.yelpcdn.com/bphoto/_4ZQZx...      False   \n",
       "8   https://s3-media2.fl.yelpcdn.com/bphoto/Wua0EA...      False   \n",
       "9   https://s3-media1.fl.yelpcdn.com/bphoto/Xf1Dld...      False   \n",
       "10  https://s3-media2.fl.yelpcdn.com/bphoto/a3sgoJ...      False   \n",
       "11  https://s3-media2.fl.yelpcdn.com/bphoto/xz55iC...      False   \n",
       "12  https://s3-media2.fl.yelpcdn.com/bphoto/OITyX_...      False   \n",
       "13  https://s3-media4.fl.yelpcdn.com/bphoto/Jgm-IR...      False   \n",
       "14  https://s3-media1.fl.yelpcdn.com/bphoto/kx3cc_...      False   \n",
       "15  https://s3-media3.fl.yelpcdn.com/bphoto/TecGMk...      False   \n",
       "16  https://s3-media4.fl.yelpcdn.com/bphoto/zkN4BG...      False   \n",
       "17  https://s3-media2.fl.yelpcdn.com/bphoto/dVvN0G...      False   \n",
       "18  https://s3-media2.fl.yelpcdn.com/bphoto/CmXPP6...      False   \n",
       "19  https://s3-media2.fl.yelpcdn.com/bphoto/h8_msC...      False   \n",
       "\n",
       "                                                  url  review_count  \\\n",
       "0   https://www.yelp.com/biz/union-coffee-and-wine...            96   \n",
       "1   https://www.yelp.com/biz/arosa-cafe-seattle-6?...           105   \n",
       "2   https://www.yelp.com/biz/squirrel-chops-seattl...            90   \n",
       "3   https://www.yelp.com/biz/verite-coffee-seattle...            38   \n",
       "4   https://www.yelp.com/biz/golden-wheat-bakery-s...           128   \n",
       "5   https://www.yelp.com/biz/qed-coffee-seattle?ad...           104   \n",
       "6   https://www.yelp.com/biz/central-cafe-and-juic...            60   \n",
       "7   https://www.yelp.com/biz/good-neighbor-cafe-se...            44   \n",
       "8   https://www.yelp.com/biz/hello-em-viet-coffee-...           235   \n",
       "9   https://www.yelp.com/biz/temple-pastries-seatt...           100   \n",
       "10  https://www.yelp.com/biz/broadcast-coffee-roas...           149   \n",
       "11  https://www.yelp.com/biz/overcast-coffee-compa...            38   \n",
       "12  https://www.yelp.com/biz/anchorhead-coffee-sea...           659   \n",
       "13  https://www.yelp.com/biz/url-coffee-seattle?ad...            30   \n",
       "14  https://www.yelp.com/biz/fuel-coffee-and-books...            98   \n",
       "15  https://www.yelp.com/biz/storyville-coffee-com...          2046   \n",
       "16  https://www.yelp.com/biz/overcast-coffee-bar-s...             9   \n",
       "17  https://www.yelp.com/biz/coffeeholic-house-sea...           568   \n",
       "18  https://www.yelp.com/biz/katys-corner-cafe-sea...           187   \n",
       "19  https://www.yelp.com/biz/victrola-coffee-and-a...           345   \n",
       "\n",
       "                                           categories  rating  \\\n",
       "0   [{'alias': 'coffee', 'title': 'Coffee & Tea'},...     4.5   \n",
       "1   [{'alias': 'coffee', 'title': 'Coffee & Tea'},...     4.5   \n",
       "2      [{'alias': 'coffee', 'title': 'Coffee & Tea'}]     4.5   \n",
       "3   [{'alias': 'coffee', 'title': 'Coffee & Tea'},...     3.0   \n",
       "4   [{'alias': 'bakeries', 'title': 'Bakeries'}, {...     4.5   \n",
       "5      [{'alias': 'coffee', 'title': 'Coffee & Tea'}]     4.5   \n",
       "6   [{'alias': 'juicebars', 'title': 'Juice Bars &...     5.0   \n",
       "7   [{'alias': 'sandwiches', 'title': 'Sandwiches'...     4.5   \n",
       "8   [{'alias': 'coffeeroasteries', 'title': 'Coffe...     4.5   \n",
       "9        [{'alias': 'bakeries', 'title': 'Bakeries'}]     4.5   \n",
       "10     [{'alias': 'coffee', 'title': 'Coffee & Tea'}]     4.0   \n",
       "11  [{'alias': 'cafes', 'title': 'Cafes'}, {'alias...     5.0   \n",
       "12  [{'alias': 'coffee', 'title': 'Coffee & Tea'},...     4.5   \n",
       "13             [{'alias': 'cafes', 'title': 'Cafes'}]     5.0   \n",
       "14     [{'alias': 'coffee', 'title': 'Coffee & Tea'}]     4.0   \n",
       "15  [{'alias': 'coffee', 'title': 'Coffee & Tea'},...     4.5   \n",
       "16     [{'alias': 'coffee', 'title': 'Coffee & Tea'}]     5.0   \n",
       "17     [{'alias': 'coffee', 'title': 'Coffee & Tea'}]     4.5   \n",
       "18  [{'alias': 'coffee', 'title': 'Coffee & Tea'},...     4.5   \n",
       "19  [{'alias': 'coffeeroasteries', 'title': 'Coffe...     4.0   \n",
       "\n",
       "                                          coordinates        transactions  \\\n",
       "0     {'latitude': 47.61274, 'longitude': -122.30103}          [delivery]   \n",
       "1   {'latitude': 47.62622241003878, 'longitude': -...  [delivery, pickup]   \n",
       "2   {'latitude': 47.6128151, 'longitude': -122.303...                  []   \n",
       "3     {'latitude': 47.61175, 'longitude': -122.28953}                  []   \n",
       "4   {'latitude': 47.608213, 'longitude': -122.294437}          [delivery]   \n",
       "5   {'latitude': 47.5896816513796, 'longitude': -1...          [delivery]   \n",
       "6     {'latitude': 47.60782, 'longitude': -122.29946}  [delivery, pickup]   \n",
       "7     {'latitude': 47.60321, 'longitude': -122.30742}  [delivery, pickup]   \n",
       "8     {'latitude': 47.59732, 'longitude': -122.31544}                  []   \n",
       "9   {'latitude': 47.599309353938516, 'longitude': ...          [delivery]   \n",
       "10  {'latitude': 47.6019325256348, 'longitude': -1...          [delivery]   \n",
       "11    {'latitude': 47.62092, 'longitude': -122.31256}  [delivery, pickup]   \n",
       "12  {'latitude': 47.6133808022766, 'longitude': -1...          [delivery]   \n",
       "13  {'latitude': 47.60672503133874, 'longitude': -...          [delivery]   \n",
       "14    {'latitude': 47.63967, 'longitude': -122.30182}          [delivery]   \n",
       "15  {'latitude': 47.60895949363687, 'longitude': -...  [delivery, pickup]   \n",
       "16  {'latitude': 47.612681092953295, 'longitude': ...                  []   \n",
       "17    {'latitude': 47.55723, 'longitude': -122.28596}          [delivery]   \n",
       "18  {'latitude': 47.6130549, 'longitude': -122.306...  [delivery, pickup]   \n",
       "19  {'latitude': 47.6224997681791, 'longitude': -1...          [delivery]   \n",
       "\n",
       "   price                                           location         phone  \\\n",
       "0      $  {'address1': '2407 E Union St', 'address2': 'S...  +17066314474   \n",
       "1      $  {'address1': '3121 E Madison St', 'address2': ...  +12064050605   \n",
       "2      $  {'address1': '2201 E Union St', 'address2': ''...  +12064857017   \n",
       "3      $  {'address1': '1101 34th Ave', 'address2': '', ...  +12067094497   \n",
       "4      $  {'address1': '2908 E Cherry St', 'address2': '...  +12063255055   \n",
       "5     $$  {'address1': '1418 31st Ave S', 'address2': ''...  +12062357678   \n",
       "6      $  {'address1': '2509 E Cherry St', 'address2': N...                 \n",
       "7    NaN  {'address1': '166 19th Ave', 'address2': 'Ste ...  +12063287002   \n",
       "8      $  {'address1': '1227 S Weller St', 'address2': '...                 \n",
       "9    NaN  {'address1': '2524 S Jackson St', 'address2': ...  +12064084131   \n",
       "10     $  {'address1': '1918 E Yesler Way', 'address2': ...  +12063220807   \n",
       "11     $  {'address1': '312 15th Ave E', 'address2': '',...  +12063222220   \n",
       "12    $$  {'address1': '1600 7th Ave', 'address2': 'Ste ...  +12062222222   \n",
       "13   NaN  {'address1': '524 Broadway', 'address2': None,...                 \n",
       "14     $  {'address1': '2300 24th Ave E', 'address2': No...  +12063280700   \n",
       "15    $$  {'address1': '94 Pike St', 'address2': 'Ste 34...  +12067805777   \n",
       "16    $$  {'address1': '1017 E Union St', 'address2': ''...  +12063222220   \n",
       "17    $$  {'address1': '3700 S Hudson St', 'address2': N...  +12067223327   \n",
       "18     $  {'address1': '2000 E Union St', 'address2': No...  +12063290121   \n",
       "19    $$  {'address1': '411 15th Ave E', 'address2': '',...  +12063256520   \n",
       "\n",
       "     display_phone     distance  \n",
       "0   (706) 631-4474   406.415695  \n",
       "1   (206) 405-0605  1487.954980  \n",
       "2   (206) 485-7017   572.723877  \n",
       "3   (206) 709-4497   483.915129  \n",
       "4   (206) 325-5055   550.890653  \n",
       "5   (206) 235-7678  2615.675293  \n",
       "6                    651.324295  \n",
       "7   (206) 328-7002  1405.654043  \n",
       "8                   2296.777516  \n",
       "9   (206) 408-4131  1549.486738  \n",
       "10  (206) 322-0807  1501.359954  \n",
       "11  (206) 322-2220  1529.086775  \n",
       "12  (206) 222-2222  2924.087554  \n",
       "13                  1992.130352  \n",
       "14  (206) 328-0700  2988.904316  \n",
       "15  (206) 780-5777  3385.734739  \n",
       "16  (206) 322-2220  1731.493007  \n",
       "17  (206) 722-3327  6248.940850  \n",
       "18  (206) 329-0121   773.714431  \n",
       "19  (206) 325-6520  1654.124876  "
      ]
     },
     "execution_count": 30,
     "metadata": {},
     "output_type": "execute_result"
    }
   ],
   "source": [
    "# Lets save this into Pandas dataframe\n",
    "pd.DataFrame(results['businesses'])\n"
   ]
  },
  {
   "cell_type": "markdown",
   "metadata": {},
   "source": [
    "### Check if Json File exists and Create it if it doesn't"
   ]
  },
  {
   "cell_type": "code",
   "execution_count": 31,
   "metadata": {},
   "outputs": [
    {
     "data": {
      "text/plain": [
       "False"
      ]
     },
     "execution_count": 31,
     "metadata": {},
     "output_type": "execute_result"
    }
   ],
   "source": [
    "os.path.isfile(JSON_FILE)"
   ]
  },
  {
   "cell_type": "code",
   "execution_count": 32,
   "metadata": {},
   "outputs": [
    {
     "name": "stdout",
     "output_type": "stream",
     "text": [
      "The file does not exist.Creating empty file\n"
     ]
    }
   ],
   "source": [
    "## Check if JSON_FILE exists\n",
    "if os.path.isfile(JSON_FILE)==False:\n",
    "## If it does not exist: \n",
    "    print('The file does not exist.Creating empty file')    \n",
    "    \n",
    "    ## save the first page of results\n",
    "    with open(JSON_FILE,'w') as f:\n",
    "        json.dump(results['businesses'],f)\n",
    "        \n",
    "## If it exists, inform user\n",
    "else:\n",
    "    print('File already exists.')"
   ]
  },
  {
   "cell_type": "markdown",
   "metadata": {},
   "source": [
    "### Load JSON FIle and account for previous results"
   ]
  },
  {
   "cell_type": "code",
   "execution_count": 33,
   "metadata": {},
   "outputs": [
    {
     "data": {
      "text/plain": [
       "20"
      ]
     },
     "execution_count": 33,
     "metadata": {},
     "output_type": "execute_result"
    }
   ],
   "source": [
    "## Load previous results and use len of results for offset\n",
    "prev_df = pd.read_json(JSON_FILE)\n",
    "## set offset based on previous results\n",
    "n_results = len(prev_df)\n",
    "n_results"
   ]
  },
  {
   "cell_type": "code",
   "execution_count": 34,
   "metadata": {
    "ExecuteTime": {
     "end_time": "2022-03-24T20:01:48.867510Z",
     "start_time": "2022-03-24T20:01:48.854746Z"
    },
    "colab": {
     "base_uri": "https://localhost:8080/"
    },
    "id": "Myur3i1KGhPf",
    "outputId": "f447c6f9-596b-41d0-ccda-50af0ce82108"
   },
   "outputs": [],
   "source": [
    "## How many results tottal"
   ]
  },
  {
   "cell_type": "markdown",
   "metadata": {},
   "source": [
    "- Where is the actual data we want to save?"
   ]
  },
  {
   "cell_type": "code",
   "execution_count": null,
   "metadata": {},
   "outputs": [],
   "source": []
  },
  {
   "cell_type": "code",
   "execution_count": 35,
   "metadata": {},
   "outputs": [
    {
     "data": {
      "text/plain": [
       "20"
      ]
     },
     "execution_count": 35,
     "metadata": {},
     "output_type": "execute_result"
    }
   ],
   "source": [
    "## How many did we get the details for?\n",
    "results_per_page = len(results['businesses'])\n",
    "results_per_page"
   ]
  },
  {
   "cell_type": "markdown",
   "metadata": {},
   "source": [
    "- Calculate how many pages of results needed to cover the total_results"
   ]
  },
  {
   "cell_type": "code",
   "execution_count": 36,
   "metadata": {},
   "outputs": [
    {
     "data": {
      "text/plain": [
       "75"
      ]
     },
     "execution_count": 36,
     "metadata": {},
     "output_type": "execute_result"
    }
   ],
   "source": [
    "# Use math.ceil to round up for the total number of pages of results.\n",
    "import math\n",
    "n_pages= math.ceil(results['total']/results_per_page)\n",
    "n_pages"
   ]
  },
  {
   "cell_type": "code",
   "execution_count": 39,
   "metadata": {},
   "outputs": [
    {
     "data": {
      "application/vnd.jupyter.widget-view+json": {
       "model_id": "c2f9da82b4774a6eb073e10f3bcc319f",
       "version_major": 2,
       "version_minor": 0
      },
      "text/plain": [
       "  0%|          | 0/75 [00:00<?, ?it/s]"
      ]
     },
     "metadata": {},
     "output_type": "display_data"
    }
   ],
   "source": [
    "for i in tqdm_notebook( range(1,n_pages+1)):\n",
    "    ## The block of code we want to TRY to run\n",
    "        \n",
    "        \n",
    "        ## Read in results in progress file and check the length\n",
    "        with open(JSON_FILE) as f:\n",
    "            prev_results = json.load(f)\n",
    "            \n",
    "        ## set offset based on previous results\n",
    "        n_results = len(prev_results)\n",
    "        \n",
    "        ## save number of results for to use as offset  ## use n_results as the OFFSET \n",
    "        results = yelp.search_query(term =TERM,location=LOCATION, offset=n_results,limit=5)\n",
    " \n",
    "\n",
    "        ## append new results and save to file\n",
    "        \n",
    "        prev_results.extend(results['businesses'])\n",
    "        with open(JSON_FILE,'w') as f:\n",
    "            json.dump(prev_results,f)\n",
    "            \n",
    "    ## What to do if we get an error/exception.\n",
    "        \n"
   ]
  },
  {
   "cell_type": "markdown",
   "metadata": {},
   "source": [
    "## Open the Final JSON File with Pandas"
   ]
  },
  {
   "cell_type": "code",
   "execution_count": 45,
   "metadata": {},
   "outputs": [],
   "source": [
    "df = pd.read_json(JSON_FILE)"
   ]
  },
  {
   "cell_type": "code",
   "execution_count": 48,
   "metadata": {},
   "outputs": [
    {
     "data": {
      "text/html": [
       "<div>\n",
       "<style scoped>\n",
       "    .dataframe tbody tr th:only-of-type {\n",
       "        vertical-align: middle;\n",
       "    }\n",
       "\n",
       "    .dataframe tbody tr th {\n",
       "        vertical-align: top;\n",
       "    }\n",
       "\n",
       "    .dataframe thead th {\n",
       "        text-align: right;\n",
       "    }\n",
       "</style>\n",
       "<table border=\"1\" class=\"dataframe\">\n",
       "  <thead>\n",
       "    <tr style=\"text-align: right;\">\n",
       "      <th></th>\n",
       "      <th>id</th>\n",
       "      <th>alias</th>\n",
       "      <th>name</th>\n",
       "      <th>image_url</th>\n",
       "      <th>is_closed</th>\n",
       "      <th>url</th>\n",
       "      <th>review_count</th>\n",
       "      <th>categories</th>\n",
       "      <th>rating</th>\n",
       "      <th>coordinates</th>\n",
       "      <th>transactions</th>\n",
       "      <th>price</th>\n",
       "      <th>location</th>\n",
       "      <th>phone</th>\n",
       "      <th>display_phone</th>\n",
       "      <th>distance</th>\n",
       "    </tr>\n",
       "  </thead>\n",
       "  <tbody>\n",
       "    <tr>\n",
       "      <th>0</th>\n",
       "      <td>yLZborRy-JRAKtTWBk9a9g</td>\n",
       "      <td>union-coffee-and-wine-seattle</td>\n",
       "      <td>Union Coffee and Wine</td>\n",
       "      <td>https://s3-media2.fl.yelpcdn.com/bphoto/99K9k7...</td>\n",
       "      <td>False</td>\n",
       "      <td>https://www.yelp.com/biz/union-coffee-and-wine...</td>\n",
       "      <td>96</td>\n",
       "      <td>[{'alias': 'coffee', 'title': 'Coffee &amp; Tea'},...</td>\n",
       "      <td>4.5</td>\n",
       "      <td>{'latitude': 47.61274, 'longitude': -122.30103}</td>\n",
       "      <td>[delivery]</td>\n",
       "      <td>$</td>\n",
       "      <td>{'address1': '2407 E Union St', 'address2': 'S...</td>\n",
       "      <td>+17066314474</td>\n",
       "      <td>(706) 631-4474</td>\n",
       "      <td>406.415695</td>\n",
       "    </tr>\n",
       "    <tr>\n",
       "      <th>1</th>\n",
       "      <td>mUtrinuyznLic5wYc09LeA</td>\n",
       "      <td>arosa-cafe-seattle-6</td>\n",
       "      <td>Arosa Cafe</td>\n",
       "      <td>https://s3-media2.fl.yelpcdn.com/bphoto/Sz1XcR...</td>\n",
       "      <td>False</td>\n",
       "      <td>https://www.yelp.com/biz/arosa-cafe-seattle-6?...</td>\n",
       "      <td>105</td>\n",
       "      <td>[{'alias': 'coffee', 'title': 'Coffee &amp; Tea'},...</td>\n",
       "      <td>4.5</td>\n",
       "      <td>{'latitude': 47.62622241003878, 'longitude': -...</td>\n",
       "      <td>[delivery, pickup]</td>\n",
       "      <td>$</td>\n",
       "      <td>{'address1': '3121 E Madison St', 'address2': ...</td>\n",
       "      <td>+12064050605</td>\n",
       "      <td>(206) 405-0605</td>\n",
       "      <td>1487.954980</td>\n",
       "    </tr>\n",
       "    <tr>\n",
       "      <th>2</th>\n",
       "      <td>yCLUXtS6a1xMicPSsmdTfA</td>\n",
       "      <td>squirrel-chops-seattle</td>\n",
       "      <td>Squirrel Chops</td>\n",
       "      <td>https://s3-media2.fl.yelpcdn.com/bphoto/0fA2eb...</td>\n",
       "      <td>False</td>\n",
       "      <td>https://www.yelp.com/biz/squirrel-chops-seattl...</td>\n",
       "      <td>90</td>\n",
       "      <td>[{'alias': 'coffee', 'title': 'Coffee &amp; Tea'}]</td>\n",
       "      <td>4.5</td>\n",
       "      <td>{'latitude': 47.6128151, 'longitude': -122.303...</td>\n",
       "      <td>[]</td>\n",
       "      <td>$</td>\n",
       "      <td>{'address1': '2201 E Union St', 'address2': ''...</td>\n",
       "      <td>+12064857017</td>\n",
       "      <td>(206) 485-7017</td>\n",
       "      <td>572.723877</td>\n",
       "    </tr>\n",
       "    <tr>\n",
       "      <th>3</th>\n",
       "      <td>9TnUll8eOc5FREIQqrcrFg</td>\n",
       "      <td>verite-coffee-seattle</td>\n",
       "      <td>Verite Coffee</td>\n",
       "      <td>https://s3-media4.fl.yelpcdn.com/bphoto/SaSFeE...</td>\n",
       "      <td>False</td>\n",
       "      <td>https://www.yelp.com/biz/verite-coffee-seattle...</td>\n",
       "      <td>38</td>\n",
       "      <td>[{'alias': 'coffee', 'title': 'Coffee &amp; Tea'},...</td>\n",
       "      <td>3.0</td>\n",
       "      <td>{'latitude': 47.61175, 'longitude': -122.28953}</td>\n",
       "      <td>[]</td>\n",
       "      <td>$</td>\n",
       "      <td>{'address1': '1101 34th Ave', 'address2': '', ...</td>\n",
       "      <td>+12067094497</td>\n",
       "      <td>(206) 709-4497</td>\n",
       "      <td>483.915129</td>\n",
       "    </tr>\n",
       "    <tr>\n",
       "      <th>4</th>\n",
       "      <td>ebglfaWBLj-z7yqpG3BcsQ</td>\n",
       "      <td>golden-wheat-bakery-seattle</td>\n",
       "      <td>Golden Wheat Bakery</td>\n",
       "      <td>https://s3-media1.fl.yelpcdn.com/bphoto/YasEcz...</td>\n",
       "      <td>False</td>\n",
       "      <td>https://www.yelp.com/biz/golden-wheat-bakery-s...</td>\n",
       "      <td>128</td>\n",
       "      <td>[{'alias': 'bakeries', 'title': 'Bakeries'}, {...</td>\n",
       "      <td>4.5</td>\n",
       "      <td>{'latitude': 47.608213, 'longitude': -122.294437}</td>\n",
       "      <td>[delivery]</td>\n",
       "      <td>$</td>\n",
       "      <td>{'address1': '2908 E Cherry St', 'address2': '...</td>\n",
       "      <td>+12063255055</td>\n",
       "      <td>(206) 325-5055</td>\n",
       "      <td>550.890653</td>\n",
       "    </tr>\n",
       "    <tr>\n",
       "      <th>...</th>\n",
       "      <td>...</td>\n",
       "      <td>...</td>\n",
       "      <td>...</td>\n",
       "      <td>...</td>\n",
       "      <td>...</td>\n",
       "      <td>...</td>\n",
       "      <td>...</td>\n",
       "      <td>...</td>\n",
       "      <td>...</td>\n",
       "      <td>...</td>\n",
       "      <td>...</td>\n",
       "      <td>...</td>\n",
       "      <td>...</td>\n",
       "      <td>...</td>\n",
       "      <td>...</td>\n",
       "      <td>...</td>\n",
       "    </tr>\n",
       "    <tr>\n",
       "      <th>390</th>\n",
       "      <td>E-afYN8HfodXEnG-u2X2ww</td>\n",
       "      <td>café-frieda-seattle-3</td>\n",
       "      <td>Café Frieda</td>\n",
       "      <td>https://s3-media3.fl.yelpcdn.com/bphoto/TptHPP...</td>\n",
       "      <td>False</td>\n",
       "      <td>https://www.yelp.com/biz/caf%C3%A9-frieda-seat...</td>\n",
       "      <td>18</td>\n",
       "      <td>[{'alias': 'cafes', 'title': 'Cafes'}]</td>\n",
       "      <td>4.0</td>\n",
       "      <td>{'latitude': 47.60709, 'longitude': -122.32416}</td>\n",
       "      <td>[]</td>\n",
       "      <td>$$</td>\n",
       "      <td>{'address1': '704 Terry Ave', 'address2': '', ...</td>\n",
       "      <td>+12066229250</td>\n",
       "      <td>(206) 622-9250</td>\n",
       "      <td>2234.568629</td>\n",
       "    </tr>\n",
       "    <tr>\n",
       "      <th>391</th>\n",
       "      <td>mMMCajfv-XQ9PzzUds04vg</td>\n",
       "      <td>cafe-hitchcock-seattle-2</td>\n",
       "      <td>Cafe Hitchcock</td>\n",
       "      <td>https://s3-media1.fl.yelpcdn.com/bphoto/SjjNZD...</td>\n",
       "      <td>False</td>\n",
       "      <td>https://www.yelp.com/biz/cafe-hitchcock-seattl...</td>\n",
       "      <td>79</td>\n",
       "      <td>[{'alias': 'newamerican', 'title': 'American (...</td>\n",
       "      <td>4.0</td>\n",
       "      <td>{'latitude': 47.60374, 'longitude': -122.33505}</td>\n",
       "      <td>[delivery]</td>\n",
       "      <td>$$</td>\n",
       "      <td>{'address1': '818 1st Ave', 'address2': '', 'a...</td>\n",
       "      <td></td>\n",
       "      <td></td>\n",
       "      <td>3135.706843</td>\n",
       "    </tr>\n",
       "    <tr>\n",
       "      <th>392</th>\n",
       "      <td>ug_QHgsMXDO16_lSs6ywRQ</td>\n",
       "      <td>pacific-cafe-hong-kong-kitchen-seattle-5</td>\n",
       "      <td>Pacific Cafe Hong Kong Kitchen</td>\n",
       "      <td>https://s3-media2.fl.yelpcdn.com/bphoto/3TjbZN...</td>\n",
       "      <td>False</td>\n",
       "      <td>https://www.yelp.com/biz/pacific-cafe-hong-kon...</td>\n",
       "      <td>276</td>\n",
       "      <td>[{'alias': 'desserts', 'title': 'Desserts'}, {...</td>\n",
       "      <td>4.0</td>\n",
       "      <td>{'latitude': 47.59865, 'longitude': -122.32749}</td>\n",
       "      <td>[delivery, pickup]</td>\n",
       "      <td>$$</td>\n",
       "      <td>{'address1': '416 5th Ave S', 'address2': '', ...</td>\n",
       "      <td>+12066820908</td>\n",
       "      <td>(206) 682-0908</td>\n",
       "      <td>2868.345941</td>\n",
       "    </tr>\n",
       "    <tr>\n",
       "      <th>393</th>\n",
       "      <td>bV-WWwIEKDZQsHckqq1z2A</td>\n",
       "      <td>uptown-espresso-belltown-seattle</td>\n",
       "      <td>Uptown Espresso - Belltown</td>\n",
       "      <td>https://s3-media2.fl.yelpcdn.com/bphoto/22xvOH...</td>\n",
       "      <td>False</td>\n",
       "      <td>https://www.yelp.com/biz/uptown-espresso-bellt...</td>\n",
       "      <td>285</td>\n",
       "      <td>[{'alias': 'coffee', 'title': 'Coffee &amp; Tea'},...</td>\n",
       "      <td>4.0</td>\n",
       "      <td>{'latitude': 47.6169628, 'longitude': -122.346...</td>\n",
       "      <td>[delivery]</td>\n",
       "      <td>$</td>\n",
       "      <td>{'address1': '2504 4th Ave', 'address2': '', '...</td>\n",
       "      <td>+12064411084</td>\n",
       "      <td>(206) 441-1084</td>\n",
       "      <td>3816.285151</td>\n",
       "    </tr>\n",
       "    <tr>\n",
       "      <th>394</th>\n",
       "      <td>s7a36Z4dLwfS-6X9fPJmsg</td>\n",
       "      <td>caffe-ladro-bellevue</td>\n",
       "      <td>Caffe Ladro</td>\n",
       "      <td>https://s3-media3.fl.yelpcdn.com/bphoto/fpG31F...</td>\n",
       "      <td>False</td>\n",
       "      <td>https://www.yelp.com/biz/caffe-ladro-bellevue?...</td>\n",
       "      <td>57</td>\n",
       "      <td>[{'alias': 'coffee', 'title': 'Coffee &amp; Tea'}]</td>\n",
       "      <td>4.0</td>\n",
       "      <td>{'latitude': 47.6134, 'longitude': -122.19701}</td>\n",
       "      <td>[delivery]</td>\n",
       "      <td>$$</td>\n",
       "      <td>{'address1': '333 108th Ave NE', 'address2': '...</td>\n",
       "      <td>+14254675562</td>\n",
       "      <td>(425) 467-5562</td>\n",
       "      <td>7390.013644</td>\n",
       "    </tr>\n",
       "  </tbody>\n",
       "</table>\n",
       "<p>395 rows × 16 columns</p>\n",
       "</div>"
      ],
      "text/plain": [
       "                         id                                     alias  \\\n",
       "0    yLZborRy-JRAKtTWBk9a9g             union-coffee-and-wine-seattle   \n",
       "1    mUtrinuyznLic5wYc09LeA                      arosa-cafe-seattle-6   \n",
       "2    yCLUXtS6a1xMicPSsmdTfA                    squirrel-chops-seattle   \n",
       "3    9TnUll8eOc5FREIQqrcrFg                     verite-coffee-seattle   \n",
       "4    ebglfaWBLj-z7yqpG3BcsQ               golden-wheat-bakery-seattle   \n",
       "..                      ...                                       ...   \n",
       "390  E-afYN8HfodXEnG-u2X2ww                     café-frieda-seattle-3   \n",
       "391  mMMCajfv-XQ9PzzUds04vg                  cafe-hitchcock-seattle-2   \n",
       "392  ug_QHgsMXDO16_lSs6ywRQ  pacific-cafe-hong-kong-kitchen-seattle-5   \n",
       "393  bV-WWwIEKDZQsHckqq1z2A          uptown-espresso-belltown-seattle   \n",
       "394  s7a36Z4dLwfS-6X9fPJmsg                      caffe-ladro-bellevue   \n",
       "\n",
       "                               name  \\\n",
       "0            Union Coffee and Wine    \n",
       "1                        Arosa Cafe   \n",
       "2                    Squirrel Chops   \n",
       "3                     Verite Coffee   \n",
       "4               Golden Wheat Bakery   \n",
       "..                              ...   \n",
       "390                     Café Frieda   \n",
       "391                  Cafe Hitchcock   \n",
       "392  Pacific Cafe Hong Kong Kitchen   \n",
       "393      Uptown Espresso - Belltown   \n",
       "394                     Caffe Ladro   \n",
       "\n",
       "                                             image_url  is_closed  \\\n",
       "0    https://s3-media2.fl.yelpcdn.com/bphoto/99K9k7...      False   \n",
       "1    https://s3-media2.fl.yelpcdn.com/bphoto/Sz1XcR...      False   \n",
       "2    https://s3-media2.fl.yelpcdn.com/bphoto/0fA2eb...      False   \n",
       "3    https://s3-media4.fl.yelpcdn.com/bphoto/SaSFeE...      False   \n",
       "4    https://s3-media1.fl.yelpcdn.com/bphoto/YasEcz...      False   \n",
       "..                                                 ...        ...   \n",
       "390  https://s3-media3.fl.yelpcdn.com/bphoto/TptHPP...      False   \n",
       "391  https://s3-media1.fl.yelpcdn.com/bphoto/SjjNZD...      False   \n",
       "392  https://s3-media2.fl.yelpcdn.com/bphoto/3TjbZN...      False   \n",
       "393  https://s3-media2.fl.yelpcdn.com/bphoto/22xvOH...      False   \n",
       "394  https://s3-media3.fl.yelpcdn.com/bphoto/fpG31F...      False   \n",
       "\n",
       "                                                   url  review_count  \\\n",
       "0    https://www.yelp.com/biz/union-coffee-and-wine...            96   \n",
       "1    https://www.yelp.com/biz/arosa-cafe-seattle-6?...           105   \n",
       "2    https://www.yelp.com/biz/squirrel-chops-seattl...            90   \n",
       "3    https://www.yelp.com/biz/verite-coffee-seattle...            38   \n",
       "4    https://www.yelp.com/biz/golden-wheat-bakery-s...           128   \n",
       "..                                                 ...           ...   \n",
       "390  https://www.yelp.com/biz/caf%C3%A9-frieda-seat...            18   \n",
       "391  https://www.yelp.com/biz/cafe-hitchcock-seattl...            79   \n",
       "392  https://www.yelp.com/biz/pacific-cafe-hong-kon...           276   \n",
       "393  https://www.yelp.com/biz/uptown-espresso-bellt...           285   \n",
       "394  https://www.yelp.com/biz/caffe-ladro-bellevue?...            57   \n",
       "\n",
       "                                            categories  rating  \\\n",
       "0    [{'alias': 'coffee', 'title': 'Coffee & Tea'},...     4.5   \n",
       "1    [{'alias': 'coffee', 'title': 'Coffee & Tea'},...     4.5   \n",
       "2       [{'alias': 'coffee', 'title': 'Coffee & Tea'}]     4.5   \n",
       "3    [{'alias': 'coffee', 'title': 'Coffee & Tea'},...     3.0   \n",
       "4    [{'alias': 'bakeries', 'title': 'Bakeries'}, {...     4.5   \n",
       "..                                                 ...     ...   \n",
       "390             [{'alias': 'cafes', 'title': 'Cafes'}]     4.0   \n",
       "391  [{'alias': 'newamerican', 'title': 'American (...     4.0   \n",
       "392  [{'alias': 'desserts', 'title': 'Desserts'}, {...     4.0   \n",
       "393  [{'alias': 'coffee', 'title': 'Coffee & Tea'},...     4.0   \n",
       "394     [{'alias': 'coffee', 'title': 'Coffee & Tea'}]     4.0   \n",
       "\n",
       "                                           coordinates        transactions  \\\n",
       "0      {'latitude': 47.61274, 'longitude': -122.30103}          [delivery]   \n",
       "1    {'latitude': 47.62622241003878, 'longitude': -...  [delivery, pickup]   \n",
       "2    {'latitude': 47.6128151, 'longitude': -122.303...                  []   \n",
       "3      {'latitude': 47.61175, 'longitude': -122.28953}                  []   \n",
       "4    {'latitude': 47.608213, 'longitude': -122.294437}          [delivery]   \n",
       "..                                                 ...                 ...   \n",
       "390    {'latitude': 47.60709, 'longitude': -122.32416}                  []   \n",
       "391    {'latitude': 47.60374, 'longitude': -122.33505}          [delivery]   \n",
       "392    {'latitude': 47.59865, 'longitude': -122.32749}  [delivery, pickup]   \n",
       "393  {'latitude': 47.6169628, 'longitude': -122.346...          [delivery]   \n",
       "394     {'latitude': 47.6134, 'longitude': -122.19701}          [delivery]   \n",
       "\n",
       "    price                                           location         phone  \\\n",
       "0       $  {'address1': '2407 E Union St', 'address2': 'S...  +17066314474   \n",
       "1       $  {'address1': '3121 E Madison St', 'address2': ...  +12064050605   \n",
       "2       $  {'address1': '2201 E Union St', 'address2': ''...  +12064857017   \n",
       "3       $  {'address1': '1101 34th Ave', 'address2': '', ...  +12067094497   \n",
       "4       $  {'address1': '2908 E Cherry St', 'address2': '...  +12063255055   \n",
       "..    ...                                                ...           ...   \n",
       "390    $$  {'address1': '704 Terry Ave', 'address2': '', ...  +12066229250   \n",
       "391    $$  {'address1': '818 1st Ave', 'address2': '', 'a...                 \n",
       "392    $$  {'address1': '416 5th Ave S', 'address2': '', ...  +12066820908   \n",
       "393     $  {'address1': '2504 4th Ave', 'address2': '', '...  +12064411084   \n",
       "394    $$  {'address1': '333 108th Ave NE', 'address2': '...  +14254675562   \n",
       "\n",
       "      display_phone     distance  \n",
       "0    (706) 631-4474   406.415695  \n",
       "1    (206) 405-0605  1487.954980  \n",
       "2    (206) 485-7017   572.723877  \n",
       "3    (206) 709-4497   483.915129  \n",
       "4    (206) 325-5055   550.890653  \n",
       "..              ...          ...  \n",
       "390  (206) 622-9250  2234.568629  \n",
       "391                  3135.706843  \n",
       "392  (206) 682-0908  2868.345941  \n",
       "393  (206) 441-1084  3816.285151  \n",
       "394  (425) 467-5562  7390.013644  \n",
       "\n",
       "[395 rows x 16 columns]"
      ]
     },
     "execution_count": 48,
     "metadata": {},
     "output_type": "execute_result"
    }
   ],
   "source": [
    "df"
   ]
  },
  {
   "cell_type": "code",
   "execution_count": 49,
   "metadata": {},
   "outputs": [
    {
     "data": {
      "text/plain": [
       "'Data/Seattle-Coffee.csv.gz'"
      ]
     },
     "execution_count": 49,
     "metadata": {},
     "output_type": "execute_result"
    }
   ],
   "source": [
    "## convert the filename to a .csv.gz\n",
    "csv_file = JSON_FILE.replace('.json','.csv.gz')\n",
    "csv_file"
   ]
  },
  {
   "cell_type": "code",
   "execution_count": 47,
   "metadata": {},
   "outputs": [],
   "source": [
    "## Save it as a compressed csv (to save space)\n",
    "df.to_csv(csv_file, compression='gzip', index=False)\n"
   ]
  },
  {
   "cell_type": "markdown",
   "metadata": {},
   "source": [
    "## Bonus: compare filesize with os module's `os.path.getsize`"
   ]
  },
  {
   "cell_type": "code",
   "execution_count": 50,
   "metadata": {},
   "outputs": [
    {
     "name": "stdout",
     "output_type": "stream",
     "text": [
      "JSON FILE: 382,742 Bytes\n",
      "CSV.GZ FILE: 53,844 Bytes\n",
      "the csv.gz is 7.108350048287646 times smaller!\n"
     ]
    }
   ],
   "source": [
    "size_json = os.path.getsize(JSON_FILE)\n",
    "size_csv_gz = os.path.getsize(JSON_FILE.replace('.json','.csv.gz'))\n",
    "\n",
    "print(f'JSON FILE: {size_json:,} Bytes')\n",
    "print(f'CSV.GZ FILE: {size_csv_gz:,} Bytes')\n",
    "\n",
    "print(f'the csv.gz is {size_json/size_csv_gz} times smaller!')"
   ]
  },
  {
   "cell_type": "markdown",
   "metadata": {},
   "source": [
    "## Next Class: Processing the Results and Mapping "
   ]
  }
 ],
 "metadata": {
  "colab": {
   "collapsed_sections": [],
   "name": "Test Yelp API Package.ipynb",
   "provenance": []
  },
  "kernelspec": {
   "display_name": "Python (dojo-env)",
   "language": "python",
   "name": "dojo-env"
  },
  "language_info": {
   "codemirror_mode": {
    "name": "ipython",
    "version": 3
   },
   "file_extension": ".py",
   "mimetype": "text/x-python",
   "name": "python",
   "nbconvert_exporter": "python",
   "pygments_lexer": "ipython3",
   "version": "3.8.13"
  },
  "toc": {
   "base_numbering": 1,
   "nav_menu": {},
   "number_sections": false,
   "sideBar": true,
   "skip_h1_title": false,
   "title_cell": "Table of Contents",
   "title_sidebar": "Contents",
   "toc_cell": false,
   "toc_position": {},
   "toc_section_display": true,
   "toc_window_display": true
  }
 },
 "nbformat": 4,
 "nbformat_minor": 1
}
