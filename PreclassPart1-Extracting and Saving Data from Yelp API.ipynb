{
 "cells": [
  {
   "cell_type": "markdown",
   "metadata": {
    "id": "8guYh-VR7nlX"
   },
   "source": [
    "# Part 1 - Extracting and Saving Data from Yelp API"
   ]
  },
  {
   "cell_type": "markdown",
   "metadata": {},
   "source": [
    "## Obective"
   ]
  },
  {
   "cell_type": "markdown",
   "metadata": {
    "id": "8guYh-VR7nlX"
   },
   "source": [
    "- For this CodeAlong, we will be working with the Yelp API. \n",
    "- You will use the the Yelp API to search your home town for a cuisine type of your choice.\n",
    "- Next class, we will then use Plotly Express to create a map with the Mapbox API to visualize the results.\n",
    "    \n",
    "    "
   ]
  },
  {
   "cell_type": "markdown",
   "metadata": {
    "id": "8guYh-VR7nlX"
   },
   "source": [
    "## Tools You Will Use\n",
    "- Part 1:\n",
    "    - Yelp API:\n",
    "        - Getting Started: \n",
    "            - https://www.yelp.com/developers/documentation/v3/get_started\n",
    "\n",
    "    - `YelpAPI` python package\n",
    "        -  \"YelpAPI\": https://github.com/gfairchild/yelpapi\n",
    "- Part 2:\n",
    "\n",
    "    - Plotly Express: https://plotly.com/python/getting-started/\n",
    "        - With Mapbox API: https://www.mapbox.com/\n",
    "        - `px.scatter_mapbox` [Documentation](https://plotly.com/python/scattermapbox/): \n",
    "\n",
    "\n"
   ]
  },
  {
   "cell_type": "markdown",
   "metadata": {},
   "source": [
    "### Applying Code From\n",
    "- Efficient API Calls Lesson Link: https://login.codingdojo.com/m/376/12529/88078"
   ]
  },
  {
   "cell_type": "code",
   "execution_count": 1,
   "metadata": {},
   "outputs": [
    {
     "name": "stdout",
     "output_type": "stream",
     "text": [
      "Requirement already satisfied: tqdm in /opt/homebrew/Caskroom/miniforge/base/envs/dojo-env/lib/python3.8/site-packages (4.64.0)\r\n"
     ]
    }
   ],
   "source": [
    "!pip install tqdm"
   ]
  },
  {
   "cell_type": "code",
   "execution_count": 2,
   "metadata": {},
   "outputs": [],
   "source": [
    "# Standard Imports\n",
    "import numpy as np\n",
    "import pandas as pd\n",
    "import matplotlib.pyplot as plt\n",
    "import seaborn as sns\n",
    "\n",
    "# Additional Imports\n",
    "import os, json, math, time\n",
    "from yelpapi import YelpAPI\n",
    "from tqdm.notebook import tqdm_notebook"
   ]
  },
  {
   "cell_type": "markdown",
   "metadata": {
    "id": "1l3Z-79nBSX9"
   },
   "source": [
    "## 1. Registering for Required APIs"
   ]
  },
  {
   "cell_type": "markdown",
   "metadata": {
    "id": "1l3Z-79nBSX9"
   },
   "source": [
    "\n",
    "- Yelp: https://www.yelp.com/developers/documentation/v3/get_started\n"
   ]
  },
  {
   "cell_type": "markdown",
   "metadata": {},
   "source": [
    "> Check the official API documentation to know what arguments we can search for: https://www.yelp.com/developers/documentation/v3/business_search"
   ]
  },
  {
   "cell_type": "markdown",
   "metadata": {},
   "source": [
    "### Load Credentials and Create Yelp API Object"
   ]
  },
  {
   "cell_type": "code",
   "execution_count": 4,
   "metadata": {
    "ExecuteTime": {
     "end_time": "2022-03-25T18:20:46.629934Z",
     "start_time": "2022-03-25T18:20:45.915864Z"
    },
    "colab": {
     "base_uri": "https://localhost:8080/"
    },
    "id": "xJYqVvNkE36a",
    "outputId": "67798160-dea2-41fc-9040-2b3833efa560"
   },
   "outputs": [],
   "source": [
    "# Load API Credentials\n",
    "with open('/Users/purvikansara/.secret/yelp_api.json') as f:\n",
    "    creds = json.load(f)"
   ]
  },
  {
   "cell_type": "code",
   "execution_count": 7,
   "metadata": {},
   "outputs": [
    {
     "data": {
      "text/plain": [
       "dict_keys(['Client-ID', 'API Key'])"
      ]
     },
     "execution_count": 7,
     "metadata": {},
     "output_type": "execute_result"
    }
   ],
   "source": [
    "creds.keys()"
   ]
  },
  {
   "cell_type": "code",
   "execution_count": 8,
   "metadata": {},
   "outputs": [
    {
     "data": {
      "text/plain": [
       "<yelpapi.yelpapi.YelpAPI at 0x280a837c0>"
      ]
     },
     "execution_count": 8,
     "metadata": {},
     "output_type": "execute_result"
    }
   ],
   "source": [
    "# Instantiate YelpAPI Variable\n",
    "yelp = YelpAPI(creds['API Key'])\n",
    "yelp"
   ]
  },
  {
   "cell_type": "markdown",
   "metadata": {},
   "source": [
    "### Define Search Terms and File Paths"
   ]
  },
  {
   "cell_type": "code",
   "execution_count": 12,
   "metadata": {},
   "outputs": [],
   "source": [
    "# set our API call parameters and filename before the first call\n",
    "LOCATION = \"Seattle, WA 98122\"\n",
    "TERM = \"Coffee\""
   ]
  },
  {
   "cell_type": "code",
   "execution_count": 11,
   "metadata": {},
   "outputs": [],
   "source": [
    "## Specify folder for saving data\n",
    "FOLDER = \"Data/\"\n",
    "os.makedirs(FOLDER,exist_ok = True)"
   ]
  },
  {
   "cell_type": "code",
   "execution_count": 15,
   "metadata": {},
   "outputs": [],
   "source": [
    "# Specifying JSON_FILE filename (can include a folder)\n",
    "JSON_FILE = FOLDER+\"Seattle Coffee.json\""
   ]
  },
  {
   "cell_type": "code",
   "execution_count": 16,
   "metadata": {},
   "outputs": [
    {
     "data": {
      "text/plain": [
       "'Data/Seattle Coffee.json'"
      ]
     },
     "execution_count": 16,
     "metadata": {},
     "output_type": "execute_result"
    }
   ],
   "source": [
    "JSON_FILE"
   ]
  },
  {
   "cell_type": "code",
   "execution_count": 17,
   "metadata": {},
   "outputs": [
    {
     "data": {
      "text/plain": [
       "'Seattle'"
      ]
     },
     "execution_count": 17,
     "metadata": {},
     "output_type": "execute_result"
    }
   ],
   "source": [
    "LOCATION.split(',')[0]"
   ]
  },
  {
   "cell_type": "code",
   "execution_count": 20,
   "metadata": {},
   "outputs": [],
   "source": [
    "# Specifying JSON_FILE filename (can include a folder)\n",
    "JSON_FILE = FOLDER+ f\"{LOCATION.split(',')[0]}-{TERM}.json\""
   ]
  },
  {
   "cell_type": "code",
   "execution_count": 21,
   "metadata": {},
   "outputs": [
    {
     "data": {
      "text/plain": [
       "'Data/Seattle-Coffee.json'"
      ]
     },
     "execution_count": 21,
     "metadata": {},
     "output_type": "execute_result"
    }
   ],
   "source": [
    "JSON_FILE"
   ]
  },
  {
   "cell_type": "markdown",
   "metadata": {},
   "source": [
    "### Make the first API call to get the first page of data"
   ]
  },
  {
   "cell_type": "markdown",
   "metadata": {},
   "source": [
    "- We will use this first result to check:\n",
    "    - how many total results there are?\n",
    "    - Where is the actual data we want to save?\n",
    "    - how many results do we get at a time?\n"
   ]
  },
  {
   "cell_type": "code",
   "execution_count": 24,
   "metadata": {},
   "outputs": [
    {
     "data": {
      "text/plain": [
       "dict"
      ]
     },
     "execution_count": 24,
     "metadata": {},
     "output_type": "execute_result"
    }
   ],
   "source": [
    "# use our yelp_api variable's search_query method to perform our API call\n",
    "results = yelp.search_query(term=TERM,location = LOCATION)\n",
    "type(results)"
   ]
  },
  {
   "cell_type": "code",
   "execution_count": 25,
   "metadata": {},
   "outputs": [
    {
     "data": {
      "text/plain": [
       "dict_keys(['businesses', 'total', 'region'])"
      ]
     },
     "execution_count": 25,
     "metadata": {},
     "output_type": "execute_result"
    }
   ],
   "source": [
    "results.keys()"
   ]
  },
  {
   "cell_type": "code",
   "execution_count": 27,
   "metadata": {},
   "outputs": [
    {
     "data": {
      "text/plain": [
       "list"
      ]
     },
     "execution_count": 27,
     "metadata": {},
     "output_type": "execute_result"
    }
   ],
   "source": [
    "type(results['businesses'])\n"
   ]
  },
  {
   "cell_type": "code",
   "execution_count": 28,
   "metadata": {},
   "outputs": [
    {
     "data": {
      "text/plain": [
       "20"
      ]
     },
     "execution_count": 28,
     "metadata": {},
     "output_type": "execute_result"
    }
   ],
   "source": [
    "len(results['businesses'])"
   ]
  },
  {
   "cell_type": "code",
   "execution_count": 30,
   "metadata": {},
   "outputs": [
    {
     "data": {
      "text/plain": [
       "1500"
      ]
     },
     "execution_count": 30,
     "metadata": {},
     "output_type": "execute_result"
    }
   ],
   "source": [
    "results['total']"
   ]
  },
  {
   "cell_type": "code",
   "execution_count": 32,
   "metadata": {},
   "outputs": [
    {
     "data": {
      "text/plain": [
       "{'center': {'longitude': -122.29568481445312, 'latitude': 47.61309534151991}}"
      ]
     },
     "execution_count": 32,
     "metadata": {},
     "output_type": "execute_result"
    }
   ],
   "source": [
    "results['region']"
   ]
  },
  {
   "cell_type": "code",
   "execution_count": 34,
   "metadata": {},
   "outputs": [
    {
     "data": {
      "text/html": [
       "<div>\n",
       "<style scoped>\n",
       "    .dataframe tbody tr th:only-of-type {\n",
       "        vertical-align: middle;\n",
       "    }\n",
       "\n",
       "    .dataframe tbody tr th {\n",
       "        vertical-align: top;\n",
       "    }\n",
       "\n",
       "    .dataframe thead th {\n",
       "        text-align: right;\n",
       "    }\n",
       "</style>\n",
       "<table border=\"1\" class=\"dataframe\">\n",
       "  <thead>\n",
       "    <tr style=\"text-align: right;\">\n",
       "      <th></th>\n",
       "      <th>id</th>\n",
       "      <th>alias</th>\n",
       "      <th>name</th>\n",
       "      <th>image_url</th>\n",
       "      <th>is_closed</th>\n",
       "      <th>url</th>\n",
       "      <th>review_count</th>\n",
       "      <th>categories</th>\n",
       "      <th>rating</th>\n",
       "      <th>coordinates</th>\n",
       "      <th>transactions</th>\n",
       "      <th>price</th>\n",
       "      <th>location</th>\n",
       "      <th>phone</th>\n",
       "      <th>display_phone</th>\n",
       "      <th>distance</th>\n",
       "    </tr>\n",
       "  </thead>\n",
       "  <tbody>\n",
       "    <tr>\n",
       "      <th>0</th>\n",
       "      <td>yLZborRy-JRAKtTWBk9a9g</td>\n",
       "      <td>union-coffee-and-wine-seattle</td>\n",
       "      <td>Union Coffee and Wine</td>\n",
       "      <td>https://s3-media2.fl.yelpcdn.com/bphoto/99K9k7...</td>\n",
       "      <td>False</td>\n",
       "      <td>https://www.yelp.com/biz/union-coffee-and-wine...</td>\n",
       "      <td>94</td>\n",
       "      <td>[{'alias': 'coffee', 'title': 'Coffee &amp; Tea'},...</td>\n",
       "      <td>4.5</td>\n",
       "      <td>{'latitude': 47.61274, 'longitude': -122.30103}</td>\n",
       "      <td>[delivery]</td>\n",
       "      <td>$</td>\n",
       "      <td>{'address1': '2407 E Union St', 'address2': 'S...</td>\n",
       "      <td>+17066314474</td>\n",
       "      <td>(706) 631-4474</td>\n",
       "      <td>406.415695</td>\n",
       "    </tr>\n",
       "    <tr>\n",
       "      <th>1</th>\n",
       "      <td>mUtrinuyznLic5wYc09LeA</td>\n",
       "      <td>arosa-cafe-seattle-6</td>\n",
       "      <td>Arosa Cafe</td>\n",
       "      <td>https://s3-media2.fl.yelpcdn.com/bphoto/Sz1XcR...</td>\n",
       "      <td>False</td>\n",
       "      <td>https://www.yelp.com/biz/arosa-cafe-seattle-6?...</td>\n",
       "      <td>103</td>\n",
       "      <td>[{'alias': 'coffee', 'title': 'Coffee &amp; Tea'},...</td>\n",
       "      <td>4.5</td>\n",
       "      <td>{'latitude': 47.62620255, 'longitude': -122.29...</td>\n",
       "      <td>[delivery, pickup]</td>\n",
       "      <td>$</td>\n",
       "      <td>{'address1': '3121 E Madison St', 'address2': ...</td>\n",
       "      <td>+12064050605</td>\n",
       "      <td>(206) 405-0605</td>\n",
       "      <td>1490.203135</td>\n",
       "    </tr>\n",
       "    <tr>\n",
       "      <th>2</th>\n",
       "      <td>yCLUXtS6a1xMicPSsmdTfA</td>\n",
       "      <td>squirrel-chops-seattle</td>\n",
       "      <td>Squirrel Chops</td>\n",
       "      <td>https://s3-media2.fl.yelpcdn.com/bphoto/0fA2eb...</td>\n",
       "      <td>False</td>\n",
       "      <td>https://www.yelp.com/biz/squirrel-chops-seattl...</td>\n",
       "      <td>89</td>\n",
       "      <td>[{'alias': 'coffee', 'title': 'Coffee &amp; Tea'}]</td>\n",
       "      <td>4.5</td>\n",
       "      <td>{'latitude': 47.6128151, 'longitude': -122.303...</td>\n",
       "      <td>[]</td>\n",
       "      <td>$</td>\n",
       "      <td>{'address1': '2201 E Union St', 'address2': ''...</td>\n",
       "      <td>+12064857017</td>\n",
       "      <td>(206) 485-7017</td>\n",
       "      <td>572.723877</td>\n",
       "    </tr>\n",
       "    <tr>\n",
       "      <th>3</th>\n",
       "      <td>9TnUll8eOc5FREIQqrcrFg</td>\n",
       "      <td>verite-coffee-seattle</td>\n",
       "      <td>Verite Coffee</td>\n",
       "      <td>https://s3-media4.fl.yelpcdn.com/bphoto/SaSFeE...</td>\n",
       "      <td>False</td>\n",
       "      <td>https://www.yelp.com/biz/verite-coffee-seattle...</td>\n",
       "      <td>39</td>\n",
       "      <td>[{'alias': 'coffee', 'title': 'Coffee &amp; Tea'},...</td>\n",
       "      <td>3.5</td>\n",
       "      <td>{'latitude': 47.61175, 'longitude': -122.28953}</td>\n",
       "      <td>[]</td>\n",
       "      <td>$</td>\n",
       "      <td>{'address1': '1101 34th Ave', 'address2': '', ...</td>\n",
       "      <td>+12067094497</td>\n",
       "      <td>(206) 709-4497</td>\n",
       "      <td>483.915129</td>\n",
       "    </tr>\n",
       "    <tr>\n",
       "      <th>4</th>\n",
       "      <td>ebglfaWBLj-z7yqpG3BcsQ</td>\n",
       "      <td>golden-wheat-bakery-seattle</td>\n",
       "      <td>Golden Wheat Bakery</td>\n",
       "      <td>https://s3-media1.fl.yelpcdn.com/bphoto/YasEcz...</td>\n",
       "      <td>False</td>\n",
       "      <td>https://www.yelp.com/biz/golden-wheat-bakery-s...</td>\n",
       "      <td>127</td>\n",
       "      <td>[{'alias': 'bakeries', 'title': 'Bakeries'}, {...</td>\n",
       "      <td>5.0</td>\n",
       "      <td>{'latitude': 47.608213, 'longitude': -122.294437}</td>\n",
       "      <td>[delivery]</td>\n",
       "      <td>$</td>\n",
       "      <td>{'address1': '2908 E Cherry St', 'address2': '...</td>\n",
       "      <td>+12063255055</td>\n",
       "      <td>(206) 325-5055</td>\n",
       "      <td>550.890653</td>\n",
       "    </tr>\n",
       "    <tr>\n",
       "      <th>5</th>\n",
       "      <td>e7uwwJKDamfG7psm5hZdtw</td>\n",
       "      <td>good-neighbor-cafe-seattle-2</td>\n",
       "      <td>Good Neighbor Cafe</td>\n",
       "      <td>https://s3-media1.fl.yelpcdn.com/bphoto/_4ZQZx...</td>\n",
       "      <td>False</td>\n",
       "      <td>https://www.yelp.com/biz/good-neighbor-cafe-se...</td>\n",
       "      <td>43</td>\n",
       "      <td>[{'alias': 'sandwiches', 'title': 'Sandwiches'...</td>\n",
       "      <td>4.5</td>\n",
       "      <td>{'latitude': 47.60321, 'longitude': -122.30742}</td>\n",
       "      <td>[pickup, delivery]</td>\n",
       "      <td>NaN</td>\n",
       "      <td>{'address1': '166 19th Ave', 'address2': 'Ste ...</td>\n",
       "      <td>+12063287002</td>\n",
       "      <td>(206) 328-7002</td>\n",
       "      <td>1405.654043</td>\n",
       "    </tr>\n",
       "    <tr>\n",
       "      <th>6</th>\n",
       "      <td>Q8Nlx_FeZ4LW0kdbnHoyrw</td>\n",
       "      <td>qed-coffee-seattle</td>\n",
       "      <td>QED Coffee</td>\n",
       "      <td>https://s3-media3.fl.yelpcdn.com/bphoto/HwagNI...</td>\n",
       "      <td>False</td>\n",
       "      <td>https://www.yelp.com/biz/qed-coffee-seattle?ad...</td>\n",
       "      <td>104</td>\n",
       "      <td>[{'alias': 'coffee', 'title': 'Coffee &amp; Tea'}]</td>\n",
       "      <td>4.5</td>\n",
       "      <td>{'latitude': 47.5896816513796, 'longitude': -1...</td>\n",
       "      <td>[delivery]</td>\n",
       "      <td>$$</td>\n",
       "      <td>{'address1': '1418 31st Ave S', 'address2': ''...</td>\n",
       "      <td>+12062357678</td>\n",
       "      <td>(206) 235-7678</td>\n",
       "      <td>2615.675293</td>\n",
       "    </tr>\n",
       "    <tr>\n",
       "      <th>7</th>\n",
       "      <td>ZObS_CQXBicbvtGPaQv90A</td>\n",
       "      <td>overcast-coffee-bar-seattle</td>\n",
       "      <td>Overcast Coffee Bar</td>\n",
       "      <td>https://s3-media4.fl.yelpcdn.com/bphoto/zkN4BG...</td>\n",
       "      <td>False</td>\n",
       "      <td>https://www.yelp.com/biz/overcast-coffee-bar-s...</td>\n",
       "      <td>9</td>\n",
       "      <td>[{'alias': 'coffee', 'title': 'Coffee &amp; Tea'}]</td>\n",
       "      <td>5.0</td>\n",
       "      <td>{'latitude': 47.612681092953295, 'longitude': ...</td>\n",
       "      <td>[]</td>\n",
       "      <td>$$</td>\n",
       "      <td>{'address1': '1017 E Union St', 'address2': ''...</td>\n",
       "      <td>+12063222220</td>\n",
       "      <td>(206) 322-2220</td>\n",
       "      <td>1731.493007</td>\n",
       "    </tr>\n",
       "    <tr>\n",
       "      <th>8</th>\n",
       "      <td>_TP_5eY-EgZDzq8CdFjP7g</td>\n",
       "      <td>broadcast-coffee-roasters-seattle</td>\n",
       "      <td>Broadcast Coffee Roasters</td>\n",
       "      <td>https://s3-media2.fl.yelpcdn.com/bphoto/0-GwL8...</td>\n",
       "      <td>False</td>\n",
       "      <td>https://www.yelp.com/biz/broadcast-coffee-roas...</td>\n",
       "      <td>150</td>\n",
       "      <td>[{'alias': 'coffee', 'title': 'Coffee &amp; Tea'}]</td>\n",
       "      <td>4.0</td>\n",
       "      <td>{'latitude': 47.6019325256348, 'longitude': -1...</td>\n",
       "      <td>[delivery]</td>\n",
       "      <td>$</td>\n",
       "      <td>{'address1': '1918 E Yesler Way', 'address2': ...</td>\n",
       "      <td>+12063220807</td>\n",
       "      <td>(206) 322-0807</td>\n",
       "      <td>1501.359954</td>\n",
       "    </tr>\n",
       "    <tr>\n",
       "      <th>9</th>\n",
       "      <td>2ZrovOWUNfzpSJlx-7DYCw</td>\n",
       "      <td>hello-em-viet-coffee-and-roastery-seattle-2</td>\n",
       "      <td>Hello Em Viet Coffee &amp; Roastery</td>\n",
       "      <td>https://s3-media2.fl.yelpcdn.com/bphoto/Wua0EA...</td>\n",
       "      <td>False</td>\n",
       "      <td>https://www.yelp.com/biz/hello-em-viet-coffee-...</td>\n",
       "      <td>228</td>\n",
       "      <td>[{'alias': 'coffeeroasteries', 'title': 'Coffe...</td>\n",
       "      <td>4.5</td>\n",
       "      <td>{'latitude': 47.59732, 'longitude': -122.31544}</td>\n",
       "      <td>[]</td>\n",
       "      <td>$</td>\n",
       "      <td>{'address1': '1227 S Weller St', 'address2': '...</td>\n",
       "      <td></td>\n",
       "      <td></td>\n",
       "      <td>2296.777516</td>\n",
       "    </tr>\n",
       "    <tr>\n",
       "      <th>10</th>\n",
       "      <td>SALUHYOpT9mk_GHfGzUKXw</td>\n",
       "      <td>temple-pastries-seattle-2</td>\n",
       "      <td>Temple Pastries</td>\n",
       "      <td>https://s3-media1.fl.yelpcdn.com/bphoto/Xf1Dld...</td>\n",
       "      <td>False</td>\n",
       "      <td>https://www.yelp.com/biz/temple-pastries-seatt...</td>\n",
       "      <td>98</td>\n",
       "      <td>[{'alias': 'bakeries', 'title': 'Bakeries'}]</td>\n",
       "      <td>4.5</td>\n",
       "      <td>{'latitude': 47.599309353938516, 'longitude': ...</td>\n",
       "      <td>[delivery]</td>\n",
       "      <td>NaN</td>\n",
       "      <td>{'address1': '2524 S Jackson St', 'address2': ...</td>\n",
       "      <td>+12064084131</td>\n",
       "      <td>(206) 408-4131</td>\n",
       "      <td>1549.486738</td>\n",
       "    </tr>\n",
       "    <tr>\n",
       "      <th>11</th>\n",
       "      <td>FVzl8rDPiTWEtrNEuCu-Xg</td>\n",
       "      <td>storyville-coffee-company-seattle-9</td>\n",
       "      <td>Storyville Coffee Company</td>\n",
       "      <td>https://s3-media3.fl.yelpcdn.com/bphoto/nJgiyj...</td>\n",
       "      <td>False</td>\n",
       "      <td>https://www.yelp.com/biz/storyville-coffee-com...</td>\n",
       "      <td>2033</td>\n",
       "      <td>[{'alias': 'coffee', 'title': 'Coffee &amp; Tea'},...</td>\n",
       "      <td>4.5</td>\n",
       "      <td>{'latitude': 47.60895949363687, 'longitude': -...</td>\n",
       "      <td>[pickup, delivery]</td>\n",
       "      <td>$$</td>\n",
       "      <td>{'address1': '94 Pike St', 'address2': 'Ste 34...</td>\n",
       "      <td>+12067805777</td>\n",
       "      <td>(206) 780-5777</td>\n",
       "      <td>3385.734739</td>\n",
       "    </tr>\n",
       "    <tr>\n",
       "      <th>12</th>\n",
       "      <td>eHM1er15ptmC6Q21-9ZteA</td>\n",
       "      <td>central-cafe-and-juice-bar-seattle</td>\n",
       "      <td>Central Cafe &amp; Juice Bar</td>\n",
       "      <td>https://s3-media2.fl.yelpcdn.com/bphoto/41ZaCQ...</td>\n",
       "      <td>False</td>\n",
       "      <td>https://www.yelp.com/biz/central-cafe-and-juic...</td>\n",
       "      <td>59</td>\n",
       "      <td>[{'alias': 'juicebars', 'title': 'Juice Bars &amp;...</td>\n",
       "      <td>5.0</td>\n",
       "      <td>{'latitude': 47.60782, 'longitude': -122.29946}</td>\n",
       "      <td>[pickup, delivery]</td>\n",
       "      <td>$</td>\n",
       "      <td>{'address1': '2509 E Cherry St', 'address2': N...</td>\n",
       "      <td></td>\n",
       "      <td></td>\n",
       "      <td>651.324295</td>\n",
       "    </tr>\n",
       "    <tr>\n",
       "      <th>13</th>\n",
       "      <td>h1dhP2ZRiMGE2RdpUtputg</td>\n",
       "      <td>coffeeholic-house-seattle</td>\n",
       "      <td>Coffeeholic House</td>\n",
       "      <td>https://s3-media3.fl.yelpcdn.com/bphoto/Pc-QBB...</td>\n",
       "      <td>False</td>\n",
       "      <td>https://www.yelp.com/biz/coffeeholic-house-sea...</td>\n",
       "      <td>557</td>\n",
       "      <td>[{'alias': 'coffee', 'title': 'Coffee &amp; Tea'}]</td>\n",
       "      <td>4.5</td>\n",
       "      <td>{'latitude': 47.55723, 'longitude': -122.28596}</td>\n",
       "      <td>[delivery]</td>\n",
       "      <td>$$</td>\n",
       "      <td>{'address1': '3700 S Hudson St', 'address2': N...</td>\n",
       "      <td>+12067223327</td>\n",
       "      <td>(206) 722-3327</td>\n",
       "      <td>6248.940850</td>\n",
       "    </tr>\n",
       "    <tr>\n",
       "      <th>14</th>\n",
       "      <td>KkDoL5MCOMAPJA4NaS-xgw</td>\n",
       "      <td>fuel-coffee-and-books-seattle</td>\n",
       "      <td>Fuel Coffee &amp; Books</td>\n",
       "      <td>https://s3-media1.fl.yelpcdn.com/bphoto/kx3cc_...</td>\n",
       "      <td>False</td>\n",
       "      <td>https://www.yelp.com/biz/fuel-coffee-and-books...</td>\n",
       "      <td>97</td>\n",
       "      <td>[{'alias': 'coffee', 'title': 'Coffee &amp; Tea'}]</td>\n",
       "      <td>4.0</td>\n",
       "      <td>{'latitude': 47.63967, 'longitude': -122.30182}</td>\n",
       "      <td>[delivery]</td>\n",
       "      <td>$</td>\n",
       "      <td>{'address1': '2300 24th Ave E', 'address2': No...</td>\n",
       "      <td>+12063280700</td>\n",
       "      <td>(206) 328-0700</td>\n",
       "      <td>2988.904316</td>\n",
       "    </tr>\n",
       "    <tr>\n",
       "      <th>15</th>\n",
       "      <td>K-X3rRAVbeMZ0VIDWuPX_Q</td>\n",
       "      <td>anchorhead-coffee-seattle</td>\n",
       "      <td>Anchorhead Coffee</td>\n",
       "      <td>https://s3-media2.fl.yelpcdn.com/bphoto/OITyX_...</td>\n",
       "      <td>False</td>\n",
       "      <td>https://www.yelp.com/biz/anchorhead-coffee-sea...</td>\n",
       "      <td>643</td>\n",
       "      <td>[{'alias': 'coffee', 'title': 'Coffee &amp; Tea'},...</td>\n",
       "      <td>4.5</td>\n",
       "      <td>{'latitude': 47.6133808022766, 'longitude': -1...</td>\n",
       "      <td>[delivery]</td>\n",
       "      <td>$$</td>\n",
       "      <td>{'address1': '1600 7th Ave', 'address2': 'Ste ...</td>\n",
       "      <td>+12062222222</td>\n",
       "      <td>(206) 222-2222</td>\n",
       "      <td>2924.087554</td>\n",
       "    </tr>\n",
       "    <tr>\n",
       "      <th>16</th>\n",
       "      <td>4o7FQKh8GXSOjoJa1OXfsw</td>\n",
       "      <td>overcast-coffee-company-seattle</td>\n",
       "      <td>Overcast Coffee Company</td>\n",
       "      <td>https://s3-media2.fl.yelpcdn.com/bphoto/xz55iC...</td>\n",
       "      <td>False</td>\n",
       "      <td>https://www.yelp.com/biz/overcast-coffee-compa...</td>\n",
       "      <td>35</td>\n",
       "      <td>[{'alias': 'creperies', 'title': 'Creperies'},...</td>\n",
       "      <td>5.0</td>\n",
       "      <td>{'latitude': 47.62092, 'longitude': -122.31256}</td>\n",
       "      <td>[delivery, pickup]</td>\n",
       "      <td>$</td>\n",
       "      <td>{'address1': '312 15th Ave E', 'address2': '',...</td>\n",
       "      <td>+12063222220</td>\n",
       "      <td>(206) 322-2220</td>\n",
       "      <td>1529.086775</td>\n",
       "    </tr>\n",
       "    <tr>\n",
       "      <th>17</th>\n",
       "      <td>NODuSm6R6hfvoONZbrVuJQ</td>\n",
       "      <td>url-coffee-seattle</td>\n",
       "      <td>URL Coffee</td>\n",
       "      <td>https://s3-media2.fl.yelpcdn.com/bphoto/SMov3k...</td>\n",
       "      <td>False</td>\n",
       "      <td>https://www.yelp.com/biz/url-coffee-seattle?ad...</td>\n",
       "      <td>27</td>\n",
       "      <td>[{'alias': 'cafes', 'title': 'Cafes'}]</td>\n",
       "      <td>5.0</td>\n",
       "      <td>{'latitude': 47.60672503133874, 'longitude': -...</td>\n",
       "      <td>[delivery]</td>\n",
       "      <td>NaN</td>\n",
       "      <td>{'address1': '524 Broadway', 'address2': None,...</td>\n",
       "      <td></td>\n",
       "      <td></td>\n",
       "      <td>1992.130352</td>\n",
       "    </tr>\n",
       "    <tr>\n",
       "      <th>18</th>\n",
       "      <td>MAlntNa6HiQ8k2xrB2vKRA</td>\n",
       "      <td>madison-kitchen-seattle</td>\n",
       "      <td>Madison Kitchen</td>\n",
       "      <td>https://s3-media2.fl.yelpcdn.com/bphoto/s6fbQd...</td>\n",
       "      <td>False</td>\n",
       "      <td>https://www.yelp.com/biz/madison-kitchen-seatt...</td>\n",
       "      <td>130</td>\n",
       "      <td>[{'alias': 'sandwiches', 'title': 'Sandwiches'...</td>\n",
       "      <td>4.0</td>\n",
       "      <td>{'latitude': 47.63548, 'longitude': -122.27895}</td>\n",
       "      <td>[delivery]</td>\n",
       "      <td>$$</td>\n",
       "      <td>{'address1': '4122 E Madison St', 'address2': ...</td>\n",
       "      <td>+12065574640</td>\n",
       "      <td>(206) 557-4640</td>\n",
       "      <td>2786.221642</td>\n",
       "    </tr>\n",
       "    <tr>\n",
       "      <th>19</th>\n",
       "      <td>zEy91vr2VmG3v-HQjEnzbw</td>\n",
       "      <td>volunteer-park-cafe-and-pantry-seattle</td>\n",
       "      <td>Volunteer Park Cafe &amp; Pantry</td>\n",
       "      <td>https://s3-media2.fl.yelpcdn.com/bphoto/uN-Lsk...</td>\n",
       "      <td>False</td>\n",
       "      <td>https://www.yelp.com/biz/volunteer-park-cafe-a...</td>\n",
       "      <td>32</td>\n",
       "      <td>[{'alias': 'cafes', 'title': 'Cafes'}]</td>\n",
       "      <td>4.5</td>\n",
       "      <td>{'latitude': 47.63258868885758, 'longitude': -...</td>\n",
       "      <td>[]</td>\n",
       "      <td>$$</td>\n",
       "      <td>{'address1': '1501 17th Ave E', 'address2': ''...</td>\n",
       "      <td>+12068226566</td>\n",
       "      <td>(206) 822-6566</td>\n",
       "      <td>2419.491037</td>\n",
       "    </tr>\n",
       "  </tbody>\n",
       "</table>\n",
       "</div>"
      ],
      "text/plain": [
       "                        id                                        alias  \\\n",
       "0   yLZborRy-JRAKtTWBk9a9g                union-coffee-and-wine-seattle   \n",
       "1   mUtrinuyznLic5wYc09LeA                         arosa-cafe-seattle-6   \n",
       "2   yCLUXtS6a1xMicPSsmdTfA                       squirrel-chops-seattle   \n",
       "3   9TnUll8eOc5FREIQqrcrFg                        verite-coffee-seattle   \n",
       "4   ebglfaWBLj-z7yqpG3BcsQ                  golden-wheat-bakery-seattle   \n",
       "5   e7uwwJKDamfG7psm5hZdtw                 good-neighbor-cafe-seattle-2   \n",
       "6   Q8Nlx_FeZ4LW0kdbnHoyrw                           qed-coffee-seattle   \n",
       "7   ZObS_CQXBicbvtGPaQv90A                  overcast-coffee-bar-seattle   \n",
       "8   _TP_5eY-EgZDzq8CdFjP7g            broadcast-coffee-roasters-seattle   \n",
       "9   2ZrovOWUNfzpSJlx-7DYCw  hello-em-viet-coffee-and-roastery-seattle-2   \n",
       "10  SALUHYOpT9mk_GHfGzUKXw                    temple-pastries-seattle-2   \n",
       "11  FVzl8rDPiTWEtrNEuCu-Xg          storyville-coffee-company-seattle-9   \n",
       "12  eHM1er15ptmC6Q21-9ZteA           central-cafe-and-juice-bar-seattle   \n",
       "13  h1dhP2ZRiMGE2RdpUtputg                    coffeeholic-house-seattle   \n",
       "14  KkDoL5MCOMAPJA4NaS-xgw                fuel-coffee-and-books-seattle   \n",
       "15  K-X3rRAVbeMZ0VIDWuPX_Q                    anchorhead-coffee-seattle   \n",
       "16  4o7FQKh8GXSOjoJa1OXfsw              overcast-coffee-company-seattle   \n",
       "17  NODuSm6R6hfvoONZbrVuJQ                           url-coffee-seattle   \n",
       "18  MAlntNa6HiQ8k2xrB2vKRA                      madison-kitchen-seattle   \n",
       "19  zEy91vr2VmG3v-HQjEnzbw       volunteer-park-cafe-and-pantry-seattle   \n",
       "\n",
       "                               name  \\\n",
       "0            Union Coffee and Wine    \n",
       "1                        Arosa Cafe   \n",
       "2                    Squirrel Chops   \n",
       "3                     Verite Coffee   \n",
       "4               Golden Wheat Bakery   \n",
       "5                Good Neighbor Cafe   \n",
       "6                        QED Coffee   \n",
       "7               Overcast Coffee Bar   \n",
       "8         Broadcast Coffee Roasters   \n",
       "9   Hello Em Viet Coffee & Roastery   \n",
       "10                  Temple Pastries   \n",
       "11        Storyville Coffee Company   \n",
       "12         Central Cafe & Juice Bar   \n",
       "13                Coffeeholic House   \n",
       "14              Fuel Coffee & Books   \n",
       "15                Anchorhead Coffee   \n",
       "16          Overcast Coffee Company   \n",
       "17                       URL Coffee   \n",
       "18                  Madison Kitchen   \n",
       "19     Volunteer Park Cafe & Pantry   \n",
       "\n",
       "                                            image_url  is_closed  \\\n",
       "0   https://s3-media2.fl.yelpcdn.com/bphoto/99K9k7...      False   \n",
       "1   https://s3-media2.fl.yelpcdn.com/bphoto/Sz1XcR...      False   \n",
       "2   https://s3-media2.fl.yelpcdn.com/bphoto/0fA2eb...      False   \n",
       "3   https://s3-media4.fl.yelpcdn.com/bphoto/SaSFeE...      False   \n",
       "4   https://s3-media1.fl.yelpcdn.com/bphoto/YasEcz...      False   \n",
       "5   https://s3-media1.fl.yelpcdn.com/bphoto/_4ZQZx...      False   \n",
       "6   https://s3-media3.fl.yelpcdn.com/bphoto/HwagNI...      False   \n",
       "7   https://s3-media4.fl.yelpcdn.com/bphoto/zkN4BG...      False   \n",
       "8   https://s3-media2.fl.yelpcdn.com/bphoto/0-GwL8...      False   \n",
       "9   https://s3-media2.fl.yelpcdn.com/bphoto/Wua0EA...      False   \n",
       "10  https://s3-media1.fl.yelpcdn.com/bphoto/Xf1Dld...      False   \n",
       "11  https://s3-media3.fl.yelpcdn.com/bphoto/nJgiyj...      False   \n",
       "12  https://s3-media2.fl.yelpcdn.com/bphoto/41ZaCQ...      False   \n",
       "13  https://s3-media3.fl.yelpcdn.com/bphoto/Pc-QBB...      False   \n",
       "14  https://s3-media1.fl.yelpcdn.com/bphoto/kx3cc_...      False   \n",
       "15  https://s3-media2.fl.yelpcdn.com/bphoto/OITyX_...      False   \n",
       "16  https://s3-media2.fl.yelpcdn.com/bphoto/xz55iC...      False   \n",
       "17  https://s3-media2.fl.yelpcdn.com/bphoto/SMov3k...      False   \n",
       "18  https://s3-media2.fl.yelpcdn.com/bphoto/s6fbQd...      False   \n",
       "19  https://s3-media2.fl.yelpcdn.com/bphoto/uN-Lsk...      False   \n",
       "\n",
       "                                                  url  review_count  \\\n",
       "0   https://www.yelp.com/biz/union-coffee-and-wine...            94   \n",
       "1   https://www.yelp.com/biz/arosa-cafe-seattle-6?...           103   \n",
       "2   https://www.yelp.com/biz/squirrel-chops-seattl...            89   \n",
       "3   https://www.yelp.com/biz/verite-coffee-seattle...            39   \n",
       "4   https://www.yelp.com/biz/golden-wheat-bakery-s...           127   \n",
       "5   https://www.yelp.com/biz/good-neighbor-cafe-se...            43   \n",
       "6   https://www.yelp.com/biz/qed-coffee-seattle?ad...           104   \n",
       "7   https://www.yelp.com/biz/overcast-coffee-bar-s...             9   \n",
       "8   https://www.yelp.com/biz/broadcast-coffee-roas...           150   \n",
       "9   https://www.yelp.com/biz/hello-em-viet-coffee-...           228   \n",
       "10  https://www.yelp.com/biz/temple-pastries-seatt...            98   \n",
       "11  https://www.yelp.com/biz/storyville-coffee-com...          2033   \n",
       "12  https://www.yelp.com/biz/central-cafe-and-juic...            59   \n",
       "13  https://www.yelp.com/biz/coffeeholic-house-sea...           557   \n",
       "14  https://www.yelp.com/biz/fuel-coffee-and-books...            97   \n",
       "15  https://www.yelp.com/biz/anchorhead-coffee-sea...           643   \n",
       "16  https://www.yelp.com/biz/overcast-coffee-compa...            35   \n",
       "17  https://www.yelp.com/biz/url-coffee-seattle?ad...            27   \n",
       "18  https://www.yelp.com/biz/madison-kitchen-seatt...           130   \n",
       "19  https://www.yelp.com/biz/volunteer-park-cafe-a...            32   \n",
       "\n",
       "                                           categories  rating  \\\n",
       "0   [{'alias': 'coffee', 'title': 'Coffee & Tea'},...     4.5   \n",
       "1   [{'alias': 'coffee', 'title': 'Coffee & Tea'},...     4.5   \n",
       "2      [{'alias': 'coffee', 'title': 'Coffee & Tea'}]     4.5   \n",
       "3   [{'alias': 'coffee', 'title': 'Coffee & Tea'},...     3.5   \n",
       "4   [{'alias': 'bakeries', 'title': 'Bakeries'}, {...     5.0   \n",
       "5   [{'alias': 'sandwiches', 'title': 'Sandwiches'...     4.5   \n",
       "6      [{'alias': 'coffee', 'title': 'Coffee & Tea'}]     4.5   \n",
       "7      [{'alias': 'coffee', 'title': 'Coffee & Tea'}]     5.0   \n",
       "8      [{'alias': 'coffee', 'title': 'Coffee & Tea'}]     4.0   \n",
       "9   [{'alias': 'coffeeroasteries', 'title': 'Coffe...     4.5   \n",
       "10       [{'alias': 'bakeries', 'title': 'Bakeries'}]     4.5   \n",
       "11  [{'alias': 'coffee', 'title': 'Coffee & Tea'},...     4.5   \n",
       "12  [{'alias': 'juicebars', 'title': 'Juice Bars &...     5.0   \n",
       "13     [{'alias': 'coffee', 'title': 'Coffee & Tea'}]     4.5   \n",
       "14     [{'alias': 'coffee', 'title': 'Coffee & Tea'}]     4.0   \n",
       "15  [{'alias': 'coffee', 'title': 'Coffee & Tea'},...     4.5   \n",
       "16  [{'alias': 'creperies', 'title': 'Creperies'},...     5.0   \n",
       "17             [{'alias': 'cafes', 'title': 'Cafes'}]     5.0   \n",
       "18  [{'alias': 'sandwiches', 'title': 'Sandwiches'...     4.0   \n",
       "19             [{'alias': 'cafes', 'title': 'Cafes'}]     4.5   \n",
       "\n",
       "                                          coordinates        transactions  \\\n",
       "0     {'latitude': 47.61274, 'longitude': -122.30103}          [delivery]   \n",
       "1   {'latitude': 47.62620255, 'longitude': -122.29...  [delivery, pickup]   \n",
       "2   {'latitude': 47.6128151, 'longitude': -122.303...                  []   \n",
       "3     {'latitude': 47.61175, 'longitude': -122.28953}                  []   \n",
       "4   {'latitude': 47.608213, 'longitude': -122.294437}          [delivery]   \n",
       "5     {'latitude': 47.60321, 'longitude': -122.30742}  [pickup, delivery]   \n",
       "6   {'latitude': 47.5896816513796, 'longitude': -1...          [delivery]   \n",
       "7   {'latitude': 47.612681092953295, 'longitude': ...                  []   \n",
       "8   {'latitude': 47.6019325256348, 'longitude': -1...          [delivery]   \n",
       "9     {'latitude': 47.59732, 'longitude': -122.31544}                  []   \n",
       "10  {'latitude': 47.599309353938516, 'longitude': ...          [delivery]   \n",
       "11  {'latitude': 47.60895949363687, 'longitude': -...  [pickup, delivery]   \n",
       "12    {'latitude': 47.60782, 'longitude': -122.29946}  [pickup, delivery]   \n",
       "13    {'latitude': 47.55723, 'longitude': -122.28596}          [delivery]   \n",
       "14    {'latitude': 47.63967, 'longitude': -122.30182}          [delivery]   \n",
       "15  {'latitude': 47.6133808022766, 'longitude': -1...          [delivery]   \n",
       "16    {'latitude': 47.62092, 'longitude': -122.31256}  [delivery, pickup]   \n",
       "17  {'latitude': 47.60672503133874, 'longitude': -...          [delivery]   \n",
       "18    {'latitude': 47.63548, 'longitude': -122.27895}          [delivery]   \n",
       "19  {'latitude': 47.63258868885758, 'longitude': -...                  []   \n",
       "\n",
       "   price                                           location         phone  \\\n",
       "0      $  {'address1': '2407 E Union St', 'address2': 'S...  +17066314474   \n",
       "1      $  {'address1': '3121 E Madison St', 'address2': ...  +12064050605   \n",
       "2      $  {'address1': '2201 E Union St', 'address2': ''...  +12064857017   \n",
       "3      $  {'address1': '1101 34th Ave', 'address2': '', ...  +12067094497   \n",
       "4      $  {'address1': '2908 E Cherry St', 'address2': '...  +12063255055   \n",
       "5    NaN  {'address1': '166 19th Ave', 'address2': 'Ste ...  +12063287002   \n",
       "6     $$  {'address1': '1418 31st Ave S', 'address2': ''...  +12062357678   \n",
       "7     $$  {'address1': '1017 E Union St', 'address2': ''...  +12063222220   \n",
       "8      $  {'address1': '1918 E Yesler Way', 'address2': ...  +12063220807   \n",
       "9      $  {'address1': '1227 S Weller St', 'address2': '...                 \n",
       "10   NaN  {'address1': '2524 S Jackson St', 'address2': ...  +12064084131   \n",
       "11    $$  {'address1': '94 Pike St', 'address2': 'Ste 34...  +12067805777   \n",
       "12     $  {'address1': '2509 E Cherry St', 'address2': N...                 \n",
       "13    $$  {'address1': '3700 S Hudson St', 'address2': N...  +12067223327   \n",
       "14     $  {'address1': '2300 24th Ave E', 'address2': No...  +12063280700   \n",
       "15    $$  {'address1': '1600 7th Ave', 'address2': 'Ste ...  +12062222222   \n",
       "16     $  {'address1': '312 15th Ave E', 'address2': '',...  +12063222220   \n",
       "17   NaN  {'address1': '524 Broadway', 'address2': None,...                 \n",
       "18    $$  {'address1': '4122 E Madison St', 'address2': ...  +12065574640   \n",
       "19    $$  {'address1': '1501 17th Ave E', 'address2': ''...  +12068226566   \n",
       "\n",
       "     display_phone     distance  \n",
       "0   (706) 631-4474   406.415695  \n",
       "1   (206) 405-0605  1490.203135  \n",
       "2   (206) 485-7017   572.723877  \n",
       "3   (206) 709-4497   483.915129  \n",
       "4   (206) 325-5055   550.890653  \n",
       "5   (206) 328-7002  1405.654043  \n",
       "6   (206) 235-7678  2615.675293  \n",
       "7   (206) 322-2220  1731.493007  \n",
       "8   (206) 322-0807  1501.359954  \n",
       "9                   2296.777516  \n",
       "10  (206) 408-4131  1549.486738  \n",
       "11  (206) 780-5777  3385.734739  \n",
       "12                   651.324295  \n",
       "13  (206) 722-3327  6248.940850  \n",
       "14  (206) 328-0700  2988.904316  \n",
       "15  (206) 222-2222  2924.087554  \n",
       "16  (206) 322-2220  1529.086775  \n",
       "17                  1992.130352  \n",
       "18  (206) 557-4640  2786.221642  \n",
       "19  (206) 822-6566  2419.491037  "
      ]
     },
     "execution_count": 34,
     "metadata": {},
     "output_type": "execute_result"
    }
   ],
   "source": [
    "# Lets save this into Pandas dataframe\n",
    "pd.DataFrame(results['businesses'])\n"
   ]
  },
  {
   "cell_type": "markdown",
   "metadata": {},
   "source": [
    "### Check if Json File exists and Create it if it doesn't"
   ]
  },
  {
   "cell_type": "code",
   "execution_count": 33,
   "metadata": {},
   "outputs": [
    {
     "data": {
      "text/plain": [
       "False"
      ]
     },
     "execution_count": 33,
     "metadata": {},
     "output_type": "execute_result"
    }
   ],
   "source": [
    "os.path.isfile(JSON_FILE)"
   ]
  },
  {
   "cell_type": "code",
   "execution_count": 38,
   "metadata": {},
   "outputs": [
    {
     "name": "stdout",
     "output_type": "stream",
     "text": [
      "The file does not exist.Creating empty file\n"
     ]
    }
   ],
   "source": [
    "## Check if JSON_FILE exists\n",
    "if os.path.isfile(JSON_FILE)==False:\n",
    "## If it does not exist: \n",
    "    print('The file does not exist.Creating empty file')    \n",
    "    \n",
    "    ## save the first page of results\n",
    "    with open(JSON_FILE,'w') as f:\n",
    "        json.dump(results['businesses'],f)\n",
    "        \n",
    "## If it exists, inform user\n",
    "else:\n",
    "    print('File already exists.')"
   ]
  },
  {
   "cell_type": "markdown",
   "metadata": {},
   "source": [
    "### Load JSON FIle and account for previous results"
   ]
  },
  {
   "cell_type": "code",
   "execution_count": 40,
   "metadata": {},
   "outputs": [
    {
     "data": {
      "text/plain": [
       "20"
      ]
     },
     "execution_count": 40,
     "metadata": {},
     "output_type": "execute_result"
    }
   ],
   "source": [
    "## Load previous results and use len of results for offset\n",
    "prev_df = pd.read_json(JSON_FILE)\n",
    "## set offset based on previous results\n",
    "n_results = len(prev_df)\n",
    "n_results"
   ]
  },
  {
   "cell_type": "code",
   "execution_count": null,
   "metadata": {
    "ExecuteTime": {
     "end_time": "2022-03-24T20:01:48.867510Z",
     "start_time": "2022-03-24T20:01:48.854746Z"
    },
    "colab": {
     "base_uri": "https://localhost:8080/"
    },
    "id": "Myur3i1KGhPf",
    "outputId": "f447c6f9-596b-41d0-ccda-50af0ce82108"
   },
   "outputs": [],
   "source": [
    "## How many results tottal"
   ]
  },
  {
   "cell_type": "markdown",
   "metadata": {},
   "source": [
    "- Where is the actual data we want to save?"
   ]
  },
  {
   "cell_type": "code",
   "execution_count": null,
   "metadata": {},
   "outputs": [],
   "source": []
  },
  {
   "cell_type": "code",
   "execution_count": 41,
   "metadata": {},
   "outputs": [
    {
     "data": {
      "text/plain": [
       "20"
      ]
     },
     "execution_count": 41,
     "metadata": {},
     "output_type": "execute_result"
    }
   ],
   "source": [
    "## How many did we get the details for?\n",
    "results_per_page = len(results['businesses'])\n",
    "results_per_page"
   ]
  },
  {
   "cell_type": "markdown",
   "metadata": {},
   "source": [
    "- Calculate how many pages of results needed to cover the total_results"
   ]
  },
  {
   "cell_type": "code",
   "execution_count": 43,
   "metadata": {},
   "outputs": [
    {
     "data": {
      "text/plain": [
       "75"
      ]
     },
     "execution_count": 43,
     "metadata": {},
     "output_type": "execute_result"
    }
   ],
   "source": [
    "# Use math.ceil to round up for the total number of pages of results.\n",
    "import math\n",
    "n_pages= math.ceil(results['total']/results_per_page)\n",
    "n_pages"
   ]
  },
  {
   "cell_type": "code",
   "execution_count": 48,
   "metadata": {},
   "outputs": [
    {
     "data": {
      "application/vnd.jupyter.widget-view+json": {
       "model_id": "b69800abc16248bfb50f7613815f2b31",
       "version_major": 2,
       "version_minor": 0
      },
      "text/plain": [
       "  0%|          | 0/75 [00:00<?, ?it/s]"
      ]
     },
     "metadata": {},
     "output_type": "display_data"
    },
    {
     "ename": "YelpAPIError",
     "evalue": "VALIDATION_ERROR: Too many results requested, limit+offset must be <= 1000.",
     "output_type": "error",
     "traceback": [
      "\u001b[0;31m---------------------------------------------------------------------------\u001b[0m",
      "\u001b[0;31mYelpAPIError\u001b[0m                              Traceback (most recent call last)",
      "Input \u001b[0;32mIn [48]\u001b[0m, in \u001b[0;36m<cell line: 1>\u001b[0;34m()\u001b[0m\n\u001b[1;32m     10\u001b[0m n_results \u001b[38;5;241m=\u001b[39m \u001b[38;5;28mlen\u001b[39m(prev_results)\n\u001b[1;32m     12\u001b[0m \u001b[38;5;66;03m## save number of results for to use as offset  ## use n_results as the OFFSET \u001b[39;00m\n\u001b[0;32m---> 13\u001b[0m results \u001b[38;5;241m=\u001b[39m \u001b[43myelp\u001b[49m\u001b[38;5;241;43m.\u001b[39;49m\u001b[43msearch_query\u001b[49m\u001b[43m(\u001b[49m\u001b[43mterm\u001b[49m\u001b[43m \u001b[49m\u001b[38;5;241;43m=\u001b[39;49m\u001b[43mTERM\u001b[49m\u001b[43m,\u001b[49m\u001b[43mlocation\u001b[49m\u001b[38;5;241;43m=\u001b[39;49m\u001b[43mLOCATION\u001b[49m\u001b[43m,\u001b[49m\u001b[43m \u001b[49m\u001b[43moffset\u001b[49m\u001b[38;5;241;43m=\u001b[39;49m\u001b[43mn_results\u001b[49m\u001b[43m,\u001b[49m\u001b[43mlimit\u001b[49m\u001b[38;5;241;43m=\u001b[39;49m\u001b[38;5;241;43m5\u001b[39;49m\u001b[43m)\u001b[49m\n\u001b[1;32m     16\u001b[0m \u001b[38;5;66;03m## append new results and save to file\u001b[39;00m\n\u001b[1;32m     18\u001b[0m prev_results\u001b[38;5;241m.\u001b[39mextend(results[\u001b[38;5;124m'\u001b[39m\u001b[38;5;124mbusinesses\u001b[39m\u001b[38;5;124m'\u001b[39m])\n",
      "File \u001b[0;32m/opt/homebrew/Caskroom/miniforge/base/envs/dojo-env/lib/python3.8/site-packages/yelpapi/yelpapi.py:234\u001b[0m, in \u001b[0;36mYelpAPI.search_query\u001b[0;34m(self, **kwargs)\u001b[0m\n\u001b[1;32m    230\u001b[0m \u001b[38;5;28;01mif\u001b[39;00m \u001b[38;5;129;01mnot\u001b[39;00m kwargs\u001b[38;5;241m.\u001b[39mget(\u001b[38;5;124m'\u001b[39m\u001b[38;5;124mlocation\u001b[39m\u001b[38;5;124m'\u001b[39m) \u001b[38;5;129;01mand\u001b[39;00m (\u001b[38;5;129;01mnot\u001b[39;00m kwargs\u001b[38;5;241m.\u001b[39mget(\u001b[38;5;124m'\u001b[39m\u001b[38;5;124mlatitude\u001b[39m\u001b[38;5;124m'\u001b[39m) \u001b[38;5;129;01mor\u001b[39;00m \u001b[38;5;129;01mnot\u001b[39;00m kwargs\u001b[38;5;241m.\u001b[39mget(\u001b[38;5;124m'\u001b[39m\u001b[38;5;124mlongitude\u001b[39m\u001b[38;5;124m'\u001b[39m)):\n\u001b[1;32m    231\u001b[0m     \u001b[38;5;28;01mraise\u001b[39;00m \u001b[38;5;167;01mValueError\u001b[39;00m(\u001b[38;5;124m'\u001b[39m\u001b[38;5;124mA valid location (parameter \u001b[39m\u001b[38;5;124m\"\u001b[39m\u001b[38;5;124mlocation\u001b[39m\u001b[38;5;124m\"\u001b[39m\u001b[38;5;124m) or latitude/longitude combination \u001b[39m\u001b[38;5;124m'\u001b[39m\n\u001b[1;32m    232\u001b[0m                      \u001b[38;5;124m'\u001b[39m\u001b[38;5;124m(parameters \u001b[39m\u001b[38;5;124m\"\u001b[39m\u001b[38;5;124mlatitude\u001b[39m\u001b[38;5;124m\"\u001b[39m\u001b[38;5;124m and \u001b[39m\u001b[38;5;124m\"\u001b[39m\u001b[38;5;124mlongitude\u001b[39m\u001b[38;5;124m\"\u001b[39m\u001b[38;5;124m) must be provided.\u001b[39m\u001b[38;5;124m'\u001b[39m)\n\u001b[0;32m--> 234\u001b[0m \u001b[38;5;28;01mreturn\u001b[39;00m \u001b[38;5;28;43mself\u001b[39;49m\u001b[38;5;241;43m.\u001b[39;49m\u001b[43m_query\u001b[49m\u001b[43m(\u001b[49m\u001b[43mSEARCH_API_URL\u001b[49m\u001b[43m,\u001b[49m\u001b[43m \u001b[49m\u001b[38;5;241;43m*\u001b[39;49m\u001b[38;5;241;43m*\u001b[39;49m\u001b[43mkwargs\u001b[49m\u001b[43m)\u001b[49m\n",
      "File \u001b[0;32m/opt/homebrew/Caskroom/miniforge/base/envs/dojo-env/lib/python3.8/site-packages/yelpapi/yelpapi.py:282\u001b[0m, in \u001b[0;36mYelpAPI._query\u001b[0;34m(self, url, **kwargs)\u001b[0m\n\u001b[1;32m    278\u001b[0m \u001b[38;5;66;03m# Yelp can return one of many different API errors, so check for one of them.\u001b[39;00m\n\u001b[1;32m    279\u001b[0m \u001b[38;5;66;03m# The Yelp Fusion API does not yet have a complete list of errors, but this is on the TODO list; see\u001b[39;00m\n\u001b[1;32m    280\u001b[0m \u001b[38;5;66;03m# https://github.com/Yelp/yelp-fusion/issues/95 for more info.\u001b[39;00m\n\u001b[1;32m    281\u001b[0m \u001b[38;5;28;01mif\u001b[39;00m \u001b[38;5;124m'\u001b[39m\u001b[38;5;124merror\u001b[39m\u001b[38;5;124m'\u001b[39m \u001b[38;5;129;01min\u001b[39;00m response_json:\n\u001b[0;32m--> 282\u001b[0m     \u001b[38;5;28;01mraise\u001b[39;00m YelpAPI\u001b[38;5;241m.\u001b[39mYelpAPIError(\u001b[38;5;124m'\u001b[39m\u001b[38;5;132;01m{}\u001b[39;00m\u001b[38;5;124m: \u001b[39m\u001b[38;5;132;01m{}\u001b[39;00m\u001b[38;5;124m'\u001b[39m\u001b[38;5;241m.\u001b[39mformat(response_json[\u001b[38;5;124m'\u001b[39m\u001b[38;5;124merror\u001b[39m\u001b[38;5;124m'\u001b[39m][\u001b[38;5;124m'\u001b[39m\u001b[38;5;124mcode\u001b[39m\u001b[38;5;124m'\u001b[39m],\n\u001b[1;32m    283\u001b[0m                                                response_json[\u001b[38;5;124m'\u001b[39m\u001b[38;5;124merror\u001b[39m\u001b[38;5;124m'\u001b[39m][\u001b[38;5;124m'\u001b[39m\u001b[38;5;124mdescription\u001b[39m\u001b[38;5;124m'\u001b[39m]))\n\u001b[1;32m    285\u001b[0m \u001b[38;5;66;03m# we got a good response, so return\u001b[39;00m\n\u001b[1;32m    286\u001b[0m \u001b[38;5;28;01mreturn\u001b[39;00m response_json\n",
      "\u001b[0;31mYelpAPIError\u001b[0m: VALIDATION_ERROR: Too many results requested, limit+offset must be <= 1000."
     ]
    }
   ],
   "source": [
    "for i in tqdm_notebook( range(1,n_pages+1)):\n",
    "    ## The block of code we want to TRY to run\n",
    "        \n",
    "        \n",
    "        ## Read in results in progress file and check the length\n",
    "        with open(JSON_FILE) as f:\n",
    "            prev_results = json.load(f)\n",
    "            \n",
    "        ## set offset based on previous results\n",
    "        n_results = len(prev_results)\n",
    "        \n",
    "        ## save number of results for to use as offset  ## use n_results as the OFFSET \n",
    "        results = yelp.search_query(term =TERM,location=LOCATION, offset=n_results,limit=5)\n",
    " \n",
    "\n",
    "        ## append new results and save to file\n",
    "        \n",
    "        prev_results.extend(results['businesses'])\n",
    "        with open(JSON_FILE,'w') as f:\n",
    "            json.dump(prev_results,f)\n",
    "            \n",
    "    ## What to do if we get an error/exception.\n",
    "        \n"
   ]
  },
  {
   "cell_type": "markdown",
   "metadata": {},
   "source": [
    "## Open the Final JSON File with Pandas"
   ]
  },
  {
   "cell_type": "code",
   "execution_count": null,
   "metadata": {},
   "outputs": [],
   "source": [
    "df = None"
   ]
  },
  {
   "cell_type": "code",
   "execution_count": null,
   "metadata": {},
   "outputs": [],
   "source": [
    "## convert the filename to a .csv.gz\n",
    "csv_file = JSON_FILE.replace('.json','.csv.gz')\n",
    "csv_file"
   ]
  },
  {
   "cell_type": "code",
   "execution_count": null,
   "metadata": {},
   "outputs": [],
   "source": [
    "## Save it as a compressed csv (to save space)\n"
   ]
  },
  {
   "cell_type": "markdown",
   "metadata": {},
   "source": [
    "## Bonus: compare filesize with os module's `os.path.getsize`"
   ]
  },
  {
   "cell_type": "code",
   "execution_count": null,
   "metadata": {},
   "outputs": [],
   "source": [
    "size_json = os.path.getsize(JSON_FILE)\n",
    "size_csv_gz = os.path.getsize(JSON_FILE.replace('.json','.csv.gz'))\n",
    "\n",
    "print(f'JSON FILE: {size_json:,} Bytes')\n",
    "print(f'CSV.GZ FILE: {size_csv_gz:,} Bytes')\n",
    "\n",
    "print(f'the csv.gz is {size_json/size_csv_gz} times smaller!')"
   ]
  },
  {
   "cell_type": "markdown",
   "metadata": {},
   "source": [
    "## Next Class: Processing the Results and Mapping "
   ]
  }
 ],
 "metadata": {
  "colab": {
   "collapsed_sections": [],
   "name": "Test Yelp API Package.ipynb",
   "provenance": []
  },
  "kernelspec": {
   "display_name": "Python (dojo-env)",
   "language": "python",
   "name": "dojo-env"
  },
  "language_info": {
   "codemirror_mode": {
    "name": "ipython",
    "version": 3
   },
   "file_extension": ".py",
   "mimetype": "text/x-python",
   "name": "python",
   "nbconvert_exporter": "python",
   "pygments_lexer": "ipython3",
   "version": "3.8.13"
  },
  "toc": {
   "base_numbering": 1,
   "nav_menu": {},
   "number_sections": false,
   "sideBar": true,
   "skip_h1_title": false,
   "title_cell": "Table of Contents",
   "title_sidebar": "Contents",
   "toc_cell": false,
   "toc_position": {},
   "toc_section_display": true,
   "toc_window_display": true
  }
 },
 "nbformat": 4,
 "nbformat_minor": 1
}
