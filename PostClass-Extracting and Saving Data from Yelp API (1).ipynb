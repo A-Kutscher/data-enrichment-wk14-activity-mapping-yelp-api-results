{
 "cells": [
  {
   "cell_type": "markdown",
   "metadata": {
    "id": "8guYh-VR7nlX"
   },
   "source": [
    "# Part 1 - Extracting and Saving Data from Yelp API"
   ]
  },
  {
   "cell_type": "markdown",
   "metadata": {},
   "source": [
    "## Obective"
   ]
  },
  {
   "cell_type": "markdown",
   "metadata": {
    "id": "8guYh-VR7nlX"
   },
   "source": [
    "- For this CodeAlong, we will be working with the Yelp API. \n",
    "- You will use the the Yelp API to search your home town for a cuisine type of your choice.\n",
    "- Next class, we will then use Plotly Express to create a map with the Mapbox API to visualize the results.\n",
    "    \n",
    "    "
   ]
  },
  {
   "cell_type": "markdown",
   "metadata": {
    "id": "8guYh-VR7nlX"
   },
   "source": [
    "## Tools You Will Use\n",
    "- Part 1:\n",
    "    - Yelp API:\n",
    "        - Getting Started: \n",
    "            - https://www.yelp.com/developers/documentation/v3/get_started\n",
    "\n",
    "    - `YelpAPI` python package\n",
    "        -  \"YelpAPI\": https://github.com/gfairchild/yelpapi\n",
    "- Part 2:\n",
    "\n",
    "    - Plotly Express: https://plotly.com/python/getting-started/\n",
    "        - With Mapbox API: https://www.mapbox.com/\n",
    "        - `px.scatter_mapbox` [Documentation](https://plotly.com/python/scattermapbox/): \n",
    "\n",
    "\n"
   ]
  },
  {
   "cell_type": "markdown",
   "metadata": {},
   "source": [
    "### Applying Code From\n",
    "- Efficient API Calls Lesson Link: https://login.codingdojo.com/m/376/12529/88078"
   ]
  },
  {
   "cell_type": "code",
   "execution_count": 1,
   "metadata": {},
   "outputs": [],
   "source": [
    "# Standard Imports\n",
    "import numpy as np\n",
    "import pandas as pd\n",
    "import matplotlib.pyplot as plt\n",
    "import seaborn as sns\n",
    "\n",
    "# Additional Imports\n",
    "import os, json, math, time\n",
    "from yelpapi import YelpAPI\n",
    "from tqdm.notebook import tqdm_notebook"
   ]
  },
  {
   "cell_type": "markdown",
   "metadata": {
    "id": "1l3Z-79nBSX9"
   },
   "source": [
    "## 1. Registering for Required APIs"
   ]
  },
  {
   "cell_type": "markdown",
   "metadata": {
    "id": "1l3Z-79nBSX9"
   },
   "source": [
    "\n",
    "- Yelp: https://www.yelp.com/developers/documentation/v3/get_started\n"
   ]
  },
  {
   "cell_type": "markdown",
   "metadata": {},
   "source": [
    "> Check the official API documentation to know what arguments we can search for: https://www.yelp.com/developers/documentation/v3/business_search"
   ]
  },
  {
   "cell_type": "markdown",
   "metadata": {},
   "source": [
    "### Load Credentials and Create Yelp API Object"
   ]
  },
  {
   "cell_type": "code",
   "execution_count": 2,
   "metadata": {
    "ExecuteTime": {
     "end_time": "2022-03-25T18:20:46.629934Z",
     "start_time": "2022-03-25T18:20:45.915864Z"
    },
    "colab": {
     "base_uri": "https://localhost:8080/"
    },
    "id": "xJYqVvNkE36a",
    "outputId": "67798160-dea2-41fc-9040-2b3833efa560"
   },
   "outputs": [],
   "source": [
    "# Load API Credentials\n",
    "with open('/Users/purvikansara/.secret/yelp_api.json') as f:\n",
    "    creds = json.load(f)\n",
    "    "
   ]
  },
  {
   "cell_type": "code",
   "execution_count": 3,
   "metadata": {},
   "outputs": [
    {
     "data": {
      "text/plain": [
       "dict_keys(['Client-ID', 'API Key'])"
      ]
     },
     "execution_count": 3,
     "metadata": {},
     "output_type": "execute_result"
    }
   ],
   "source": [
    "creds.keys()"
   ]
  },
  {
   "cell_type": "code",
   "execution_count": 4,
   "metadata": {},
   "outputs": [
    {
     "data": {
      "text/plain": [
       "dict_values(['r8Qlusnw5U_OXTmzDH90Ug', 'HsJ2_Ur3gUElE7C7c_5oj86feE_g573PiBA44nQ1MTVGuWq4FffTxd82I7Hb38ESWKC3CY-JHtfoA7OSdU32DLJbUNfJjiqeJ0jZDnKqk1TqlJ5dxVMKjEa-WaO6YnYx'])"
      ]
     },
     "execution_count": 4,
     "metadata": {},
     "output_type": "execute_result"
    }
   ],
   "source": [
    "creds.values()"
   ]
  },
  {
   "cell_type": "code",
   "execution_count": 4,
   "metadata": {},
   "outputs": [
    {
     "data": {
      "text/plain": [
       "<yelpapi.yelpapi.YelpAPI at 0x13e43de80>"
      ]
     },
     "execution_count": 4,
     "metadata": {},
     "output_type": "execute_result"
    }
   ],
   "source": [
    "# Instantiate YelpAPI Variable\n",
    "yelp  = YelpAPI(creds['API Key'],timeout_s=5.0)\n",
    "yelp"
   ]
  },
  {
   "cell_type": "markdown",
   "metadata": {},
   "source": [
    "### Define Search Terms and File Paths"
   ]
  },
  {
   "cell_type": "code",
   "execution_count": 8,
   "metadata": {},
   "outputs": [],
   "source": [
    "# set our API call parameters and filename before the first call\n",
    "LOCATION =\"Seattle, WA 98122\"\n",
    "TERM = 'Coffee'"
   ]
  },
  {
   "cell_type": "code",
   "execution_count": 9,
   "metadata": {},
   "outputs": [],
   "source": [
    "## Specify fodler for saving data\n",
    "FOLDER = \"Data/\"\n",
    "os.makedirs(FOLDER,exist_ok=True)\n"
   ]
  },
  {
   "cell_type": "code",
   "execution_count": 10,
   "metadata": {},
   "outputs": [],
   "source": [
    "\n",
    "# Specifying JSON_FILE filename (can include a folder)\n",
    "JSON_FILE = FOLDER+\"Seattle Coffee.json\""
   ]
  },
  {
   "cell_type": "code",
   "execution_count": 11,
   "metadata": {},
   "outputs": [
    {
     "data": {
      "text/plain": [
       "'Seattle'"
      ]
     },
     "execution_count": 11,
     "metadata": {},
     "output_type": "execute_result"
    }
   ],
   "source": [
    "LOCATION.split(',')[0]"
   ]
  },
  {
   "cell_type": "code",
   "execution_count": 12,
   "metadata": {},
   "outputs": [],
   "source": [
    "JSON_FILE = FOLDER+f\"{LOCATION.split(',')[0]}-{TERM}.json\""
   ]
  },
  {
   "cell_type": "code",
   "execution_count": 13,
   "metadata": {},
   "outputs": [
    {
     "data": {
      "text/plain": [
       "'Data/Seattle-Coffee.json'"
      ]
     },
     "execution_count": 13,
     "metadata": {},
     "output_type": "execute_result"
    }
   ],
   "source": [
    "JSON_FILE"
   ]
  },
  {
   "cell_type": "code",
   "execution_count": null,
   "metadata": {},
   "outputs": [],
   "source": []
  },
  {
   "cell_type": "markdown",
   "metadata": {},
   "source": [
    "### Check if Json File exists and Create it if it doesn't"
   ]
  },
  {
   "cell_type": "code",
   "execution_count": 27,
   "metadata": {},
   "outputs": [
    {
     "name": "stdout",
     "output_type": "stream",
     "text": [
      "The file does not exist.Creating empty file\n"
     ]
    }
   ],
   "source": [
    "## Check if JSON_FILE exists\n",
    "if os.path.isfile(JSON_FILE)==False:\n",
    "## If it does not exist: \n",
    "    print('The file does not exist.Creating empty file')    \n",
    "    \n",
    "    ## save the first page of results\n",
    "    with open(JSON_FILE,'w') as f:\n",
    "        json.dump(results['businesses'],f)\n",
    "        \n",
    "## If it exists, inform user\n",
    "else:\n",
    "    print('File already exists.')"
   ]
  },
  {
   "cell_type": "markdown",
   "metadata": {},
   "source": [
    "### Load JSON FIle and account for previous results"
   ]
  },
  {
   "cell_type": "code",
   "execution_count": null,
   "metadata": {},
   "outputs": [],
   "source": [
    "## Load previous results and use len of results for offset\n",
    "\n",
    "## set offset based on previous results\n"
   ]
  },
  {
   "cell_type": "markdown",
   "metadata": {},
   "source": [
    "### Make the first API call to get the first page of data"
   ]
  },
  {
   "cell_type": "markdown",
   "metadata": {},
   "source": [
    "- We will use this first result to check:\n",
    "    - how many total results there are?\n",
    "    - Where is the actual data we want to save?\n",
    "    - how many results do we get at a time?\n"
   ]
  },
  {
   "cell_type": "code",
   "execution_count": 14,
   "metadata": {},
   "outputs": [
    {
     "data": {
      "text/plain": [
       "dict"
      ]
     },
     "execution_count": 14,
     "metadata": {},
     "output_type": "execute_result"
    }
   ],
   "source": [
    "# use our yelp_api variable's search_query method to perform our API call\n",
    "results = yelp.search_query(term=TERM,location = LOCATION)\n",
    "type(results)"
   ]
  },
  {
   "cell_type": "code",
   "execution_count": 15,
   "metadata": {},
   "outputs": [
    {
     "data": {
      "text/plain": [
       "dict_keys(['businesses', 'total', 'region'])"
      ]
     },
     "execution_count": 15,
     "metadata": {},
     "output_type": "execute_result"
    }
   ],
   "source": [
    "results.keys()"
   ]
  },
  {
   "cell_type": "code",
   "execution_count": 18,
   "metadata": {},
   "outputs": [
    {
     "data": {
      "text/plain": [
       "{'id': 'yLZborRy-JRAKtTWBk9a9g',\n",
       " 'alias': 'union-coffee-and-wine-seattle',\n",
       " 'name': 'Union Coffee and Wine ',\n",
       " 'image_url': 'https://s3-media2.fl.yelpcdn.com/bphoto/99K9k7mqUWBoCPCLIzTvJQ/o.jpg',\n",
       " 'is_closed': False,\n",
       " 'url': 'https://www.yelp.com/biz/union-coffee-and-wine-seattle?adjust_creative=r8Qlusnw5U_OXTmzDH90Ug&utm_campaign=yelp_api_v3&utm_medium=api_v3_business_search&utm_source=r8Qlusnw5U_OXTmzDH90Ug',\n",
       " 'review_count': 96,\n",
       " 'categories': [{'alias': 'coffee', 'title': 'Coffee & Tea'},\n",
       "  {'alias': 'wine_bars', 'title': 'Wine Bars'}],\n",
       " 'rating': 4.5,\n",
       " 'coordinates': {'latitude': 47.61274, 'longitude': -122.30103},\n",
       " 'transactions': ['delivery'],\n",
       " 'price': '$',\n",
       " 'location': {'address1': '2407 E Union St',\n",
       "  'address2': 'Ste B',\n",
       "  'address3': None,\n",
       "  'city': 'Seattle',\n",
       "  'zip_code': '98122',\n",
       "  'country': 'US',\n",
       "  'state': 'WA',\n",
       "  'display_address': ['2407 E Union St', 'Ste B', 'Seattle, WA 98122']},\n",
       " 'phone': '+17066314474',\n",
       " 'display_phone': '(706) 631-4474',\n",
       " 'distance': 406.41569530434117}"
      ]
     },
     "execution_count": 18,
     "metadata": {},
     "output_type": "execute_result"
    }
   ],
   "source": [
    "results['businesses'][0]"
   ]
  },
  {
   "cell_type": "code",
   "execution_count": 19,
   "metadata": {},
   "outputs": [
    {
     "data": {
      "text/plain": [
       "1500"
      ]
     },
     "execution_count": 19,
     "metadata": {},
     "output_type": "execute_result"
    }
   ],
   "source": [
    "\n",
    "results['total']"
   ]
  },
  {
   "cell_type": "code",
   "execution_count": 20,
   "metadata": {},
   "outputs": [
    {
     "data": {
      "text/plain": [
       "{'center': {'longitude': -122.29568481445312, 'latitude': 47.61309534151991}}"
      ]
     },
     "execution_count": 20,
     "metadata": {},
     "output_type": "execute_result"
    }
   ],
   "source": [
    "results['region']"
   ]
  },
  {
   "cell_type": "code",
   "execution_count": 24,
   "metadata": {},
   "outputs": [],
   "source": [
    "results_per_page = len(results['businesses'])"
   ]
  },
  {
   "cell_type": "code",
   "execution_count": 25,
   "metadata": {
    "ExecuteTime": {
     "end_time": "2022-03-24T20:01:48.867510Z",
     "start_time": "2022-03-24T20:01:48.854746Z"
    },
    "colab": {
     "base_uri": "https://localhost:8080/"
    },
    "id": "Myur3i1KGhPf",
    "outputId": "f447c6f9-596b-41d0-ccda-50af0ce82108"
   },
   "outputs": [
    {
     "data": {
      "text/plain": [
       "75"
      ]
     },
     "execution_count": 25,
     "metadata": {},
     "output_type": "execute_result"
    }
   ],
   "source": [
    "## How many results total?\n",
    "# Use math.ceil to round up for the total number of pages of results.\n",
    "import math\n",
    "n_pages= math.ceil(results['total']/results_per_page)\n",
    "n_pages"
   ]
  },
  {
   "cell_type": "markdown",
   "metadata": {},
   "source": [
    "- Where is the actual data we want to save?"
   ]
  },
  {
   "cell_type": "code",
   "execution_count": null,
   "metadata": {},
   "outputs": [],
   "source": []
  },
  {
   "cell_type": "markdown",
   "metadata": {},
   "source": [
    "- Calculate how many pages of results needed to cover the total_results"
   ]
  },
  {
   "cell_type": "code",
   "execution_count": 28,
   "metadata": {},
   "outputs": [
    {
     "data": {
      "application/vnd.jupyter.widget-view+json": {
       "model_id": "722c8e73ed1445ba94d3485bbbd76927",
       "version_major": 2,
       "version_minor": 0
      },
      "text/plain": [
       "  0%|          | 0/75 [00:00<?, ?it/s]"
      ]
     },
     "metadata": {},
     "output_type": "display_data"
    }
   ],
   "source": [
    "for i in tqdm_notebook( range(1,n_pages+1)):\n",
    "    ## The block of code we want to TRY to run\n",
    "        \n",
    "        \n",
    "        ## Read in results in progress file and check the length\n",
    "        with open(JSON_FILE) as f:\n",
    "            prev_results = json.load(f)\n",
    "            \n",
    "        ## set offset based on previous results\n",
    "        n_results = len(prev_results)\n",
    "        \n",
    "        ## save number of results for to use as offset  ## use n_results as the OFFSET \n",
    "        results = yelp.search_query(term =TERM,location=LOCATION, offset=n_results,limit=5)\n",
    " \n",
    "\n",
    "        ## append new results and save to file\n",
    "        \n",
    "        prev_results.extend(results['businesses'])\n",
    "        with open(JSON_FILE,'w') as f:\n",
    "            json.dump(prev_results,f)\n"
   ]
  },
  {
   "cell_type": "markdown",
   "metadata": {},
   "source": [
    "## Open the Final JSON File with Pandas"
   ]
  },
  {
   "cell_type": "code",
   "execution_count": 29,
   "metadata": {},
   "outputs": [],
   "source": [
    "\n",
    "df = pd.read_json(JSON_FILE)"
   ]
  },
  {
   "cell_type": "code",
   "execution_count": 30,
   "metadata": {},
   "outputs": [
    {
     "data": {
      "text/html": [
       "<div>\n",
       "<style scoped>\n",
       "    .dataframe tbody tr th:only-of-type {\n",
       "        vertical-align: middle;\n",
       "    }\n",
       "\n",
       "    .dataframe tbody tr th {\n",
       "        vertical-align: top;\n",
       "    }\n",
       "\n",
       "    .dataframe thead th {\n",
       "        text-align: right;\n",
       "    }\n",
       "</style>\n",
       "<table border=\"1\" class=\"dataframe\">\n",
       "  <thead>\n",
       "    <tr style=\"text-align: right;\">\n",
       "      <th></th>\n",
       "      <th>id</th>\n",
       "      <th>alias</th>\n",
       "      <th>name</th>\n",
       "      <th>image_url</th>\n",
       "      <th>is_closed</th>\n",
       "      <th>url</th>\n",
       "      <th>review_count</th>\n",
       "      <th>categories</th>\n",
       "      <th>rating</th>\n",
       "      <th>coordinates</th>\n",
       "      <th>transactions</th>\n",
       "      <th>price</th>\n",
       "      <th>location</th>\n",
       "      <th>phone</th>\n",
       "      <th>display_phone</th>\n",
       "      <th>distance</th>\n",
       "    </tr>\n",
       "  </thead>\n",
       "  <tbody>\n",
       "    <tr>\n",
       "      <th>0</th>\n",
       "      <td>yLZborRy-JRAKtTWBk9a9g</td>\n",
       "      <td>union-coffee-and-wine-seattle</td>\n",
       "      <td>Union Coffee and Wine</td>\n",
       "      <td>https://s3-media2.fl.yelpcdn.com/bphoto/99K9k7...</td>\n",
       "      <td>False</td>\n",
       "      <td>https://www.yelp.com/biz/union-coffee-and-wine...</td>\n",
       "      <td>96</td>\n",
       "      <td>[{'alias': 'coffee', 'title': 'Coffee &amp; Tea'},...</td>\n",
       "      <td>4.5</td>\n",
       "      <td>{'latitude': 47.61274, 'longitude': -122.30103}</td>\n",
       "      <td>[delivery]</td>\n",
       "      <td>$</td>\n",
       "      <td>{'address1': '2407 E Union St', 'address2': 'S...</td>\n",
       "      <td>+17066314474</td>\n",
       "      <td>(706) 631-4474</td>\n",
       "      <td>406.415695</td>\n",
       "    </tr>\n",
       "    <tr>\n",
       "      <th>1</th>\n",
       "      <td>9TnUll8eOc5FREIQqrcrFg</td>\n",
       "      <td>verite-coffee-seattle</td>\n",
       "      <td>Verite Coffee</td>\n",
       "      <td>https://s3-media4.fl.yelpcdn.com/bphoto/SaSFeE...</td>\n",
       "      <td>False</td>\n",
       "      <td>https://www.yelp.com/biz/verite-coffee-seattle...</td>\n",
       "      <td>38</td>\n",
       "      <td>[{'alias': 'coffee', 'title': 'Coffee &amp; Tea'},...</td>\n",
       "      <td>3.0</td>\n",
       "      <td>{'latitude': 47.61175, 'longitude': -122.28953}</td>\n",
       "      <td>[]</td>\n",
       "      <td>$</td>\n",
       "      <td>{'address1': '1101 34th Ave', 'address2': '', ...</td>\n",
       "      <td>+12067094497</td>\n",
       "      <td>(206) 709-4497</td>\n",
       "      <td>483.915129</td>\n",
       "    </tr>\n",
       "    <tr>\n",
       "      <th>2</th>\n",
       "      <td>yCLUXtS6a1xMicPSsmdTfA</td>\n",
       "      <td>squirrel-chops-seattle</td>\n",
       "      <td>Squirrel Chops</td>\n",
       "      <td>https://s3-media2.fl.yelpcdn.com/bphoto/0fA2eb...</td>\n",
       "      <td>False</td>\n",
       "      <td>https://www.yelp.com/biz/squirrel-chops-seattl...</td>\n",
       "      <td>90</td>\n",
       "      <td>[{'alias': 'coffee', 'title': 'Coffee &amp; Tea'}]</td>\n",
       "      <td>4.5</td>\n",
       "      <td>{'latitude': 47.6128151, 'longitude': -122.303...</td>\n",
       "      <td>[]</td>\n",
       "      <td>$</td>\n",
       "      <td>{'address1': '2201 E Union St', 'address2': ''...</td>\n",
       "      <td>+12064857017</td>\n",
       "      <td>(206) 485-7017</td>\n",
       "      <td>572.723877</td>\n",
       "    </tr>\n",
       "    <tr>\n",
       "      <th>3</th>\n",
       "      <td>Q8Nlx_FeZ4LW0kdbnHoyrw</td>\n",
       "      <td>qed-coffee-seattle</td>\n",
       "      <td>QED Coffee</td>\n",
       "      <td>https://s3-media3.fl.yelpcdn.com/bphoto/HwagNI...</td>\n",
       "      <td>False</td>\n",
       "      <td>https://www.yelp.com/biz/qed-coffee-seattle?ad...</td>\n",
       "      <td>104</td>\n",
       "      <td>[{'alias': 'coffee', 'title': 'Coffee &amp; Tea'}]</td>\n",
       "      <td>4.5</td>\n",
       "      <td>{'latitude': 47.5896816513796, 'longitude': -1...</td>\n",
       "      <td>[delivery]</td>\n",
       "      <td>$$</td>\n",
       "      <td>{'address1': '1418 31st Ave S', 'address2': ''...</td>\n",
       "      <td>+12062357678</td>\n",
       "      <td>(206) 235-7678</td>\n",
       "      <td>2615.675293</td>\n",
       "    </tr>\n",
       "    <tr>\n",
       "      <th>4</th>\n",
       "      <td>mUtrinuyznLic5wYc09LeA</td>\n",
       "      <td>arosa-cafe-seattle-6</td>\n",
       "      <td>Arosa Cafe</td>\n",
       "      <td>https://s3-media2.fl.yelpcdn.com/bphoto/Sz1XcR...</td>\n",
       "      <td>False</td>\n",
       "      <td>https://www.yelp.com/biz/arosa-cafe-seattle-6?...</td>\n",
       "      <td>105</td>\n",
       "      <td>[{'alias': 'coffee', 'title': 'Coffee &amp; Tea'},...</td>\n",
       "      <td>4.5</td>\n",
       "      <td>{'latitude': 47.62622241003878, 'longitude': -...</td>\n",
       "      <td>[pickup, delivery]</td>\n",
       "      <td>$</td>\n",
       "      <td>{'address1': '3121 E Madison St', 'address2': ...</td>\n",
       "      <td>+12064050605</td>\n",
       "      <td>(206) 405-0605</td>\n",
       "      <td>1487.954980</td>\n",
       "    </tr>\n",
       "    <tr>\n",
       "      <th>...</th>\n",
       "      <td>...</td>\n",
       "      <td>...</td>\n",
       "      <td>...</td>\n",
       "      <td>...</td>\n",
       "      <td>...</td>\n",
       "      <td>...</td>\n",
       "      <td>...</td>\n",
       "      <td>...</td>\n",
       "      <td>...</td>\n",
       "      <td>...</td>\n",
       "      <td>...</td>\n",
       "      <td>...</td>\n",
       "      <td>...</td>\n",
       "      <td>...</td>\n",
       "      <td>...</td>\n",
       "      <td>...</td>\n",
       "    </tr>\n",
       "    <tr>\n",
       "      <th>390</th>\n",
       "      <td>1o2LDytKCmW9PVcYh5q7kw</td>\n",
       "      <td>sabine-cafe-and-market-seattle</td>\n",
       "      <td>Sabine Cafe &amp; Market</td>\n",
       "      <td>https://s3-media1.fl.yelpcdn.com/bphoto/4Y4EVq...</td>\n",
       "      <td>False</td>\n",
       "      <td>https://www.yelp.com/biz/sabine-cafe-and-marke...</td>\n",
       "      <td>151</td>\n",
       "      <td>[{'alias': 'cafes', 'title': 'Cafes'}, {'alias...</td>\n",
       "      <td>4.5</td>\n",
       "      <td>{'latitude': 47.66644, 'longitude': -122.38366}</td>\n",
       "      <td>[pickup, delivery]</td>\n",
       "      <td>$$</td>\n",
       "      <td>{'address1': '5307 Ballard Ave NW', 'address2'...</td>\n",
       "      <td>+12064329986</td>\n",
       "      <td>(206) 432-9986</td>\n",
       "      <td>8869.381920</td>\n",
       "    </tr>\n",
       "    <tr>\n",
       "      <th>391</th>\n",
       "      <td>bVn0L5Tc8-m3UJaVTpfi1A</td>\n",
       "      <td>the-bottom-line-seattle</td>\n",
       "      <td>The Bottom Line</td>\n",
       "      <td>https://s3-media3.fl.yelpcdn.com/bphoto/ccNOJC...</td>\n",
       "      <td>False</td>\n",
       "      <td>https://www.yelp.com/biz/the-bottom-line-seatt...</td>\n",
       "      <td>4</td>\n",
       "      <td>[{'alias': 'coffee', 'title': 'Coffee &amp; Tea'}]</td>\n",
       "      <td>2.5</td>\n",
       "      <td>{'latitude': 47.61081, 'longitude': -122.318727}</td>\n",
       "      <td>[]</td>\n",
       "      <td>NaN</td>\n",
       "      <td>{'address1': '901 12th Ave', 'address2': '', '...</td>\n",
       "      <td></td>\n",
       "      <td></td>\n",
       "      <td>1745.876337</td>\n",
       "    </tr>\n",
       "    <tr>\n",
       "      <th>392</th>\n",
       "      <td>-AAI9NlFqavkQvPBWFd0CQ</td>\n",
       "      <td>rachels-ginger-beer-pike-place-market-seattle</td>\n",
       "      <td>Rachel's Ginger Beer - Pike Place Market</td>\n",
       "      <td>https://s3-media4.fl.yelpcdn.com/bphoto/8qvt3x...</td>\n",
       "      <td>False</td>\n",
       "      <td>https://www.yelp.com/biz/rachels-ginger-beer-p...</td>\n",
       "      <td>1294</td>\n",
       "      <td>[{'alias': 'breweries', 'title': 'Breweries'}]</td>\n",
       "      <td>4.5</td>\n",
       "      <td>{'latitude': 47.6095109038757, 'longitude': -1...</td>\n",
       "      <td>[delivery]</td>\n",
       "      <td>$$</td>\n",
       "      <td>{'address1': '1530 Post Aly', 'address2': None...</td>\n",
       "      <td></td>\n",
       "      <td></td>\n",
       "      <td>3447.949865</td>\n",
       "    </tr>\n",
       "    <tr>\n",
       "      <th>393</th>\n",
       "      <td>rlAuouU38HzyaOaFVeYJEw</td>\n",
       "      <td>anchored-ship-coffee-bar-seattle</td>\n",
       "      <td>Anchored Ship Coffee Bar</td>\n",
       "      <td>https://s3-media2.fl.yelpcdn.com/bphoto/rRGKie...</td>\n",
       "      <td>False</td>\n",
       "      <td>https://www.yelp.com/biz/anchored-ship-coffee-...</td>\n",
       "      <td>155</td>\n",
       "      <td>[{'alias': 'coffee', 'title': 'Coffee &amp; Tea'}]</td>\n",
       "      <td>4.0</td>\n",
       "      <td>{'latitude': 47.6666768, 'longitude': -122.383...</td>\n",
       "      <td>[pickup, delivery]</td>\n",
       "      <td>$$</td>\n",
       "      <td>{'address1': '5308 Ballard Ave NW', 'address2'...</td>\n",
       "      <td>+12069549215</td>\n",
       "      <td>(206) 954-9215</td>\n",
       "      <td>8866.601477</td>\n",
       "    </tr>\n",
       "    <tr>\n",
       "      <th>394</th>\n",
       "      <td>mp3KT0jgce1_4GoFBoGB_A</td>\n",
       "      <td>19-gold-seattle</td>\n",
       "      <td>19 GOLD</td>\n",
       "      <td>https://s3-media3.fl.yelpcdn.com/bphoto/e11T6L...</td>\n",
       "      <td>False</td>\n",
       "      <td>https://www.yelp.com/biz/19-gold-seattle?adjus...</td>\n",
       "      <td>653</td>\n",
       "      <td>[{'alias': 'taiwanese', 'title': 'Taiwanese'},...</td>\n",
       "      <td>4.5</td>\n",
       "      <td>{'latitude': 47.651839, 'longitude': -122.350314}</td>\n",
       "      <td>[pickup, delivery]</td>\n",
       "      <td>$$</td>\n",
       "      <td>{'address1': '3601 Fremont Ave N', 'address2':...</td>\n",
       "      <td>+12065880952</td>\n",
       "      <td>(206) 588-0952</td>\n",
       "      <td>5940.070858</td>\n",
       "    </tr>\n",
       "  </tbody>\n",
       "</table>\n",
       "<p>395 rows × 16 columns</p>\n",
       "</div>"
      ],
      "text/plain": [
       "                         id                                          alias  \\\n",
       "0    yLZborRy-JRAKtTWBk9a9g                  union-coffee-and-wine-seattle   \n",
       "1    9TnUll8eOc5FREIQqrcrFg                          verite-coffee-seattle   \n",
       "2    yCLUXtS6a1xMicPSsmdTfA                         squirrel-chops-seattle   \n",
       "3    Q8Nlx_FeZ4LW0kdbnHoyrw                             qed-coffee-seattle   \n",
       "4    mUtrinuyznLic5wYc09LeA                           arosa-cafe-seattle-6   \n",
       "..                      ...                                            ...   \n",
       "390  1o2LDytKCmW9PVcYh5q7kw                 sabine-cafe-and-market-seattle   \n",
       "391  bVn0L5Tc8-m3UJaVTpfi1A                        the-bottom-line-seattle   \n",
       "392  -AAI9NlFqavkQvPBWFd0CQ  rachels-ginger-beer-pike-place-market-seattle   \n",
       "393  rlAuouU38HzyaOaFVeYJEw               anchored-ship-coffee-bar-seattle   \n",
       "394  mp3KT0jgce1_4GoFBoGB_A                                19-gold-seattle   \n",
       "\n",
       "                                         name  \\\n",
       "0                      Union Coffee and Wine    \n",
       "1                               Verite Coffee   \n",
       "2                              Squirrel Chops   \n",
       "3                                  QED Coffee   \n",
       "4                                  Arosa Cafe   \n",
       "..                                        ...   \n",
       "390                      Sabine Cafe & Market   \n",
       "391                           The Bottom Line   \n",
       "392  Rachel's Ginger Beer - Pike Place Market   \n",
       "393                  Anchored Ship Coffee Bar   \n",
       "394                                   19 GOLD   \n",
       "\n",
       "                                             image_url  is_closed  \\\n",
       "0    https://s3-media2.fl.yelpcdn.com/bphoto/99K9k7...      False   \n",
       "1    https://s3-media4.fl.yelpcdn.com/bphoto/SaSFeE...      False   \n",
       "2    https://s3-media2.fl.yelpcdn.com/bphoto/0fA2eb...      False   \n",
       "3    https://s3-media3.fl.yelpcdn.com/bphoto/HwagNI...      False   \n",
       "4    https://s3-media2.fl.yelpcdn.com/bphoto/Sz1XcR...      False   \n",
       "..                                                 ...        ...   \n",
       "390  https://s3-media1.fl.yelpcdn.com/bphoto/4Y4EVq...      False   \n",
       "391  https://s3-media3.fl.yelpcdn.com/bphoto/ccNOJC...      False   \n",
       "392  https://s3-media4.fl.yelpcdn.com/bphoto/8qvt3x...      False   \n",
       "393  https://s3-media2.fl.yelpcdn.com/bphoto/rRGKie...      False   \n",
       "394  https://s3-media3.fl.yelpcdn.com/bphoto/e11T6L...      False   \n",
       "\n",
       "                                                   url  review_count  \\\n",
       "0    https://www.yelp.com/biz/union-coffee-and-wine...            96   \n",
       "1    https://www.yelp.com/biz/verite-coffee-seattle...            38   \n",
       "2    https://www.yelp.com/biz/squirrel-chops-seattl...            90   \n",
       "3    https://www.yelp.com/biz/qed-coffee-seattle?ad...           104   \n",
       "4    https://www.yelp.com/biz/arosa-cafe-seattle-6?...           105   \n",
       "..                                                 ...           ...   \n",
       "390  https://www.yelp.com/biz/sabine-cafe-and-marke...           151   \n",
       "391  https://www.yelp.com/biz/the-bottom-line-seatt...             4   \n",
       "392  https://www.yelp.com/biz/rachels-ginger-beer-p...          1294   \n",
       "393  https://www.yelp.com/biz/anchored-ship-coffee-...           155   \n",
       "394  https://www.yelp.com/biz/19-gold-seattle?adjus...           653   \n",
       "\n",
       "                                            categories  rating  \\\n",
       "0    [{'alias': 'coffee', 'title': 'Coffee & Tea'},...     4.5   \n",
       "1    [{'alias': 'coffee', 'title': 'Coffee & Tea'},...     3.0   \n",
       "2       [{'alias': 'coffee', 'title': 'Coffee & Tea'}]     4.5   \n",
       "3       [{'alias': 'coffee', 'title': 'Coffee & Tea'}]     4.5   \n",
       "4    [{'alias': 'coffee', 'title': 'Coffee & Tea'},...     4.5   \n",
       "..                                                 ...     ...   \n",
       "390  [{'alias': 'cafes', 'title': 'Cafes'}, {'alias...     4.5   \n",
       "391     [{'alias': 'coffee', 'title': 'Coffee & Tea'}]     2.5   \n",
       "392     [{'alias': 'breweries', 'title': 'Breweries'}]     4.5   \n",
       "393     [{'alias': 'coffee', 'title': 'Coffee & Tea'}]     4.0   \n",
       "394  [{'alias': 'taiwanese', 'title': 'Taiwanese'},...     4.5   \n",
       "\n",
       "                                           coordinates        transactions  \\\n",
       "0      {'latitude': 47.61274, 'longitude': -122.30103}          [delivery]   \n",
       "1      {'latitude': 47.61175, 'longitude': -122.28953}                  []   \n",
       "2    {'latitude': 47.6128151, 'longitude': -122.303...                  []   \n",
       "3    {'latitude': 47.5896816513796, 'longitude': -1...          [delivery]   \n",
       "4    {'latitude': 47.62622241003878, 'longitude': -...  [pickup, delivery]   \n",
       "..                                                 ...                 ...   \n",
       "390    {'latitude': 47.66644, 'longitude': -122.38366}  [pickup, delivery]   \n",
       "391   {'latitude': 47.61081, 'longitude': -122.318727}                  []   \n",
       "392  {'latitude': 47.6095109038757, 'longitude': -1...          [delivery]   \n",
       "393  {'latitude': 47.6666768, 'longitude': -122.383...  [pickup, delivery]   \n",
       "394  {'latitude': 47.651839, 'longitude': -122.350314}  [pickup, delivery]   \n",
       "\n",
       "    price                                           location         phone  \\\n",
       "0       $  {'address1': '2407 E Union St', 'address2': 'S...  +17066314474   \n",
       "1       $  {'address1': '1101 34th Ave', 'address2': '', ...  +12067094497   \n",
       "2       $  {'address1': '2201 E Union St', 'address2': ''...  +12064857017   \n",
       "3      $$  {'address1': '1418 31st Ave S', 'address2': ''...  +12062357678   \n",
       "4       $  {'address1': '3121 E Madison St', 'address2': ...  +12064050605   \n",
       "..    ...                                                ...           ...   \n",
       "390    $$  {'address1': '5307 Ballard Ave NW', 'address2'...  +12064329986   \n",
       "391   NaN  {'address1': '901 12th Ave', 'address2': '', '...                 \n",
       "392    $$  {'address1': '1530 Post Aly', 'address2': None...                 \n",
       "393    $$  {'address1': '5308 Ballard Ave NW', 'address2'...  +12069549215   \n",
       "394    $$  {'address1': '3601 Fremont Ave N', 'address2':...  +12065880952   \n",
       "\n",
       "      display_phone     distance  \n",
       "0    (706) 631-4474   406.415695  \n",
       "1    (206) 709-4497   483.915129  \n",
       "2    (206) 485-7017   572.723877  \n",
       "3    (206) 235-7678  2615.675293  \n",
       "4    (206) 405-0605  1487.954980  \n",
       "..              ...          ...  \n",
       "390  (206) 432-9986  8869.381920  \n",
       "391                  1745.876337  \n",
       "392                  3447.949865  \n",
       "393  (206) 954-9215  8866.601477  \n",
       "394  (206) 588-0952  5940.070858  \n",
       "\n",
       "[395 rows x 16 columns]"
      ]
     },
     "execution_count": 30,
     "metadata": {},
     "output_type": "execute_result"
    }
   ],
   "source": [
    "df"
   ]
  },
  {
   "cell_type": "code",
   "execution_count": 31,
   "metadata": {},
   "outputs": [
    {
     "data": {
      "text/plain": [
       "'Data/Seattle-Coffee.csv.gz'"
      ]
     },
     "execution_count": 31,
     "metadata": {},
     "output_type": "execute_result"
    }
   ],
   "source": [
    "## convert the filename to a .csv.gz\n",
    "csv_file = JSON_FILE.replace('.json','.csv.gz')\n",
    "csv_file"
   ]
  },
  {
   "cell_type": "code",
   "execution_count": 32,
   "metadata": {},
   "outputs": [],
   "source": [
    "## Save it as a compressed csv (to save space)\n",
    "df.to_csv(csv_file, compression='gzip', index=False)"
   ]
  },
  {
   "cell_type": "markdown",
   "metadata": {},
   "source": [
    "## Bonus: compare filesize with os module's `os.path.getsize`"
   ]
  },
  {
   "cell_type": "code",
   "execution_count": 33,
   "metadata": {},
   "outputs": [
    {
     "name": "stdout",
     "output_type": "stream",
     "text": [
      "JSON FILE: 383,031 Bytes\n",
      "CSV.GZ FILE: 54,089 Bytes\n",
      "the csv.gz is 7.081495313279964 times smaller!\n"
     ]
    }
   ],
   "source": [
    "size_json = os.path.getsize(JSON_FILE)\n",
    "size_csv_gz = os.path.getsize(JSON_FILE.replace('.json','.csv.gz'))\n",
    "\n",
    "print(f'JSON FILE: {size_json:,} Bytes')\n",
    "print(f'CSV.GZ FILE: {size_csv_gz:,} Bytes')\n",
    "\n",
    "print(f'the csv.gz is {size_json/size_csv_gz} times smaller!')"
   ]
  },
  {
   "cell_type": "markdown",
   "metadata": {},
   "source": [
    "## Next Class: Processing the Results and Mapping "
   ]
  }
 ],
 "metadata": {
  "colab": {
   "collapsed_sections": [],
   "name": "Test Yelp API Package.ipynb",
   "provenance": []
  },
  "kernelspec": {
   "display_name": "Python (dojo-env)",
   "language": "python",
   "name": "dojo-env"
  },
  "language_info": {
   "codemirror_mode": {
    "name": "ipython",
    "version": 3
   },
   "file_extension": ".py",
   "mimetype": "text/x-python",
   "name": "python",
   "nbconvert_exporter": "python",
   "pygments_lexer": "ipython3",
   "version": "3.8.13"
  },
  "toc": {
   "base_numbering": 1,
   "nav_menu": {},
   "number_sections": false,
   "sideBar": true,
   "skip_h1_title": false,
   "title_cell": "Table of Contents",
   "title_sidebar": "Contents",
   "toc_cell": false,
   "toc_position": {
    "height": "calc(100% - 180px)",
    "left": "10px",
    "top": "150px",
    "width": "165px"
   },
   "toc_section_display": true,
   "toc_window_display": true
  }
 },
 "nbformat": 4,
 "nbformat_minor": 1
}
